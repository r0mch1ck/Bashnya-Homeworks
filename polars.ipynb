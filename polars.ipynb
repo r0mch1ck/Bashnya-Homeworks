{
 "cells": [
  {
   "metadata": {
    "ExecuteTime": {
     "end_time": "2024-10-24T10:23:59.839413Z",
     "start_time": "2024-10-24T10:23:57.725251Z"
    }
   },
   "cell_type": "code",
   "source": [
    "import polars as pl\n",
    "import pandas as pd\n",
    "import numpy as np"
   ],
   "id": "7b4a9896abe796bb",
   "outputs": [],
   "execution_count": 1
  },
  {
   "metadata": {},
   "cell_type": "markdown",
   "source": "## Сравнение времени работы Pandas и Polars",
   "id": "22e7299c32c9e9"
  },
  {
   "metadata": {
    "ExecuteTime": {
     "end_time": "2024-10-24T10:24:04.089271Z",
     "start_time": "2024-10-24T10:24:01.276424Z"
    }
   },
   "cell_type": "code",
   "source": [
    "n = 10**7\n",
    "data = {\n",
    "    'user_id': np.random.randint(1, 100000, n),\n",
    "    'login_time': pd.date_range(start='2024-10-01', periods=n, freq='s'),\n",
    "    'logout_time': pd.date_range(start='2024-10-01', periods=n, freq='s') + pd.to_timedelta(np.random.randint(0, 10000, n), unit='s'),\n",
    "    'value': np.random.randn(n)\n",
    "}"
   ],
   "id": "7250a3058588ab89",
   "outputs": [],
   "execution_count": 2
  },
  {
   "metadata": {
    "ExecuteTime": {
     "end_time": "2024-10-24T10:24:06.673931Z",
     "start_time": "2024-10-24T10:24:05.374991Z"
    }
   },
   "cell_type": "code",
   "source": [
    "df_pandas = pd.DataFrame(data)\n",
    "df_pandas.head(5)"
   ],
   "id": "d556cfe8a1af610c",
   "outputs": [
    {
     "data": {
      "text/plain": [
       "   user_id          login_time         logout_time     value\n",
       "0    43779 2024-10-01 00:00:00 2024-10-01 02:33:15 -1.677755\n",
       "1    41814 2024-10-01 00:00:01 2024-10-01 01:52:33  0.700644\n",
       "2    69023 2024-10-01 00:00:02 2024-10-01 01:31:06  1.105641\n",
       "3    69030 2024-10-01 00:00:03 2024-10-01 01:34:33 -0.979762\n",
       "4    34817 2024-10-01 00:00:04 2024-10-01 00:58:17  0.093287"
      ],
      "text/html": [
       "<div>\n",
       "<style scoped>\n",
       "    .dataframe tbody tr th:only-of-type {\n",
       "        vertical-align: middle;\n",
       "    }\n",
       "\n",
       "    .dataframe tbody tr th {\n",
       "        vertical-align: top;\n",
       "    }\n",
       "\n",
       "    .dataframe thead th {\n",
       "        text-align: right;\n",
       "    }\n",
       "</style>\n",
       "<table border=\"1\" class=\"dataframe\">\n",
       "  <thead>\n",
       "    <tr style=\"text-align: right;\">\n",
       "      <th></th>\n",
       "      <th>user_id</th>\n",
       "      <th>login_time</th>\n",
       "      <th>logout_time</th>\n",
       "      <th>value</th>\n",
       "    </tr>\n",
       "  </thead>\n",
       "  <tbody>\n",
       "    <tr>\n",
       "      <th>0</th>\n",
       "      <td>43779</td>\n",
       "      <td>2024-10-01 00:00:00</td>\n",
       "      <td>2024-10-01 02:33:15</td>\n",
       "      <td>-1.677755</td>\n",
       "    </tr>\n",
       "    <tr>\n",
       "      <th>1</th>\n",
       "      <td>41814</td>\n",
       "      <td>2024-10-01 00:00:01</td>\n",
       "      <td>2024-10-01 01:52:33</td>\n",
       "      <td>0.700644</td>\n",
       "    </tr>\n",
       "    <tr>\n",
       "      <th>2</th>\n",
       "      <td>69023</td>\n",
       "      <td>2024-10-01 00:00:02</td>\n",
       "      <td>2024-10-01 01:31:06</td>\n",
       "      <td>1.105641</td>\n",
       "    </tr>\n",
       "    <tr>\n",
       "      <th>3</th>\n",
       "      <td>69030</td>\n",
       "      <td>2024-10-01 00:00:03</td>\n",
       "      <td>2024-10-01 01:34:33</td>\n",
       "      <td>-0.979762</td>\n",
       "    </tr>\n",
       "    <tr>\n",
       "      <th>4</th>\n",
       "      <td>34817</td>\n",
       "      <td>2024-10-01 00:00:04</td>\n",
       "      <td>2024-10-01 00:58:17</td>\n",
       "      <td>0.093287</td>\n",
       "    </tr>\n",
       "  </tbody>\n",
       "</table>\n",
       "</div>"
      ]
     },
     "execution_count": 3,
     "metadata": {},
     "output_type": "execute_result"
    }
   ],
   "execution_count": 3
  },
  {
   "metadata": {
    "ExecuteTime": {
     "end_time": "2024-10-24T10:24:07.051062Z",
     "start_time": "2024-10-24T10:24:06.800701Z"
    }
   },
   "cell_type": "code",
   "source": [
    "df_polars = pl.DataFrame(data)\n",
    "df_polars.head(5)"
   ],
   "id": "518fafe976f7c8f3",
   "outputs": [
    {
     "data": {
      "text/plain": [
       "shape: (5, 4)\n",
       "┌─────────┬─────────────────────┬─────────────────────┬───────────┐\n",
       "│ user_id ┆ login_time          ┆ logout_time         ┆ value     │\n",
       "│ ---     ┆ ---                 ┆ ---                 ┆ ---       │\n",
       "│ i64     ┆ datetime[ns]        ┆ datetime[ns]        ┆ f64       │\n",
       "╞═════════╪═════════════════════╪═════════════════════╪═══════════╡\n",
       "│ 43779   ┆ 2024-10-01 00:00:00 ┆ 2024-10-01 02:33:15 ┆ -1.677755 │\n",
       "│ 41814   ┆ 2024-10-01 00:00:01 ┆ 2024-10-01 01:52:33 ┆ 0.700644  │\n",
       "│ 69023   ┆ 2024-10-01 00:00:02 ┆ 2024-10-01 01:31:06 ┆ 1.105641  │\n",
       "│ 69030   ┆ 2024-10-01 00:00:03 ┆ 2024-10-01 01:34:33 ┆ -0.979762 │\n",
       "│ 34817   ┆ 2024-10-01 00:00:04 ┆ 2024-10-01 00:58:17 ┆ 0.093287  │\n",
       "└─────────┴─────────────────────┴─────────────────────┴───────────┘"
      ],
      "text/html": [
       "<div><style>\n",
       ".dataframe > thead > tr,\n",
       ".dataframe > tbody > tr {\n",
       "  text-align: right;\n",
       "  white-space: pre-wrap;\n",
       "}\n",
       "</style>\n",
       "<small>shape: (5, 4)</small><table border=\"1\" class=\"dataframe\"><thead><tr><th>user_id</th><th>login_time</th><th>logout_time</th><th>value</th></tr><tr><td>i64</td><td>datetime[ns]</td><td>datetime[ns]</td><td>f64</td></tr></thead><tbody><tr><td>43779</td><td>2024-10-01 00:00:00</td><td>2024-10-01 02:33:15</td><td>-1.677755</td></tr><tr><td>41814</td><td>2024-10-01 00:00:01</td><td>2024-10-01 01:52:33</td><td>0.700644</td></tr><tr><td>69023</td><td>2024-10-01 00:00:02</td><td>2024-10-01 01:31:06</td><td>1.105641</td></tr><tr><td>69030</td><td>2024-10-01 00:00:03</td><td>2024-10-01 01:34:33</td><td>-0.979762</td></tr><tr><td>34817</td><td>2024-10-01 00:00:04</td><td>2024-10-01 00:58:17</td><td>0.093287</td></tr></tbody></table></div>"
      ]
     },
     "execution_count": 4,
     "metadata": {},
     "output_type": "execute_result"
    }
   ],
   "execution_count": 4
  },
  {
   "metadata": {},
   "cell_type": "markdown",
   "source": "### Pandas",
   "id": "201c00a52776e0b1"
  },
  {
   "metadata": {
    "ExecuteTime": {
     "end_time": "2024-10-23T18:46:05.486052Z",
     "start_time": "2024-10-23T18:46:04.085588Z"
    }
   },
   "cell_type": "code",
   "source": [
    "%%time\n",
    "\n",
    "df_pandas_filtered = df_pandas[df_pandas['value'] > 0.5]\n",
    "agg_pandas = df_pandas_filtered.groupby('user_id').agg({'value': 'mean'}).reset_index()"
   ],
   "id": "157e35f56421afe3",
   "outputs": [
    {
     "name": "stdout",
     "output_type": "stream",
     "text": [
      "CPU times: user 636 ms, sys: 636 ms, total: 1.27 s\n",
      "Wall time: 1.39 s\n"
     ]
    }
   ],
   "execution_count": 5
  },
  {
   "metadata": {},
   "cell_type": "markdown",
   "source": "### Polars",
   "id": "7da7c32589608354"
  },
  {
   "metadata": {
    "ExecuteTime": {
     "end_time": "2024-10-23T18:46:07.514517Z",
     "start_time": "2024-10-23T18:46:06.898856Z"
    }
   },
   "cell_type": "code",
   "source": [
    "%%time\n",
    "\n",
    "df_polars_filtered = df_polars.filter(pl.col('value') > 0.5)\n",
    "agg_polars = df_polars_filtered.group_by('user_id').agg(pl.col('value').mean())"
   ],
   "id": "a7f005aba1be50ca",
   "outputs": [
    {
     "name": "stdout",
     "output_type": "stream",
     "text": [
      "CPU times: user 702 ms, sys: 436 ms, total: 1.14 s\n",
      "Wall time: 611 ms\n"
     ]
    }
   ],
   "execution_count": 6
  },
  {
   "metadata": {},
   "cell_type": "markdown",
   "source": "## А теперь немного познакомимся с Polars",
   "id": "a11ec0f376bf6434"
  },
  {
   "metadata": {},
   "cell_type": "markdown",
   "source": "Загрузим датасет",
   "id": "efb00164dd0d5b45"
  },
  {
   "metadata": {},
   "cell_type": "markdown",
   "source": [
    "Датасет взят с этого соревнования на Kaggle\n",
    "\n",
    "https://www.kaggle.com/datasets/mkechinov/ecommerce-purchase-history-from-electronics-store"
   ],
   "id": "ce2cd23fe28aa7f5"
  },
  {
   "metadata": {
    "ExecuteTime": {
     "end_time": "2024-10-24T10:29:53.104830Z",
     "start_time": "2024-10-24T10:24:13.690034Z"
    }
   },
   "cell_type": "code",
   "source": "df = pl.read_csv(\"kz.csv\")",
   "id": "5047c02654512764",
   "outputs": [],
   "execution_count": 5
  },
  {
   "metadata": {
    "ExecuteTime": {
     "end_time": "2024-10-24T10:29:53.331580Z",
     "start_time": "2024-10-24T10:29:53.294515Z"
    }
   },
   "cell_type": "code",
   "source": "df.shape",
   "id": "a9a44372930d74d7",
   "outputs": [
    {
     "data": {
      "text/plain": [
       "(2633521, 8)"
      ]
     },
     "execution_count": 6,
     "metadata": {},
     "output_type": "execute_result"
    }
   ],
   "execution_count": 6
  },
  {
   "metadata": {
    "ExecuteTime": {
     "end_time": "2024-10-24T10:29:54.094244Z",
     "start_time": "2024-10-24T10:29:54.085398Z"
    }
   },
   "cell_type": "code",
   "source": "df.head(5)",
   "id": "838738fea3deafd0",
   "outputs": [
    {
     "data": {
      "text/plain": [
       "shape: (5, 8)\n",
       "┌─────────────┬─────────────┬────────────┬────────────┬────────────┬─────────┬────────┬────────────┐\n",
       "│ event_time  ┆ order_id    ┆ product_id ┆ category_i ┆ category_c ┆ brand   ┆ price  ┆ user_id    │\n",
       "│ ---         ┆ ---         ┆ ---        ┆ d          ┆ ode        ┆ ---     ┆ ---    ┆ ---        │\n",
       "│ str         ┆ i64         ┆ i64        ┆ ---        ┆ ---        ┆ str     ┆ f64    ┆ i64        │\n",
       "│             ┆             ┆            ┆ i64        ┆ str        ┆         ┆        ┆            │\n",
       "╞═════════════╪═════════════╪════════════╪════════════╪════════════╪═════════╪════════╪════════════╡\n",
       "│ 2020-04-24  ┆ 22943599320 ┆ 1515966223 ┆ 2268105426 ┆ electronic ┆ samsung ┆ 162.01 ┆ 1515915625 │\n",
       "│ 11:50:39    ┆ 54536986    ┆ 509089906  ┆ 648170900  ┆ s.tablet   ┆         ┆        ┆ 441993984  │\n",
       "│ UTC         ┆             ┆            ┆            ┆            ┆         ┆        ┆            │\n",
       "│ 2020-04-24  ┆ 22943599320 ┆ 1515966223 ┆ 2268105426 ┆ electronic ┆ samsung ┆ 162.01 ┆ 1515915625 │\n",
       "│ 11:50:39    ┆ 54536986    ┆ 509089906  ┆ 648170900  ┆ s.tablet   ┆         ┆        ┆ 441993984  │\n",
       "│ UTC         ┆             ┆            ┆            ┆            ┆         ┆        ┆            │\n",
       "│ 2020-04-24  ┆ 22944440240 ┆ 2273948319 ┆ 2268105430 ┆ electronic ┆ huawei  ┆ 77.52  ┆ 1515915625 │\n",
       "│ 14:37:43    ┆ 58086220    ┆ 057183658  ┆ 162997728  ┆ s.audio.he ┆         ┆        ┆ 447879434  │\n",
       "│ UTC         ┆             ┆            ┆            ┆ adphone    ┆         ┆        ┆            │\n",
       "│ 2020-04-24  ┆ 22944440240 ┆ 2273948319 ┆ 2268105430 ┆ electronic ┆ huawei  ┆ 77.52  ┆ 1515915625 │\n",
       "│ 14:37:43    ┆ 58086220    ┆ 057183658  ┆ 162997728  ┆ s.audio.he ┆         ┆        ┆ 447879434  │\n",
       "│ UTC         ┆             ┆            ┆            ┆ adphone    ┆         ┆        ┆            │\n",
       "│ 2020-04-24  ┆ 22945842631 ┆ 2273948316 ┆ 2268105471 ┆ null       ┆ karcher ┆ 217.57 ┆ 1515915625 │\n",
       "│ 19:16:21    ┆ 54074236    ┆ 817424439  ┆ 367840086  ┆            ┆         ┆        ┆ 443148002  │\n",
       "│ UTC         ┆             ┆            ┆            ┆            ┆         ┆        ┆            │\n",
       "└─────────────┴─────────────┴────────────┴────────────┴────────────┴─────────┴────────┴────────────┘"
      ],
      "text/html": [
       "<div><style>\n",
       ".dataframe > thead > tr,\n",
       ".dataframe > tbody > tr {\n",
       "  text-align: right;\n",
       "  white-space: pre-wrap;\n",
       "}\n",
       "</style>\n",
       "<small>shape: (5, 8)</small><table border=\"1\" class=\"dataframe\"><thead><tr><th>event_time</th><th>order_id</th><th>product_id</th><th>category_id</th><th>category_code</th><th>brand</th><th>price</th><th>user_id</th></tr><tr><td>str</td><td>i64</td><td>i64</td><td>i64</td><td>str</td><td>str</td><td>f64</td><td>i64</td></tr></thead><tbody><tr><td>&quot;2020-04-24 11:50:39 UTC&quot;</td><td>2294359932054536986</td><td>1515966223509089906</td><td>2268105426648170900</td><td>&quot;electronics.tablet&quot;</td><td>&quot;samsung&quot;</td><td>162.01</td><td>1515915625441993984</td></tr><tr><td>&quot;2020-04-24 11:50:39 UTC&quot;</td><td>2294359932054536986</td><td>1515966223509089906</td><td>2268105426648170900</td><td>&quot;electronics.tablet&quot;</td><td>&quot;samsung&quot;</td><td>162.01</td><td>1515915625441993984</td></tr><tr><td>&quot;2020-04-24 14:37:43 UTC&quot;</td><td>2294444024058086220</td><td>2273948319057183658</td><td>2268105430162997728</td><td>&quot;electronics.audio.headphone&quot;</td><td>&quot;huawei&quot;</td><td>77.52</td><td>1515915625447879434</td></tr><tr><td>&quot;2020-04-24 14:37:43 UTC&quot;</td><td>2294444024058086220</td><td>2273948319057183658</td><td>2268105430162997728</td><td>&quot;electronics.audio.headphone&quot;</td><td>&quot;huawei&quot;</td><td>77.52</td><td>1515915625447879434</td></tr><tr><td>&quot;2020-04-24 19:16:21 UTC&quot;</td><td>2294584263154074236</td><td>2273948316817424439</td><td>2268105471367840086</td><td>null</td><td>&quot;karcher&quot;</td><td>217.57</td><td>1515915625443148002</td></tr></tbody></table></div>"
      ]
     },
     "execution_count": 7,
     "metadata": {},
     "output_type": "execute_result"
    }
   ],
   "execution_count": 7
  },
  {
   "metadata": {
    "ExecuteTime": {
     "end_time": "2024-10-24T10:29:54.611067Z",
     "start_time": "2024-10-24T10:29:54.587399Z"
    }
   },
   "cell_type": "code",
   "source": "df.dtypes",
   "id": "1e1ddf42bbed2256",
   "outputs": [
    {
     "data": {
      "text/plain": [
       "[String, Int64, Int64, Int64, String, String, Float64, Int64]"
      ]
     },
     "execution_count": 8,
     "metadata": {},
     "output_type": "execute_result"
    }
   ],
   "execution_count": 8
  },
  {
   "metadata": {},
   "cell_type": "markdown",
   "source": "> В Polars можно индексироваться, используя `[]`, но это является ***антипаттерном***",
   "id": "a5295381e15017f4"
  },
  {
   "metadata": {
    "ExecuteTime": {
     "end_time": "2024-10-24T10:29:55.227771Z",
     "start_time": "2024-10-24T10:29:55.204057Z"
    }
   },
   "cell_type": "code",
   "source": "df[0,:]",
   "id": "4158a5724b422d13",
   "outputs": [
    {
     "data": {
      "text/plain": [
       "shape: (1, 8)\n",
       "┌─────────────┬─────────────┬────────────┬────────────┬────────────┬─────────┬────────┬────────────┐\n",
       "│ event_time  ┆ order_id    ┆ product_id ┆ category_i ┆ category_c ┆ brand   ┆ price  ┆ user_id    │\n",
       "│ ---         ┆ ---         ┆ ---        ┆ d          ┆ ode        ┆ ---     ┆ ---    ┆ ---        │\n",
       "│ str         ┆ i64         ┆ i64        ┆ ---        ┆ ---        ┆ str     ┆ f64    ┆ i64        │\n",
       "│             ┆             ┆            ┆ i64        ┆ str        ┆         ┆        ┆            │\n",
       "╞═════════════╪═════════════╪════════════╪════════════╪════════════╪═════════╪════════╪════════════╡\n",
       "│ 2020-04-24  ┆ 22943599320 ┆ 1515966223 ┆ 2268105426 ┆ electronic ┆ samsung ┆ 162.01 ┆ 1515915625 │\n",
       "│ 11:50:39    ┆ 54536986    ┆ 509089906  ┆ 648170900  ┆ s.tablet   ┆         ┆        ┆ 441993984  │\n",
       "│ UTC         ┆             ┆            ┆            ┆            ┆         ┆        ┆            │\n",
       "└─────────────┴─────────────┴────────────┴────────────┴────────────┴─────────┴────────┴────────────┘"
      ],
      "text/html": [
       "<div><style>\n",
       ".dataframe > thead > tr,\n",
       ".dataframe > tbody > tr {\n",
       "  text-align: right;\n",
       "  white-space: pre-wrap;\n",
       "}\n",
       "</style>\n",
       "<small>shape: (1, 8)</small><table border=\"1\" class=\"dataframe\"><thead><tr><th>event_time</th><th>order_id</th><th>product_id</th><th>category_id</th><th>category_code</th><th>brand</th><th>price</th><th>user_id</th></tr><tr><td>str</td><td>i64</td><td>i64</td><td>i64</td><td>str</td><td>str</td><td>f64</td><td>i64</td></tr></thead><tbody><tr><td>&quot;2020-04-24 11:50:39 UTC&quot;</td><td>2294359932054536986</td><td>1515966223509089906</td><td>2268105426648170900</td><td>&quot;electronics.tablet&quot;</td><td>&quot;samsung&quot;</td><td>162.01</td><td>1515915625441993984</td></tr></tbody></table></div>"
      ]
     },
     "execution_count": 9,
     "metadata": {},
     "output_type": "execute_result"
    }
   ],
   "execution_count": 9
  },
  {
   "metadata": {
    "ExecuteTime": {
     "end_time": "2024-10-24T10:29:55.957627Z",
     "start_time": "2024-10-24T10:29:55.946729Z"
    }
   },
   "cell_type": "code",
   "source": "df[:,['event_time', \"price\"]].head()",
   "id": "1eb5a43acc946372",
   "outputs": [
    {
     "data": {
      "text/plain": [
       "shape: (5, 2)\n",
       "┌─────────────────────────┬────────┐\n",
       "│ event_time              ┆ price  │\n",
       "│ ---                     ┆ ---    │\n",
       "│ str                     ┆ f64    │\n",
       "╞═════════════════════════╪════════╡\n",
       "│ 2020-04-24 11:50:39 UTC ┆ 162.01 │\n",
       "│ 2020-04-24 11:50:39 UTC ┆ 162.01 │\n",
       "│ 2020-04-24 14:37:43 UTC ┆ 77.52  │\n",
       "│ 2020-04-24 14:37:43 UTC ┆ 77.52  │\n",
       "│ 2020-04-24 19:16:21 UTC ┆ 217.57 │\n",
       "└─────────────────────────┴────────┘"
      ],
      "text/html": [
       "<div><style>\n",
       ".dataframe > thead > tr,\n",
       ".dataframe > tbody > tr {\n",
       "  text-align: right;\n",
       "  white-space: pre-wrap;\n",
       "}\n",
       "</style>\n",
       "<small>shape: (5, 2)</small><table border=\"1\" class=\"dataframe\"><thead><tr><th>event_time</th><th>price</th></tr><tr><td>str</td><td>f64</td></tr></thead><tbody><tr><td>&quot;2020-04-24 11:50:39 UTC&quot;</td><td>162.01</td></tr><tr><td>&quot;2020-04-24 11:50:39 UTC&quot;</td><td>162.01</td></tr><tr><td>&quot;2020-04-24 14:37:43 UTC&quot;</td><td>77.52</td></tr><tr><td>&quot;2020-04-24 14:37:43 UTC&quot;</td><td>77.52</td></tr><tr><td>&quot;2020-04-24 19:16:21 UTC&quot;</td><td>217.57</td></tr></tbody></table></div>"
      ]
     },
     "execution_count": 10,
     "metadata": {},
     "output_type": "execute_result"
    }
   ],
   "execution_count": 10
  },
  {
   "metadata": {
    "ExecuteTime": {
     "end_time": "2024-10-24T12:23:30.953600Z",
     "start_time": "2024-10-24T12:23:30.948097Z"
    }
   },
   "cell_type": "code",
   "source": "df.row(1)",
   "id": "68b37857afa6aa18",
   "outputs": [
    {
     "data": {
      "text/plain": [
       "('2020-04-24 11:50:39 UTC',\n",
       " 2294359932054536986,\n",
       " 1515966223509089906,\n",
       " 2268105426648170900,\n",
       " 'electronics.tablet',\n",
       " 'samsung',\n",
       " 162.01,\n",
       " 1515915625441993984)"
      ]
     },
     "execution_count": 39,
     "metadata": {},
     "output_type": "execute_result"
    }
   ],
   "execution_count": 39
  },
  {
   "metadata": {
    "ExecuteTime": {
     "end_time": "2024-10-24T12:20:51.896377Z",
     "start_time": "2024-10-24T12:20:51.350518Z"
    }
   },
   "cell_type": "code",
   "source": [
    "# Работает, но так лучше не делать\n",
    "# df.filter(df[\"price\"] > 100)\n",
    "\n",
    "# Лучше делать так \n",
    "df.filter(pl.col(\"price\") > 1000).head()"
   ],
   "id": "1a0009c9fd3b56a2",
   "outputs": [
    {
     "data": {
      "text/plain": [
       "shape: (5, 8)\n",
       "┌─────────────┬─────────────┬─────────────┬────────────┬────────────┬───────┬─────────┬────────────┐\n",
       "│ event_time  ┆ order_id    ┆ product_id  ┆ category_i ┆ category_c ┆ brand ┆ price   ┆ user_id    │\n",
       "│ ---         ┆ ---         ┆ ---         ┆ d          ┆ ode        ┆ ---   ┆ ---     ┆ ---        │\n",
       "│ str         ┆ i64         ┆ i64         ┆ ---        ┆ ---        ┆ str   ┆ f64     ┆ i64        │\n",
       "│             ┆             ┆             ┆ i64        ┆ str        ┆       ┆         ┆            │\n",
       "╞═════════════╪═════════════╪═════════════╪════════════╪════════════╪═══════╪═════════╪════════════╡\n",
       "│ 2020-04-26  ┆ 22957405947 ┆ 15159662235 ┆ 2268105428 ┆ electronic ┆ apple ┆ 1387.01 ┆ 1515915625 │\n",
       "│ 09:33:47    ┆ 49702229    ┆ 09104892    ┆ 166508982  ┆ s.smartpho ┆       ┆         ┆ 448766480  │\n",
       "│ UTC         ┆             ┆             ┆            ┆ ne         ┆       ┆         ┆            │\n",
       "│ 2020-04-26  ┆ 22957405947 ┆ 15159662235 ┆ 2268105428 ┆ electronic ┆ apple ┆ 1387.01 ┆ 1515915625 │\n",
       "│ 09:33:47    ┆ 49702229    ┆ 09104892    ┆ 166508982  ┆ s.smartpho ┆       ┆         ┆ 448766480  │\n",
       "│ UTC         ┆             ┆             ┆            ┆ ne         ┆       ┆         ┆            │\n",
       "│ 2020-04-26  ┆ 22957405947 ┆ 15159662235 ┆ 2268105428 ┆ electronic ┆ apple ┆ 1387.01 ┆ 1515915625 │\n",
       "│ 09:33:47    ┆ 49702229    ┆ 09104892    ┆ 166508982  ┆ s.smartpho ┆       ┆         ┆ 448766480  │\n",
       "│ UTC         ┆             ┆             ┆            ┆ ne         ┆       ┆         ┆            │\n",
       "│ 2020-04-26  ┆ 22957405947 ┆ 15159662235 ┆ 2268105428 ┆ electronic ┆ apple ┆ 1387.01 ┆ 1515915625 │\n",
       "│ 09:33:47    ┆ 49702229    ┆ 09104892    ┆ 166508982  ┆ s.smartpho ┆       ┆         ┆ 448766480  │\n",
       "│ UTC         ┆             ┆             ┆            ┆ ne         ┆       ┆         ┆            │\n",
       "│ 2020-04-29  ┆ 22981659961 ┆ 15159662235 ┆ 2268105428 ┆ electronic ┆ apple ┆ 1433.54 ┆ 1515915625 │\n",
       "│ 17:52:37    ┆ 01304765    ┆ 09089406    ┆ 166508982  ┆ s.smartpho ┆       ┆         ┆ 452182512  │\n",
       "│ UTC         ┆             ┆             ┆            ┆ ne         ┆       ┆         ┆            │\n",
       "└─────────────┴─────────────┴─────────────┴────────────┴────────────┴───────┴─────────┴────────────┘"
      ],
      "text/html": [
       "<div><style>\n",
       ".dataframe > thead > tr,\n",
       ".dataframe > tbody > tr {\n",
       "  text-align: right;\n",
       "  white-space: pre-wrap;\n",
       "}\n",
       "</style>\n",
       "<small>shape: (5, 8)</small><table border=\"1\" class=\"dataframe\"><thead><tr><th>event_time</th><th>order_id</th><th>product_id</th><th>category_id</th><th>category_code</th><th>brand</th><th>price</th><th>user_id</th></tr><tr><td>str</td><td>i64</td><td>i64</td><td>i64</td><td>str</td><td>str</td><td>f64</td><td>i64</td></tr></thead><tbody><tr><td>&quot;2020-04-26 09:33:47 UTC&quot;</td><td>2295740594749702229</td><td>1515966223509104892</td><td>2268105428166508982</td><td>&quot;electronics.smartphone&quot;</td><td>&quot;apple&quot;</td><td>1387.01</td><td>1515915625448766480</td></tr><tr><td>&quot;2020-04-26 09:33:47 UTC&quot;</td><td>2295740594749702229</td><td>1515966223509104892</td><td>2268105428166508982</td><td>&quot;electronics.smartphone&quot;</td><td>&quot;apple&quot;</td><td>1387.01</td><td>1515915625448766480</td></tr><tr><td>&quot;2020-04-26 09:33:47 UTC&quot;</td><td>2295740594749702229</td><td>1515966223509104892</td><td>2268105428166508982</td><td>&quot;electronics.smartphone&quot;</td><td>&quot;apple&quot;</td><td>1387.01</td><td>1515915625448766480</td></tr><tr><td>&quot;2020-04-26 09:33:47 UTC&quot;</td><td>2295740594749702229</td><td>1515966223509104892</td><td>2268105428166508982</td><td>&quot;electronics.smartphone&quot;</td><td>&quot;apple&quot;</td><td>1387.01</td><td>1515915625448766480</td></tr><tr><td>&quot;2020-04-29 17:52:37 UTC&quot;</td><td>2298165996101304765</td><td>1515966223509089406</td><td>2268105428166508982</td><td>&quot;electronics.smartphone&quot;</td><td>&quot;apple&quot;</td><td>1433.54</td><td>1515915625452182512</td></tr></tbody></table></div>"
      ]
     },
     "execution_count": 17,
     "metadata": {},
     "output_type": "execute_result"
    }
   ],
   "execution_count": 17
  },
  {
   "metadata": {},
   "cell_type": "markdown",
   "source": "В Polars SQL-подобный синтаксис",
   "id": "e1f998d938643d40"
  },
  {
   "metadata": {
    "ExecuteTime": {
     "end_time": "2024-10-24T12:20:53.289390Z",
     "start_time": "2024-10-24T12:20:53.279709Z"
    }
   },
   "cell_type": "code",
   "source": "df.select(['brand', 'price']).head()",
   "id": "65bc060b1d51ef32",
   "outputs": [
    {
     "data": {
      "text/plain": [
       "shape: (5, 2)\n",
       "┌─────────┬────────┐\n",
       "│ brand   ┆ price  │\n",
       "│ ---     ┆ ---    │\n",
       "│ str     ┆ f64    │\n",
       "╞═════════╪════════╡\n",
       "│ samsung ┆ 162.01 │\n",
       "│ samsung ┆ 162.01 │\n",
       "│ huawei  ┆ 77.52  │\n",
       "│ huawei  ┆ 77.52  │\n",
       "│ karcher ┆ 217.57 │\n",
       "└─────────┴────────┘"
      ],
      "text/html": [
       "<div><style>\n",
       ".dataframe > thead > tr,\n",
       ".dataframe > tbody > tr {\n",
       "  text-align: right;\n",
       "  white-space: pre-wrap;\n",
       "}\n",
       "</style>\n",
       "<small>shape: (5, 2)</small><table border=\"1\" class=\"dataframe\"><thead><tr><th>brand</th><th>price</th></tr><tr><td>str</td><td>f64</td></tr></thead><tbody><tr><td>&quot;samsung&quot;</td><td>162.01</td></tr><tr><td>&quot;samsung&quot;</td><td>162.01</td></tr><tr><td>&quot;huawei&quot;</td><td>77.52</td></tr><tr><td>&quot;huawei&quot;</td><td>77.52</td></tr><tr><td>&quot;karcher&quot;</td><td>217.57</td></tr></tbody></table></div>"
      ]
     },
     "execution_count": 18,
     "metadata": {},
     "output_type": "execute_result"
    }
   ],
   "execution_count": 18
  },
  {
   "metadata": {},
   "cell_type": "markdown",
   "source": "Сохраняет все оригинальные колонки и добавляет новую. Аналогично `SELECT *` в SQL",
   "id": "716f7e7e09522ed8"
  },
  {
   "metadata": {
    "ExecuteTime": {
     "end_time": "2024-10-24T12:20:54.039203Z",
     "start_time": "2024-10-24T12:20:54.003274Z"
    }
   },
   "cell_type": "code",
   "source": [
    "df.with_columns([\n",
    "    (pl.col(\"price\") * 100).alias(\"price_x_100\")\n",
    "]).head()"
   ],
   "id": "f7a2607b0d948aa9",
   "outputs": [
    {
     "data": {
      "text/plain": [
       "shape: (5, 9)\n",
       "┌────────────┬────────────┬────────────┬────────────┬───┬─────────┬────────┬───────────┬───────────┐\n",
       "│ event_time ┆ order_id   ┆ product_id ┆ category_i ┆ … ┆ brand   ┆ price  ┆ user_id   ┆ price_x_1 │\n",
       "│ ---        ┆ ---        ┆ ---        ┆ d          ┆   ┆ ---     ┆ ---    ┆ ---       ┆ 00        │\n",
       "│ str        ┆ i64        ┆ i64        ┆ ---        ┆   ┆ str     ┆ f64    ┆ i64       ┆ ---       │\n",
       "│            ┆            ┆            ┆ i64        ┆   ┆         ┆        ┆           ┆ f64       │\n",
       "╞════════════╪════════════╪════════════╪════════════╪═══╪═════════╪════════╪═══════════╪═══════════╡\n",
       "│ 2020-04-24 ┆ 2294359932 ┆ 1515966223 ┆ 2268105426 ┆ … ┆ samsung ┆ 162.01 ┆ 151591562 ┆ 16201.0   │\n",
       "│ 11:50:39   ┆ 054536986  ┆ 509089906  ┆ 648170900  ┆   ┆         ┆        ┆ 544199398 ┆           │\n",
       "│ UTC        ┆            ┆            ┆            ┆   ┆         ┆        ┆ 4         ┆           │\n",
       "│ 2020-04-24 ┆ 2294359932 ┆ 1515966223 ┆ 2268105426 ┆ … ┆ samsung ┆ 162.01 ┆ 151591562 ┆ 16201.0   │\n",
       "│ 11:50:39   ┆ 054536986  ┆ 509089906  ┆ 648170900  ┆   ┆         ┆        ┆ 544199398 ┆           │\n",
       "│ UTC        ┆            ┆            ┆            ┆   ┆         ┆        ┆ 4         ┆           │\n",
       "│ 2020-04-24 ┆ 2294444024 ┆ 2273948319 ┆ 2268105430 ┆ … ┆ huawei  ┆ 77.52  ┆ 151591562 ┆ 7752.0    │\n",
       "│ 14:37:43   ┆ 058086220  ┆ 057183658  ┆ 162997728  ┆   ┆         ┆        ┆ 544787943 ┆           │\n",
       "│ UTC        ┆            ┆            ┆            ┆   ┆         ┆        ┆ 4         ┆           │\n",
       "│ 2020-04-24 ┆ 2294444024 ┆ 2273948319 ┆ 2268105430 ┆ … ┆ huawei  ┆ 77.52  ┆ 151591562 ┆ 7752.0    │\n",
       "│ 14:37:43   ┆ 058086220  ┆ 057183658  ┆ 162997728  ┆   ┆         ┆        ┆ 544787943 ┆           │\n",
       "│ UTC        ┆            ┆            ┆            ┆   ┆         ┆        ┆ 4         ┆           │\n",
       "│ 2020-04-24 ┆ 2294584263 ┆ 2273948316 ┆ 2268105471 ┆ … ┆ karcher ┆ 217.57 ┆ 151591562 ┆ 21757.0   │\n",
       "│ 19:16:21   ┆ 154074236  ┆ 817424439  ┆ 367840086  ┆   ┆         ┆        ┆ 544314800 ┆           │\n",
       "│ UTC        ┆            ┆            ┆            ┆   ┆         ┆        ┆ 2         ┆           │\n",
       "└────────────┴────────────┴────────────┴────────────┴───┴─────────┴────────┴───────────┴───────────┘"
      ],
      "text/html": [
       "<div><style>\n",
       ".dataframe > thead > tr,\n",
       ".dataframe > tbody > tr {\n",
       "  text-align: right;\n",
       "  white-space: pre-wrap;\n",
       "}\n",
       "</style>\n",
       "<small>shape: (5, 9)</small><table border=\"1\" class=\"dataframe\"><thead><tr><th>event_time</th><th>order_id</th><th>product_id</th><th>category_id</th><th>category_code</th><th>brand</th><th>price</th><th>user_id</th><th>price_x_100</th></tr><tr><td>str</td><td>i64</td><td>i64</td><td>i64</td><td>str</td><td>str</td><td>f64</td><td>i64</td><td>f64</td></tr></thead><tbody><tr><td>&quot;2020-04-24 11:50:39 UTC&quot;</td><td>2294359932054536986</td><td>1515966223509089906</td><td>2268105426648170900</td><td>&quot;electronics.tablet&quot;</td><td>&quot;samsung&quot;</td><td>162.01</td><td>1515915625441993984</td><td>16201.0</td></tr><tr><td>&quot;2020-04-24 11:50:39 UTC&quot;</td><td>2294359932054536986</td><td>1515966223509089906</td><td>2268105426648170900</td><td>&quot;electronics.tablet&quot;</td><td>&quot;samsung&quot;</td><td>162.01</td><td>1515915625441993984</td><td>16201.0</td></tr><tr><td>&quot;2020-04-24 14:37:43 UTC&quot;</td><td>2294444024058086220</td><td>2273948319057183658</td><td>2268105430162997728</td><td>&quot;electronics.audio.headphone&quot;</td><td>&quot;huawei&quot;</td><td>77.52</td><td>1515915625447879434</td><td>7752.0</td></tr><tr><td>&quot;2020-04-24 14:37:43 UTC&quot;</td><td>2294444024058086220</td><td>2273948319057183658</td><td>2268105430162997728</td><td>&quot;electronics.audio.headphone&quot;</td><td>&quot;huawei&quot;</td><td>77.52</td><td>1515915625447879434</td><td>7752.0</td></tr><tr><td>&quot;2020-04-24 19:16:21 UTC&quot;</td><td>2294584263154074236</td><td>2273948316817424439</td><td>2268105471367840086</td><td>null</td><td>&quot;karcher&quot;</td><td>217.57</td><td>1515915625443148002</td><td>21757.0</td></tr></tbody></table></div>"
      ]
     },
     "execution_count": 19,
     "metadata": {},
     "output_type": "execute_result"
    }
   ],
   "execution_count": 19
  },
  {
   "metadata": {},
   "cell_type": "markdown",
   "source": "Вычисления для колонок, используя `select`",
   "id": "b52c21bb91d6e681"
  },
  {
   "metadata": {
    "ExecuteTime": {
     "end_time": "2024-10-24T12:20:54.702067Z",
     "start_time": "2024-10-24T12:20:54.514829Z"
    }
   },
   "cell_type": "code",
   "source": [
    "df.select([\n",
    "    pl.col(\"product_id\").n_unique()\n",
    "])"
   ],
   "id": "d91745e79fc755c",
   "outputs": [
    {
     "data": {
      "text/plain": [
       "shape: (1, 1)\n",
       "┌────────────┐\n",
       "│ product_id │\n",
       "│ ---        │\n",
       "│ u32        │\n",
       "╞════════════╡\n",
       "│ 25113      │\n",
       "└────────────┘"
      ],
      "text/html": [
       "<div><style>\n",
       ".dataframe > thead > tr,\n",
       ".dataframe > tbody > tr {\n",
       "  text-align: right;\n",
       "  white-space: pre-wrap;\n",
       "}\n",
       "</style>\n",
       "<small>shape: (1, 1)</small><table border=\"1\" class=\"dataframe\"><thead><tr><th>product_id</th></tr><tr><td>u32</td></tr></thead><tbody><tr><td>25113</td></tr></tbody></table></div>"
      ]
     },
     "execution_count": 20,
     "metadata": {},
     "output_type": "execute_result"
    }
   ],
   "execution_count": 20
  },
  {
   "metadata": {
    "ExecuteTime": {
     "end_time": "2024-10-24T12:20:57.454689Z",
     "start_time": "2024-10-24T12:20:57.257091Z"
    }
   },
   "cell_type": "code",
   "source": [
    "df.filter(\n",
    "    pl.col('brand').is_in(['apple', 'samsung', 'motorola'])\n",
    ").head()"
   ],
   "id": "5d1d85122e7a2cb3",
   "outputs": [
    {
     "data": {
      "text/plain": [
       "shape: (5, 8)\n",
       "┌─────────────┬────────────┬────────────┬────────────┬────────────┬─────────┬─────────┬────────────┐\n",
       "│ event_time  ┆ order_id   ┆ product_id ┆ category_i ┆ category_c ┆ brand   ┆ price   ┆ user_id    │\n",
       "│ ---         ┆ ---        ┆ ---        ┆ d          ┆ ode        ┆ ---     ┆ ---     ┆ ---        │\n",
       "│ str         ┆ i64        ┆ i64        ┆ ---        ┆ ---        ┆ str     ┆ f64     ┆ i64        │\n",
       "│             ┆            ┆            ┆ i64        ┆ str        ┆         ┆         ┆            │\n",
       "╞═════════════╪════════════╪════════════╪════════════╪════════════╪═════════╪═════════╪════════════╡\n",
       "│ 2020-04-24  ┆ 2294359932 ┆ 1515966223 ┆ 2268105426 ┆ electronic ┆ samsung ┆ 162.01  ┆ 1515915625 │\n",
       "│ 11:50:39    ┆ 054536986  ┆ 509089906  ┆ 648170900  ┆ s.tablet   ┆         ┆         ┆ 441993984  │\n",
       "│ UTC         ┆            ┆            ┆            ┆            ┆         ┆         ┆            │\n",
       "│ 2020-04-24  ┆ 2294359932 ┆ 1515966223 ┆ 2268105426 ┆ electronic ┆ samsung ┆ 162.01  ┆ 1515915625 │\n",
       "│ 11:50:39    ┆ 054536986  ┆ 509089906  ┆ 648170900  ┆ s.tablet   ┆         ┆         ┆ 441993984  │\n",
       "│ UTC         ┆            ┆            ┆            ┆            ┆         ┆         ┆            │\n",
       "│ 2020-04-26  ┆ 2295740594 ┆ 1515966223 ┆ 2268105428 ┆ electronic ┆ apple   ┆ 1387.01 ┆ 1515915625 │\n",
       "│ 09:33:47    ┆ 749702229  ┆ 509104892  ┆ 166508982  ┆ s.smartpho ┆         ┆         ┆ 448766480  │\n",
       "│ UTC         ┆            ┆            ┆            ┆ ne         ┆         ┆         ┆            │\n",
       "│ 2020-04-26  ┆ 2295740594 ┆ 1515966223 ┆ 2268105428 ┆ electronic ┆ apple   ┆ 1387.01 ┆ 1515915625 │\n",
       "│ 09:33:47    ┆ 749702229  ┆ 509104892  ┆ 166508982  ┆ s.smartpho ┆         ┆         ┆ 448766480  │\n",
       "│ UTC         ┆            ┆            ┆            ┆ ne         ┆         ┆         ┆            │\n",
       "│ 2020-04-26  ┆ 2295740594 ┆ 1515966223 ┆ 2268105428 ┆ electronic ┆ apple   ┆ 1387.01 ┆ 1515915625 │\n",
       "│ 09:33:47    ┆ 749702229  ┆ 509104892  ┆ 166508982  ┆ s.smartpho ┆         ┆         ┆ 448766480  │\n",
       "│ UTC         ┆            ┆            ┆            ┆ ne         ┆         ┆         ┆            │\n",
       "└─────────────┴────────────┴────────────┴────────────┴────────────┴─────────┴─────────┴────────────┘"
      ],
      "text/html": [
       "<div><style>\n",
       ".dataframe > thead > tr,\n",
       ".dataframe > tbody > tr {\n",
       "  text-align: right;\n",
       "  white-space: pre-wrap;\n",
       "}\n",
       "</style>\n",
       "<small>shape: (5, 8)</small><table border=\"1\" class=\"dataframe\"><thead><tr><th>event_time</th><th>order_id</th><th>product_id</th><th>category_id</th><th>category_code</th><th>brand</th><th>price</th><th>user_id</th></tr><tr><td>str</td><td>i64</td><td>i64</td><td>i64</td><td>str</td><td>str</td><td>f64</td><td>i64</td></tr></thead><tbody><tr><td>&quot;2020-04-24 11:50:39 UTC&quot;</td><td>2294359932054536986</td><td>1515966223509089906</td><td>2268105426648170900</td><td>&quot;electronics.tablet&quot;</td><td>&quot;samsung&quot;</td><td>162.01</td><td>1515915625441993984</td></tr><tr><td>&quot;2020-04-24 11:50:39 UTC&quot;</td><td>2294359932054536986</td><td>1515966223509089906</td><td>2268105426648170900</td><td>&quot;electronics.tablet&quot;</td><td>&quot;samsung&quot;</td><td>162.01</td><td>1515915625441993984</td></tr><tr><td>&quot;2020-04-26 09:33:47 UTC&quot;</td><td>2295740594749702229</td><td>1515966223509104892</td><td>2268105428166508982</td><td>&quot;electronics.smartphone&quot;</td><td>&quot;apple&quot;</td><td>1387.01</td><td>1515915625448766480</td></tr><tr><td>&quot;2020-04-26 09:33:47 UTC&quot;</td><td>2295740594749702229</td><td>1515966223509104892</td><td>2268105428166508982</td><td>&quot;electronics.smartphone&quot;</td><td>&quot;apple&quot;</td><td>1387.01</td><td>1515915625448766480</td></tr><tr><td>&quot;2020-04-26 09:33:47 UTC&quot;</td><td>2295740594749702229</td><td>1515966223509104892</td><td>2268105428166508982</td><td>&quot;electronics.smartphone&quot;</td><td>&quot;apple&quot;</td><td>1387.01</td><td>1515915625448766480</td></tr></tbody></table></div>"
      ]
     },
     "execution_count": 21,
     "metadata": {},
     "output_type": "execute_result"
    }
   ],
   "execution_count": 21
  },
  {
   "metadata": {
    "ExecuteTime": {
     "end_time": "2024-10-24T12:20:58.639273Z",
     "start_time": "2024-10-24T12:20:58.508574Z"
    }
   },
   "cell_type": "code",
   "source": [
    "df.select([\n",
    "    pl.col(\"price\").min().alias(\"min\"),\n",
    "    pl.col(\"price\").mean().alias(\"mean\"),\n",
    "    pl.col(\"price\").median().alias(\"median\"),\n",
    "    pl.col(\"price\").max().alias(\"max\"),\n",
    "    pl.col(\"price\").std().alias(\"std_dev\"),\n",
    "])"
   ],
   "id": "7b647c58ff6b8286",
   "outputs": [
    {
     "data": {
      "text/plain": [
       "shape: (1, 5)\n",
       "┌─────┬────────────┬────────┬─────────┬────────────┐\n",
       "│ min ┆ mean       ┆ median ┆ max     ┆ std_dev    │\n",
       "│ --- ┆ ---        ┆ ---    ┆ ---     ┆ ---        │\n",
       "│ f64 ┆ f64        ┆ f64    ┆ f64     ┆ f64        │\n",
       "╞═════╪════════════╪════════╪═════════╪════════════╡\n",
       "│ 0.0 ┆ 154.093165 ┆ 55.53  ┆ 50925.9 ┆ 241.942109 │\n",
       "└─────┴────────────┴────────┴─────────┴────────────┘"
      ],
      "text/html": [
       "<div><style>\n",
       ".dataframe > thead > tr,\n",
       ".dataframe > tbody > tr {\n",
       "  text-align: right;\n",
       "  white-space: pre-wrap;\n",
       "}\n",
       "</style>\n",
       "<small>shape: (1, 5)</small><table border=\"1\" class=\"dataframe\"><thead><tr><th>min</th><th>mean</th><th>median</th><th>max</th><th>std_dev</th></tr><tr><td>f64</td><td>f64</td><td>f64</td><td>f64</td><td>f64</td></tr></thead><tbody><tr><td>0.0</td><td>154.093165</td><td>55.53</td><td>50925.9</td><td>241.942109</td></tr></tbody></table></div>"
      ]
     },
     "execution_count": 22,
     "metadata": {},
     "output_type": "execute_result"
    }
   ],
   "execution_count": 22
  },
  {
   "metadata": {
    "ExecuteTime": {
     "end_time": "2024-10-24T12:20:59.726914Z",
     "start_time": "2024-10-24T12:20:59.601056Z"
    }
   },
   "cell_type": "code",
   "source": [
    "df.select([\n",
    "    pl.col(\"price\")\n",
    "]).describe()"
   ],
   "id": "1226fbd71e8ea678",
   "outputs": [
    {
     "data": {
      "text/plain": [
       "shape: (9, 2)\n",
       "┌────────────┬────────────┐\n",
       "│ statistic  ┆ price      │\n",
       "│ ---        ┆ ---        │\n",
       "│ str        ┆ f64        │\n",
       "╞════════════╪════════════╡\n",
       "│ count      ┆ 2.201567e6 │\n",
       "│ null_count ┆ 431954.0   │\n",
       "│ mean       ┆ 154.093165 │\n",
       "│ std        ┆ 241.942109 │\n",
       "│ min        ┆ 0.0        │\n",
       "│ 25%        ┆ 14.56      │\n",
       "│ 50%        ┆ 55.53      │\n",
       "│ 75%        ┆ 196.74     │\n",
       "│ max        ┆ 50925.9    │\n",
       "└────────────┴────────────┘"
      ],
      "text/html": [
       "<div><style>\n",
       ".dataframe > thead > tr,\n",
       ".dataframe > tbody > tr {\n",
       "  text-align: right;\n",
       "  white-space: pre-wrap;\n",
       "}\n",
       "</style>\n",
       "<small>shape: (9, 2)</small><table border=\"1\" class=\"dataframe\"><thead><tr><th>statistic</th><th>price</th></tr><tr><td>str</td><td>f64</td></tr></thead><tbody><tr><td>&quot;count&quot;</td><td>2.201567e6</td></tr><tr><td>&quot;null_count&quot;</td><td>431954.0</td></tr><tr><td>&quot;mean&quot;</td><td>154.093165</td></tr><tr><td>&quot;std&quot;</td><td>241.942109</td></tr><tr><td>&quot;min&quot;</td><td>0.0</td></tr><tr><td>&quot;25%&quot;</td><td>14.56</td></tr><tr><td>&quot;50%&quot;</td><td>55.53</td></tr><tr><td>&quot;75%&quot;</td><td>196.74</td></tr><tr><td>&quot;max&quot;</td><td>50925.9</td></tr></tbody></table></div>"
      ]
     },
     "execution_count": 23,
     "metadata": {},
     "output_type": "execute_result"
    }
   ],
   "execution_count": 23
  },
  {
   "metadata": {
    "ExecuteTime": {
     "end_time": "2024-10-24T12:21:00.542823Z",
     "start_time": "2024-10-24T12:21:00.538125Z"
    }
   },
   "cell_type": "code",
   "source": "df_top = df.head()",
   "id": "cdbd7bccff6b459d",
   "outputs": [],
   "execution_count": 24
  },
  {
   "metadata": {
    "ExecuteTime": {
     "end_time": "2024-10-24T12:21:00.983689Z",
     "start_time": "2024-10-24T12:21:00.966234Z"
    }
   },
   "cell_type": "code",
   "source": [
    "df_top.with_columns([\n",
    "    (\"brand-\" + pl.col(\"brand\")).alias(\"brand2\"),\n",
    "    (pl.col(\"price\") * 100).alias(\"price2\")\n",
    "])"
   ],
   "id": "c637a99c5b90eb7d",
   "outputs": [
    {
     "data": {
      "text/plain": [
       "shape: (5, 10)\n",
       "┌────────────┬────────────┬────────────┬────────────┬───┬────────┬───────────┬───────────┬─────────┐\n",
       "│ event_time ┆ order_id   ┆ product_id ┆ category_i ┆ … ┆ price  ┆ user_id   ┆ brand2    ┆ price2  │\n",
       "│ ---        ┆ ---        ┆ ---        ┆ d          ┆   ┆ ---    ┆ ---       ┆ ---       ┆ ---     │\n",
       "│ str        ┆ i64        ┆ i64        ┆ ---        ┆   ┆ f64    ┆ i64       ┆ str       ┆ f64     │\n",
       "│            ┆            ┆            ┆ i64        ┆   ┆        ┆           ┆           ┆         │\n",
       "╞════════════╪════════════╪════════════╪════════════╪═══╪════════╪═══════════╪═══════════╪═════════╡\n",
       "│ 2020-04-24 ┆ 2294359932 ┆ 1515966223 ┆ 2268105426 ┆ … ┆ 162.01 ┆ 151591562 ┆ brand-sam ┆ 16201.0 │\n",
       "│ 11:50:39   ┆ 054536986  ┆ 509089906  ┆ 648170900  ┆   ┆        ┆ 544199398 ┆ sung      ┆         │\n",
       "│ UTC        ┆            ┆            ┆            ┆   ┆        ┆ 4         ┆           ┆         │\n",
       "│ 2020-04-24 ┆ 2294359932 ┆ 1515966223 ┆ 2268105426 ┆ … ┆ 162.01 ┆ 151591562 ┆ brand-sam ┆ 16201.0 │\n",
       "│ 11:50:39   ┆ 054536986  ┆ 509089906  ┆ 648170900  ┆   ┆        ┆ 544199398 ┆ sung      ┆         │\n",
       "│ UTC        ┆            ┆            ┆            ┆   ┆        ┆ 4         ┆           ┆         │\n",
       "│ 2020-04-24 ┆ 2294444024 ┆ 2273948319 ┆ 2268105430 ┆ … ┆ 77.52  ┆ 151591562 ┆ brand-hua ┆ 7752.0  │\n",
       "│ 14:37:43   ┆ 058086220  ┆ 057183658  ┆ 162997728  ┆   ┆        ┆ 544787943 ┆ wei       ┆         │\n",
       "│ UTC        ┆            ┆            ┆            ┆   ┆        ┆ 4         ┆           ┆         │\n",
       "│ 2020-04-24 ┆ 2294444024 ┆ 2273948319 ┆ 2268105430 ┆ … ┆ 77.52  ┆ 151591562 ┆ brand-hua ┆ 7752.0  │\n",
       "│ 14:37:43   ┆ 058086220  ┆ 057183658  ┆ 162997728  ┆   ┆        ┆ 544787943 ┆ wei       ┆         │\n",
       "│ UTC        ┆            ┆            ┆            ┆   ┆        ┆ 4         ┆           ┆         │\n",
       "│ 2020-04-24 ┆ 2294584263 ┆ 2273948316 ┆ 2268105471 ┆ … ┆ 217.57 ┆ 151591562 ┆ brand-kar ┆ 21757.0 │\n",
       "│ 19:16:21   ┆ 154074236  ┆ 817424439  ┆ 367840086  ┆   ┆        ┆ 544314800 ┆ cher      ┆         │\n",
       "│ UTC        ┆            ┆            ┆            ┆   ┆        ┆ 2         ┆           ┆         │\n",
       "└────────────┴────────────┴────────────┴────────────┴───┴────────┴───────────┴───────────┴─────────┘"
      ],
      "text/html": [
       "<div><style>\n",
       ".dataframe > thead > tr,\n",
       ".dataframe > tbody > tr {\n",
       "  text-align: right;\n",
       "  white-space: pre-wrap;\n",
       "}\n",
       "</style>\n",
       "<small>shape: (5, 10)</small><table border=\"1\" class=\"dataframe\"><thead><tr><th>event_time</th><th>order_id</th><th>product_id</th><th>category_id</th><th>category_code</th><th>brand</th><th>price</th><th>user_id</th><th>brand2</th><th>price2</th></tr><tr><td>str</td><td>i64</td><td>i64</td><td>i64</td><td>str</td><td>str</td><td>f64</td><td>i64</td><td>str</td><td>f64</td></tr></thead><tbody><tr><td>&quot;2020-04-24 11:50:39 UTC&quot;</td><td>2294359932054536986</td><td>1515966223509089906</td><td>2268105426648170900</td><td>&quot;electronics.tablet&quot;</td><td>&quot;samsung&quot;</td><td>162.01</td><td>1515915625441993984</td><td>&quot;brand-samsung&quot;</td><td>16201.0</td></tr><tr><td>&quot;2020-04-24 11:50:39 UTC&quot;</td><td>2294359932054536986</td><td>1515966223509089906</td><td>2268105426648170900</td><td>&quot;electronics.tablet&quot;</td><td>&quot;samsung&quot;</td><td>162.01</td><td>1515915625441993984</td><td>&quot;brand-samsung&quot;</td><td>16201.0</td></tr><tr><td>&quot;2020-04-24 14:37:43 UTC&quot;</td><td>2294444024058086220</td><td>2273948319057183658</td><td>2268105430162997728</td><td>&quot;electronics.audio.headphone&quot;</td><td>&quot;huawei&quot;</td><td>77.52</td><td>1515915625447879434</td><td>&quot;brand-huawei&quot;</td><td>7752.0</td></tr><tr><td>&quot;2020-04-24 14:37:43 UTC&quot;</td><td>2294444024058086220</td><td>2273948319057183658</td><td>2268105430162997728</td><td>&quot;electronics.audio.headphone&quot;</td><td>&quot;huawei&quot;</td><td>77.52</td><td>1515915625447879434</td><td>&quot;brand-huawei&quot;</td><td>7752.0</td></tr><tr><td>&quot;2020-04-24 19:16:21 UTC&quot;</td><td>2294584263154074236</td><td>2273948316817424439</td><td>2268105471367840086</td><td>null</td><td>&quot;karcher&quot;</td><td>217.57</td><td>1515915625443148002</td><td>&quot;brand-karcher&quot;</td><td>21757.0</td></tr></tbody></table></div>"
      ]
     },
     "execution_count": 25,
     "metadata": {},
     "output_type": "execute_result"
    }
   ],
   "execution_count": 25
  },
  {
   "metadata": {
    "ExecuteTime": {
     "end_time": "2024-10-24T12:21:02.440249Z",
     "start_time": "2024-10-24T12:21:02.053280Z"
    }
   },
   "cell_type": "code",
   "source": [
    "df.with_columns([\n",
    "    pl.col(\"price\").mean().over(\"category_code\").alias(\"price_by_categorycode\")\n",
    "]).head(10)"
   ],
   "id": "aa8be76ccf45848b",
   "outputs": [
    {
     "data": {
      "text/plain": [
       "shape: (10, 9)\n",
       "┌────────────┬────────────┬────────────┬───────────┬───┬─────────┬─────────┬───────────┬───────────┐\n",
       "│ event_time ┆ order_id   ┆ product_id ┆ category_ ┆ … ┆ brand   ┆ price   ┆ user_id   ┆ price_by_ │\n",
       "│ ---        ┆ ---        ┆ ---        ┆ id        ┆   ┆ ---     ┆ ---     ┆ ---       ┆ categoryc │\n",
       "│ str        ┆ i64        ┆ i64        ┆ ---       ┆   ┆ str     ┆ f64     ┆ i64       ┆ ode       │\n",
       "│            ┆            ┆            ┆ i64       ┆   ┆         ┆         ┆           ┆ ---       │\n",
       "│            ┆            ┆            ┆           ┆   ┆         ┆         ┆           ┆ f64       │\n",
       "╞════════════╪════════════╪════════════╪═══════════╪═══╪═════════╪═════════╪═══════════╪═══════════╡\n",
       "│ 2020-04-24 ┆ 2294359932 ┆ 1515966223 ┆ 226810542 ┆ … ┆ samsung ┆ 162.01  ┆ 151591562 ┆ 275.87935 │\n",
       "│ 11:50:39   ┆ 054536986  ┆ 509089906  ┆ 664817090 ┆   ┆         ┆         ┆ 544199398 ┆ 1         │\n",
       "│ UTC        ┆            ┆            ┆ 0         ┆   ┆         ┆         ┆ 4         ┆           │\n",
       "│ 2020-04-24 ┆ 2294359932 ┆ 1515966223 ┆ 226810542 ┆ … ┆ samsung ┆ 162.01  ┆ 151591562 ┆ 275.87935 │\n",
       "│ 11:50:39   ┆ 054536986  ┆ 509089906  ┆ 664817090 ┆   ┆         ┆         ┆ 544199398 ┆ 1         │\n",
       "│ UTC        ┆            ┆            ┆ 0         ┆   ┆         ┆         ┆ 4         ┆           │\n",
       "│ 2020-04-24 ┆ 2294444024 ┆ 2273948319 ┆ 226810543 ┆ … ┆ huawei  ┆ 77.52   ┆ 151591562 ┆ 65.151228 │\n",
       "│ 14:37:43   ┆ 058086220  ┆ 057183658  ┆ 016299772 ┆   ┆         ┆         ┆ 544787943 ┆           │\n",
       "│ UTC        ┆            ┆            ┆ 8         ┆   ┆         ┆         ┆ 4         ┆           │\n",
       "│ 2020-04-24 ┆ 2294444024 ┆ 2273948319 ┆ 226810543 ┆ … ┆ huawei  ┆ 77.52   ┆ 151591562 ┆ 65.151228 │\n",
       "│ 14:37:43   ┆ 058086220  ┆ 057183658  ┆ 016299772 ┆   ┆         ┆         ┆ 544787943 ┆           │\n",
       "│ UTC        ┆            ┆            ┆ 8         ┆   ┆         ┆         ┆ 4         ┆           │\n",
       "│ 2020-04-24 ┆ 2294584263 ┆ 2273948316 ┆ 226810547 ┆ … ┆ karcher ┆ 217.57  ┆ 151591562 ┆ 59.252235 │\n",
       "│ 19:16:21   ┆ 154074236  ┆ 817424439  ┆ 136784008 ┆   ┆         ┆         ┆ 544314800 ┆           │\n",
       "│ UTC        ┆            ┆            ┆ 6         ┆   ┆         ┆         ┆ 2         ┆           │\n",
       "│ 2020-04-26 ┆ 2295716521 ┆ 1515966223 ┆ 226810544 ┆ … ┆ maestro ┆ 39.33   ┆ 151591562 ┆ 38.172499 │\n",
       "│ 08:45:57   ┆ 449619559  ┆ 509261697  ┆ 263685809 ┆   ┆         ┆         ┆ 545038272 ┆           │\n",
       "│ UTC        ┆            ┆            ┆ 0         ┆   ┆         ┆         ┆ 2         ┆           │\n",
       "│ 2020-04-26 ┆ 2295740594 ┆ 1515966223 ┆ 226810542 ┆ … ┆ apple   ┆ 1387.01 ┆ 151591562 ┆ 286.96516 │\n",
       "│ 09:33:47   ┆ 749702229  ┆ 509104892  ┆ 816650898 ┆   ┆         ┆         ┆ 544876648 ┆ 5         │\n",
       "│ UTC        ┆            ┆            ┆ 2         ┆   ┆         ┆         ┆ 0         ┆           │\n",
       "│ 2020-04-26 ┆ 2295740594 ┆ 1515966223 ┆ 226810542 ┆ … ┆ apple   ┆ 1387.01 ┆ 151591562 ┆ 286.96516 │\n",
       "│ 09:33:47   ┆ 749702229  ┆ 509104892  ┆ 816650898 ┆   ┆         ┆         ┆ 544876648 ┆ 5         │\n",
       "│ UTC        ┆            ┆            ┆ 2         ┆   ┆         ┆         ┆ 0         ┆           │\n",
       "│ 2020-04-26 ┆ 2295740594 ┆ 1515966223 ┆ 226810542 ┆ … ┆ apple   ┆ 1387.01 ┆ 151591562 ┆ 286.96516 │\n",
       "│ 09:33:47   ┆ 749702229  ┆ 509104892  ┆ 816650898 ┆   ┆         ┆         ┆ 544876648 ┆ 5         │\n",
       "│ UTC        ┆            ┆            ┆ 2         ┆   ┆         ┆         ┆ 0         ┆           │\n",
       "│ 2020-04-26 ┆ 2295740594 ┆ 1515966223 ┆ 226810542 ┆ … ┆ apple   ┆ 1387.01 ┆ 151591562 ┆ 286.96516 │\n",
       "│ 09:33:47   ┆ 749702229  ┆ 509104892  ┆ 816650898 ┆   ┆         ┆         ┆ 544876648 ┆ 5         │\n",
       "│ UTC        ┆            ┆            ┆ 2         ┆   ┆         ┆         ┆ 0         ┆           │\n",
       "└────────────┴────────────┴────────────┴───────────┴───┴─────────┴─────────┴───────────┴───────────┘"
      ],
      "text/html": [
       "<div><style>\n",
       ".dataframe > thead > tr,\n",
       ".dataframe > tbody > tr {\n",
       "  text-align: right;\n",
       "  white-space: pre-wrap;\n",
       "}\n",
       "</style>\n",
       "<small>shape: (10, 9)</small><table border=\"1\" class=\"dataframe\"><thead><tr><th>event_time</th><th>order_id</th><th>product_id</th><th>category_id</th><th>category_code</th><th>brand</th><th>price</th><th>user_id</th><th>price_by_categorycode</th></tr><tr><td>str</td><td>i64</td><td>i64</td><td>i64</td><td>str</td><td>str</td><td>f64</td><td>i64</td><td>f64</td></tr></thead><tbody><tr><td>&quot;2020-04-24 11:50:39 UTC&quot;</td><td>2294359932054536986</td><td>1515966223509089906</td><td>2268105426648170900</td><td>&quot;electronics.tablet&quot;</td><td>&quot;samsung&quot;</td><td>162.01</td><td>1515915625441993984</td><td>275.879351</td></tr><tr><td>&quot;2020-04-24 11:50:39 UTC&quot;</td><td>2294359932054536986</td><td>1515966223509089906</td><td>2268105426648170900</td><td>&quot;electronics.tablet&quot;</td><td>&quot;samsung&quot;</td><td>162.01</td><td>1515915625441993984</td><td>275.879351</td></tr><tr><td>&quot;2020-04-24 14:37:43 UTC&quot;</td><td>2294444024058086220</td><td>2273948319057183658</td><td>2268105430162997728</td><td>&quot;electronics.audio.headphone&quot;</td><td>&quot;huawei&quot;</td><td>77.52</td><td>1515915625447879434</td><td>65.151228</td></tr><tr><td>&quot;2020-04-24 14:37:43 UTC&quot;</td><td>2294444024058086220</td><td>2273948319057183658</td><td>2268105430162997728</td><td>&quot;electronics.audio.headphone&quot;</td><td>&quot;huawei&quot;</td><td>77.52</td><td>1515915625447879434</td><td>65.151228</td></tr><tr><td>&quot;2020-04-24 19:16:21 UTC&quot;</td><td>2294584263154074236</td><td>2273948316817424439</td><td>2268105471367840086</td><td>null</td><td>&quot;karcher&quot;</td><td>217.57</td><td>1515915625443148002</td><td>59.252235</td></tr><tr><td>&quot;2020-04-26 08:45:57 UTC&quot;</td><td>2295716521449619559</td><td>1515966223509261697</td><td>2268105442636858090</td><td>&quot;furniture.kitchen.table&quot;</td><td>&quot;maestro&quot;</td><td>39.33</td><td>1515915625450382722</td><td>38.172499</td></tr><tr><td>&quot;2020-04-26 09:33:47 UTC&quot;</td><td>2295740594749702229</td><td>1515966223509104892</td><td>2268105428166508982</td><td>&quot;electronics.smartphone&quot;</td><td>&quot;apple&quot;</td><td>1387.01</td><td>1515915625448766480</td><td>286.965165</td></tr><tr><td>&quot;2020-04-26 09:33:47 UTC&quot;</td><td>2295740594749702229</td><td>1515966223509104892</td><td>2268105428166508982</td><td>&quot;electronics.smartphone&quot;</td><td>&quot;apple&quot;</td><td>1387.01</td><td>1515915625448766480</td><td>286.965165</td></tr><tr><td>&quot;2020-04-26 09:33:47 UTC&quot;</td><td>2295740594749702229</td><td>1515966223509104892</td><td>2268105428166508982</td><td>&quot;electronics.smartphone&quot;</td><td>&quot;apple&quot;</td><td>1387.01</td><td>1515915625448766480</td><td>286.965165</td></tr><tr><td>&quot;2020-04-26 09:33:47 UTC&quot;</td><td>2295740594749702229</td><td>1515966223509104892</td><td>2268105428166508982</td><td>&quot;electronics.smartphone&quot;</td><td>&quot;apple&quot;</td><td>1387.01</td><td>1515915625448766480</td><td>286.965165</td></tr></tbody></table></div>"
      ]
     },
     "execution_count": 26,
     "metadata": {},
     "output_type": "execute_result"
    }
   ],
   "execution_count": 26
  },
  {
   "metadata": {
    "ExecuteTime": {
     "end_time": "2024-10-24T12:21:03.639801Z",
     "start_time": "2024-10-24T12:21:02.805913Z"
    }
   },
   "cell_type": "code",
   "source": [
    "df.group_by(\"brand\").agg([\n",
    "    pl.len()\n",
    "]).head()"
   ],
   "id": "8fda047810cc7644",
   "outputs": [
    {
     "data": {
      "text/plain": [
       "shape: (5, 2)\n",
       "┌─────────────────────┬─────┐\n",
       "│ brand               ┆ len │\n",
       "│ ---                 ┆ --- │\n",
       "│ str                 ┆ u32 │\n",
       "╞═════════════════════╪═════╡\n",
       "│ 1515915625513578007 ┆ 2   │\n",
       "│ 1515915625514719973 ┆ 2   │\n",
       "│ 1515915625484635847 ┆ 1   │\n",
       "│ 1515915625484572163 ┆ 1   │\n",
       "│ 1515915625469956347 ┆ 1   │\n",
       "└─────────────────────┴─────┘"
      ],
      "text/html": [
       "<div><style>\n",
       ".dataframe > thead > tr,\n",
       ".dataframe > tbody > tr {\n",
       "  text-align: right;\n",
       "  white-space: pre-wrap;\n",
       "}\n",
       "</style>\n",
       "<small>shape: (5, 2)</small><table border=\"1\" class=\"dataframe\"><thead><tr><th>brand</th><th>len</th></tr><tr><td>str</td><td>u32</td></tr></thead><tbody><tr><td>&quot;1515915625513578007&quot;</td><td>2</td></tr><tr><td>&quot;1515915625514719973&quot;</td><td>2</td></tr><tr><td>&quot;1515915625484635847&quot;</td><td>1</td></tr><tr><td>&quot;1515915625484572163&quot;</td><td>1</td></tr><tr><td>&quot;1515915625469956347&quot;</td><td>1</td></tr></tbody></table></div>"
      ]
     },
     "execution_count": 27,
     "metadata": {},
     "output_type": "execute_result"
    }
   ],
   "execution_count": 27
  },
  {
   "metadata": {
    "ExecuteTime": {
     "end_time": "2024-10-24T12:21:04.272709Z",
     "start_time": "2024-10-24T12:21:03.935112Z"
    }
   },
   "cell_type": "code",
   "source": [
    "df.group_by(\"brand\").agg([\n",
    "    pl.len().alias('count')\n",
    "]).sort(\"count\", descending=True).head()"
   ],
   "id": "793c56c1115ae48f",
   "outputs": [
    {
     "data": {
      "text/plain": [
       "shape: (5, 2)\n",
       "┌─────────┬────────┐\n",
       "│ brand   ┆ count  │\n",
       "│ ---     ┆ ---    │\n",
       "│ str     ┆ u32    │\n",
       "╞═════════╪════════╡\n",
       "│ null    ┆ 506005 │\n",
       "│ samsung ┆ 358928 │\n",
       "│ ava     ┆ 118161 │\n",
       "│ tefal   ┆ 78653  │\n",
       "│ apple   ┆ 74709  │\n",
       "└─────────┴────────┘"
      ],
      "text/html": [
       "<div><style>\n",
       ".dataframe > thead > tr,\n",
       ".dataframe > tbody > tr {\n",
       "  text-align: right;\n",
       "  white-space: pre-wrap;\n",
       "}\n",
       "</style>\n",
       "<small>shape: (5, 2)</small><table border=\"1\" class=\"dataframe\"><thead><tr><th>brand</th><th>count</th></tr><tr><td>str</td><td>u32</td></tr></thead><tbody><tr><td>null</td><td>506005</td></tr><tr><td>&quot;samsung&quot;</td><td>358928</td></tr><tr><td>&quot;ava&quot;</td><td>118161</td></tr><tr><td>&quot;tefal&quot;</td><td>78653</td></tr><tr><td>&quot;apple&quot;</td><td>74709</td></tr></tbody></table></div>"
      ]
     },
     "execution_count": 28,
     "metadata": {},
     "output_type": "execute_result"
    }
   ],
   "execution_count": 28
  },
  {
   "metadata": {
    "ExecuteTime": {
     "end_time": "2024-10-24T12:21:04.815814Z",
     "start_time": "2024-10-24T12:21:04.565117Z"
    }
   },
   "cell_type": "code",
   "source": "df['brand'].value_counts()",
   "id": "34165f1753007561",
   "outputs": [
    {
     "data": {
      "text/plain": [
       "shape: (23_022, 2)\n",
       "┌─────────────────────┬───────┐\n",
       "│ brand               ┆ count │\n",
       "│ ---                 ┆ ---   │\n",
       "│ str                 ┆ u32   │\n",
       "╞═════════════════════╪═══════╡\n",
       "│ 1515915625492654241 ┆ 1     │\n",
       "│ 1515915625514593891 ┆ 1     │\n",
       "│ 1515915625512333600 ┆ 1     │\n",
       "│ speedo              ┆ 4     │\n",
       "│ 1515915625484671477 ┆ 1     │\n",
       "│ …                   ┆ …     │\n",
       "│ 1515915625484665702 ┆ 1     │\n",
       "│ 1515915625484570845 ┆ 4     │\n",
       "│ 1515915625512084215 ┆ 2     │\n",
       "│ 1515915625512086302 ┆ 1     │\n",
       "│ 1515915625513059873 ┆ 1     │\n",
       "└─────────────────────┴───────┘"
      ],
      "text/html": [
       "<div><style>\n",
       ".dataframe > thead > tr,\n",
       ".dataframe > tbody > tr {\n",
       "  text-align: right;\n",
       "  white-space: pre-wrap;\n",
       "}\n",
       "</style>\n",
       "<small>shape: (23_022, 2)</small><table border=\"1\" class=\"dataframe\"><thead><tr><th>brand</th><th>count</th></tr><tr><td>str</td><td>u32</td></tr></thead><tbody><tr><td>&quot;1515915625492654241&quot;</td><td>1</td></tr><tr><td>&quot;1515915625514593891&quot;</td><td>1</td></tr><tr><td>&quot;1515915625512333600&quot;</td><td>1</td></tr><tr><td>&quot;speedo&quot;</td><td>4</td></tr><tr><td>&quot;1515915625484671477&quot;</td><td>1</td></tr><tr><td>&hellip;</td><td>&hellip;</td></tr><tr><td>&quot;1515915625484665702&quot;</td><td>1</td></tr><tr><td>&quot;1515915625484570845&quot;</td><td>4</td></tr><tr><td>&quot;1515915625512084215&quot;</td><td>2</td></tr><tr><td>&quot;1515915625512086302&quot;</td><td>1</td></tr><tr><td>&quot;1515915625513059873&quot;</td><td>1</td></tr></tbody></table></div>"
      ]
     },
     "execution_count": 29,
     "metadata": {},
     "output_type": "execute_result"
    }
   ],
   "execution_count": 29
  },
  {
   "metadata": {
    "ExecuteTime": {
     "end_time": "2024-10-24T12:21:05.913378Z",
     "start_time": "2024-10-24T12:21:05.291145Z"
    }
   },
   "cell_type": "code",
   "source": [
    "df_brand_event = df.group_by([\"brand\", \"category_code\"]).agg([\n",
    "    pl.len()\n",
    "])\n",
    "\n",
    "df_brand_event.head()"
   ],
   "id": "b51f1f1e92334f35",
   "outputs": [
    {
     "data": {
      "text/plain": [
       "shape: (5, 3)\n",
       "┌─────────────────────┬─────────────────────────────┬─────┐\n",
       "│ brand               ┆ category_code               ┆ len │\n",
       "│ ---                 ┆ ---                         ┆ --- │\n",
       "│ str                 ┆ str                         ┆ u32 │\n",
       "╞═════════════════════╪═════════════════════════════╪═════╡\n",
       "│ 1515915625512764064 ┆ 9.26                        ┆ 1   │\n",
       "│ continent           ┆ auto.accessories.compressor ┆ 384 │\n",
       "│ 1515915625513444346 ┆ 3.89                        ┆ 1   │\n",
       "│ 1515915625512283849 ┆ 8.10                        ┆ 1   │\n",
       "│ 1515915625514802421 ┆ 3.89                        ┆ 1   │\n",
       "└─────────────────────┴─────────────────────────────┴─────┘"
      ],
      "text/html": [
       "<div><style>\n",
       ".dataframe > thead > tr,\n",
       ".dataframe > tbody > tr {\n",
       "  text-align: right;\n",
       "  white-space: pre-wrap;\n",
       "}\n",
       "</style>\n",
       "<small>shape: (5, 3)</small><table border=\"1\" class=\"dataframe\"><thead><tr><th>brand</th><th>category_code</th><th>len</th></tr><tr><td>str</td><td>str</td><td>u32</td></tr></thead><tbody><tr><td>&quot;1515915625512764064&quot;</td><td>&quot;9.26&quot;</td><td>1</td></tr><tr><td>&quot;continent&quot;</td><td>&quot;auto.accessories.compressor&quot;</td><td>384</td></tr><tr><td>&quot;1515915625513444346&quot;</td><td>&quot;3.89&quot;</td><td>1</td></tr><tr><td>&quot;1515915625512283849&quot;</td><td>&quot;8.10&quot;</td><td>1</td></tr><tr><td>&quot;1515915625514802421&quot;</td><td>&quot;3.89&quot;</td><td>1</td></tr></tbody></table></div>"
      ]
     },
     "execution_count": 30,
     "metadata": {},
     "output_type": "execute_result"
    }
   ],
   "execution_count": 30
  },
  {
   "metadata": {},
   "cell_type": "markdown",
   "source": "## Дополнительные источники",
   "id": "871a5168cd75963b"
  },
  {
   "metadata": {},
   "cell_type": "markdown",
   "source": [
    "1. [Официальная страница Polars](https://pola.rs)\n",
    "2. [Getting started Polars](https://docs.pola.rs/user-guide/getting-started/#reading-writing)\n",
    "3. [Polars vs. pandas: What’s the Difference?](https://blog.jetbrains.com/pycharm/2024/07/polars-vs-pandas/)"
   ],
   "id": "29ef5d7a5ce5a3a4"
  }
 ],
 "metadata": {
  "kernelspec": {
   "display_name": "Python 3",
   "language": "python",
   "name": "python3"
  },
  "language_info": {
   "codemirror_mode": {
    "name": "ipython",
    "version": 2
   },
   "file_extension": ".py",
   "mimetype": "text/x-python",
   "name": "python",
   "nbconvert_exporter": "python",
   "pygments_lexer": "ipython2",
   "version": "2.7.6"
  }
 },
 "nbformat": 4,
 "nbformat_minor": 5
}
