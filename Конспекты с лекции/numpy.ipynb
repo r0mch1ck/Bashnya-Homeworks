{
 "cells": [
  {
   "cell_type": "code",
   "execution_count": null,
   "id": "initial_id",
   "metadata": {
    "collapsed": true,
    "ExecuteTime": {
     "start_time": "2024-10-07T15:44:37.208537900Z"
    }
   },
   "outputs": [],
   "source": [
    "!pip install numpy"
   ]
  },
  {
   "cell_type": "code",
   "execution_count": 2,
   "outputs": [],
   "source": [
    "import numpy as np"
   ],
   "metadata": {
    "collapsed": false,
    "ExecuteTime": {
     "end_time": "2024-10-07T15:44:45.816357500Z",
     "start_time": "2024-10-07T15:44:45.708304900Z"
    }
   },
   "id": "372e08de9ca92d22"
  },
  {
   "cell_type": "code",
   "execution_count": 3,
   "outputs": [
    {
     "data": {
      "text/plain": "array([1, 2, 3, 4, 5, 6])"
     },
     "execution_count": 3,
     "metadata": {},
     "output_type": "execute_result"
    }
   ],
   "source": [
    "array_1d = np.array([1, 2, 3, 4, 5, 6])\n",
    "\n",
    "array_2d = np.array([[1, 2, 3], [4, 5, 6]])\n",
    "\n",
    "array_1d"
   ],
   "metadata": {
    "collapsed": false,
    "ExecuteTime": {
     "end_time": "2024-10-07T15:44:46.356402500Z",
     "start_time": "2024-10-07T15:44:46.338864700Z"
    }
   },
   "id": "35d6b5a7319daf49"
  },
  {
   "cell_type": "code",
   "execution_count": 4,
   "outputs": [
    {
     "name": "stdout",
     "output_type": "stream",
     "text": [
      "[[1 2 3]\n",
      " [4 5 6]]\n"
     ]
    }
   ],
   "source": [
    "print(array_2d)"
   ],
   "metadata": {
    "collapsed": false,
    "ExecuteTime": {
     "end_time": "2024-10-07T15:44:47.178106600Z",
     "start_time": "2024-10-07T15:44:47.164722100Z"
    }
   },
   "id": "60665603a5d0747f"
  },
  {
   "cell_type": "code",
   "execution_count": 6,
   "outputs": [
    {
     "data": {
      "text/plain": "1"
     },
     "execution_count": 6,
     "metadata": {},
     "output_type": "execute_result"
    }
   ],
   "source": [
    "array_2d[0, 0] # array_2d[0][0]"
   ],
   "metadata": {
    "collapsed": false,
    "ExecuteTime": {
     "end_time": "2024-10-07T15:44:53.316603400Z",
     "start_time": "2024-10-07T15:44:53.262911700Z"
    }
   },
   "id": "e5fe6a1905c6727"
  },
  {
   "cell_type": "code",
   "execution_count": 7,
   "outputs": [],
   "source": [
    "array_2d[0][0] = 2"
   ],
   "metadata": {
    "collapsed": false,
    "ExecuteTime": {
     "end_time": "2024-10-07T15:45:15.010051Z",
     "start_time": "2024-10-07T15:45:14.993088500Z"
    }
   },
   "id": "c5e3f531280a14aa"
  },
  {
   "cell_type": "code",
   "execution_count": 8,
   "outputs": [
    {
     "data": {
      "text/plain": "array([ 0. ,  2.5,  5. ,  7.5, 10. ])"
     },
     "execution_count": 8,
     "metadata": {},
     "output_type": "execute_result"
    }
   ],
   "source": [
    "array_linspace = np.linspace(0, 10, 5)\n",
    "array_linspace"
   ],
   "metadata": {
    "collapsed": false,
    "ExecuteTime": {
     "end_time": "2024-10-07T15:45:19.337667800Z",
     "start_time": "2024-10-07T15:45:19.322381Z"
    }
   },
   "id": "16ac0c4d2398a784"
  },
  {
   "cell_type": "code",
   "execution_count": 9,
   "outputs": [
    {
     "name": "stdout",
     "output_type": "stream",
     "text": [
      "(2, 3)\n",
      "2\n",
      "6\n"
     ]
    }
   ],
   "source": [
    "print(array_2d.shape, array_2d.ndim, array_2d.size, sep='\\n')"
   ],
   "metadata": {
    "collapsed": false,
    "ExecuteTime": {
     "end_time": "2024-10-07T15:45:38.792615100Z",
     "start_time": "2024-10-07T15:45:38.774392400Z"
    }
   },
   "id": "8a1a5240f9c7d84"
  },
  {
   "cell_type": "code",
   "execution_count": 10,
   "outputs": [
    {
     "data": {
      "text/plain": "array([[0., 0., 0.],\n       [0., 0., 0.],\n       [0., 0., 0.]])"
     },
     "execution_count": 10,
     "metadata": {},
     "output_type": "execute_result"
    }
   ],
   "source": [
    "np.zeros((3, 3))"
   ],
   "metadata": {
    "collapsed": false,
    "ExecuteTime": {
     "end_time": "2024-10-07T15:46:02.292076500Z",
     "start_time": "2024-10-07T15:46:02.262291400Z"
    }
   },
   "id": "267585425e568422"
  },
  {
   "cell_type": "code",
   "execution_count": 11,
   "outputs": [
    {
     "data": {
      "text/plain": "array([[1., 1., 1., 1.],\n       [1., 1., 1., 1.]])"
     },
     "execution_count": 11,
     "metadata": {},
     "output_type": "execute_result"
    }
   ],
   "source": [
    "np.ones((2, 4))"
   ],
   "metadata": {
    "collapsed": false,
    "ExecuteTime": {
     "end_time": "2024-10-07T15:46:14.466393Z",
     "start_time": "2024-10-07T15:46:14.434099600Z"
    }
   },
   "id": "c9511aceaef3fc91"
  },
  {
   "cell_type": "code",
   "execution_count": 12,
   "outputs": [
    {
     "data": {
      "text/plain": "array([[1., 0., 0.],\n       [0., 1., 0.],\n       [0., 0., 1.]])"
     },
     "execution_count": 12,
     "metadata": {},
     "output_type": "execute_result"
    }
   ],
   "source": [
    "np.eye(3)"
   ],
   "metadata": {
    "collapsed": false,
    "ExecuteTime": {
     "end_time": "2024-10-07T15:46:21.919958Z",
     "start_time": "2024-10-07T15:46:21.902366Z"
    }
   },
   "id": "27bb32b0779f2221"
  },
  {
   "cell_type": "code",
   "execution_count": 13,
   "outputs": [
    {
     "data": {
      "text/plain": "array([[0.38861389, 0.60783471, 0.5368452 ],\n       [0.25630063, 0.29712458, 0.17654579]])"
     },
     "execution_count": 13,
     "metadata": {},
     "output_type": "execute_result"
    }
   ],
   "source": [
    "np.random.random((2, 3))"
   ],
   "metadata": {
    "collapsed": false,
    "ExecuteTime": {
     "end_time": "2024-10-07T15:46:24.423790600Z",
     "start_time": "2024-10-07T15:46:24.401117200Z"
    }
   },
   "id": "b5d4f73748e66754"
  },
  {
   "cell_type": "code",
   "execution_count": 14,
   "outputs": [
    {
     "data": {
      "text/plain": "array([5, 7, 9])"
     },
     "execution_count": 14,
     "metadata": {},
     "output_type": "execute_result"
    }
   ],
   "source": [
    "array_a = np.array([1, 2, 3])\n",
    "array_b = np.array([4, 5, 6])\n",
    "\n",
    "array_a + array_b"
   ],
   "metadata": {
    "collapsed": false,
    "ExecuteTime": {
     "end_time": "2024-10-07T15:46:48.212363500Z",
     "start_time": "2024-10-07T15:46:48.174426500Z"
    }
   },
   "id": "afe9381d42b01ec"
  },
  {
   "cell_type": "code",
   "execution_count": 15,
   "outputs": [
    {
     "data": {
      "text/plain": "array([2, 4, 6])"
     },
     "execution_count": 15,
     "metadata": {},
     "output_type": "execute_result"
    }
   ],
   "source": [
    "array_a * 2"
   ],
   "metadata": {
    "collapsed": false,
    "ExecuteTime": {
     "end_time": "2024-10-07T15:46:52.907897200Z",
     "start_time": "2024-10-07T15:46:52.881301500Z"
    }
   },
   "id": "91ec8ad0e4cda54"
  },
  {
   "cell_type": "code",
   "execution_count": 16,
   "outputs": [
    {
     "name": "stdout",
     "output_type": "stream",
     "text": [
      "Максимум в массиве: 6\n",
      "Минимум в массиве: 2\n",
      "Среднее значение в массиве: 3.6666666666666665\n",
      "Сумма всех элементов в массиве: 22\n"
     ]
    }
   ],
   "source": [
    "print(\"Максимум в массиве:\", np.max(array_2d))\n",
    "print(\"Минимум в массиве:\", np.min(array_2d))\n",
    "print(\"Среднее значение в массиве:\", np.mean(array_2d))\n",
    "print(\"Сумма всех элементов в массиве:\", np.sum(array_2d))"
   ],
   "metadata": {
    "collapsed": false,
    "ExecuteTime": {
     "end_time": "2024-10-07T15:46:54.940298600Z",
     "start_time": "2024-10-07T15:46:54.919463200Z"
    }
   },
   "id": "ff81d7328ff4d573"
  },
  {
   "cell_type": "code",
   "execution_count": 17,
   "outputs": [
    {
     "data": {
      "text/plain": "array([[False, False, False],\n       [False, False,  True]])"
     },
     "execution_count": 17,
     "metadata": {},
     "output_type": "execute_result"
    }
   ],
   "source": [
    "array_2d > 5"
   ],
   "metadata": {
    "collapsed": false,
    "ExecuteTime": {
     "end_time": "2024-10-07T15:47:23.654753500Z",
     "start_time": "2024-10-07T15:47:23.626008700Z"
    }
   },
   "id": "1ab7c3b7b03f5f7e"
  },
  {
   "cell_type": "code",
   "execution_count": 18,
   "outputs": [
    {
     "data": {
      "text/plain": "array([[-100, -100, -100],\n       [-100, -100,  100]])"
     },
     "execution_count": 18,
     "metadata": {},
     "output_type": "execute_result"
    }
   ],
   "source": [
    "np.where(array_2d > 5, 100, -100)"
   ],
   "metadata": {
    "collapsed": false,
    "ExecuteTime": {
     "end_time": "2024-10-07T15:47:36.861816100Z",
     "start_time": "2024-10-07T15:47:36.843000600Z"
    }
   },
   "id": "8051f7e5431046a4"
  },
  {
   "cell_type": "code",
   "execution_count": 19,
   "outputs": [
    {
     "data": {
      "text/plain": "array([[1, 2],\n       [3, 4],\n       [5, 6]])"
     },
     "execution_count": 19,
     "metadata": {},
     "output_type": "execute_result"
    }
   ],
   "source": [
    "array_1d.reshape((3, 2))"
   ],
   "metadata": {
    "collapsed": false,
    "ExecuteTime": {
     "end_time": "2024-10-07T15:47:40.564584400Z",
     "start_time": "2024-10-07T15:47:40.538154500Z"
    }
   },
   "id": "6dd02a3501130b2c"
  },
  {
   "cell_type": "code",
   "execution_count": 20,
   "outputs": [
    {
     "data": {
      "text/plain": "array([2, 2, 3, 4, 5, 6])"
     },
     "execution_count": 20,
     "metadata": {},
     "output_type": "execute_result"
    }
   ],
   "source": [
    "array_2d.flatten()"
   ],
   "metadata": {
    "collapsed": false,
    "ExecuteTime": {
     "end_time": "2024-10-07T15:47:48.766108200Z",
     "start_time": "2024-10-07T15:47:48.740194700Z"
    }
   },
   "id": "b3dc99bb72fbb351"
  },
  {
   "cell_type": "code",
   "execution_count": 21,
   "outputs": [
    {
     "data": {
      "text/plain": "array([1, 2, 3, 4, 5, 6])"
     },
     "execution_count": 21,
     "metadata": {},
     "output_type": "execute_result"
    }
   ],
   "source": [
    "np.concatenate([array_a, array_b])"
   ],
   "metadata": {
    "collapsed": false,
    "ExecuteTime": {
     "end_time": "2024-10-07T15:47:58.199414600Z",
     "start_time": "2024-10-07T15:47:58.186217600Z"
    }
   },
   "id": "3fc6263b7f1d96f4"
  },
  {
   "cell_type": "code",
   "execution_count": 22,
   "outputs": [
    {
     "data": {
      "text/plain": "2"
     },
     "metadata": {},
     "output_type": "display_data"
    },
    {
     "data": {
      "text/plain": "2"
     },
     "metadata": {},
     "output_type": "display_data"
    },
    {
     "data": {
      "text/plain": "3"
     },
     "metadata": {},
     "output_type": "display_data"
    },
    {
     "data": {
      "text/plain": "4"
     },
     "metadata": {},
     "output_type": "display_data"
    },
    {
     "data": {
      "text/plain": "5"
     },
     "metadata": {},
     "output_type": "display_data"
    },
    {
     "data": {
      "text/plain": "6"
     },
     "metadata": {},
     "output_type": "display_data"
    }
   ],
   "source": [
    "for element in array_2d.flat:\n",
    "    display(element)"
   ],
   "metadata": {
    "collapsed": false,
    "ExecuteTime": {
     "end_time": "2024-10-07T15:48:10.308787Z",
     "start_time": "2024-10-07T15:48:10.290714700Z"
    }
   },
   "id": "1d442bed2793f30d"
  },
  {
   "cell_type": "code",
   "execution_count": 24,
   "outputs": [
    {
     "data": {
      "text/plain": "array([2, 2, 3, 4, 5, 6])"
     },
     "execution_count": 24,
     "metadata": {},
     "output_type": "execute_result"
    }
   ],
   "source": [
    "np.array(array_2d.flat)"
   ],
   "metadata": {
    "collapsed": false,
    "ExecuteTime": {
     "end_time": "2024-10-07T15:48:30.226459500Z",
     "start_time": "2024-10-07T15:48:30.206280200Z"
    }
   },
   "id": "88d54bdfe9bf0ab7"
  },
  {
   "cell_type": "code",
   "execution_count": null,
   "outputs": [],
   "source": [],
   "metadata": {
    "collapsed": false
   },
   "id": "610e14e3da0adf79"
  }
 ],
 "metadata": {
  "kernelspec": {
   "display_name": "Python 3",
   "language": "python",
   "name": "python3"
  },
  "language_info": {
   "codemirror_mode": {
    "name": "ipython",
    "version": 2
   },
   "file_extension": ".py",
   "mimetype": "text/x-python",
   "name": "python",
   "nbconvert_exporter": "python",
   "pygments_lexer": "ipython2",
   "version": "2.7.6"
  }
 },
 "nbformat": 4,
 "nbformat_minor": 5
}
