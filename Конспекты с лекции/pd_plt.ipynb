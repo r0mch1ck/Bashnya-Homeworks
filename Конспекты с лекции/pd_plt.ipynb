{
 "cells": [
  {
   "cell_type": "code",
   "execution_count": 1,
   "id": "initial_id",
   "metadata": {
    "collapsed": true,
    "ExecuteTime": {
     "end_time": "2024-10-10T15:00:18.790412100Z",
     "start_time": "2024-10-10T15:00:18.788403200Z"
    }
   },
   "outputs": [],
   "source": [
    "import pandas as pd\n",
    "import numpy as np\n",
    "import matplotlib.pyplot as plt"
   ]
  },
  {
   "cell_type": "markdown",
   "source": [
    "## Создание Series"
   ],
   "metadata": {
    "collapsed": false
   },
   "id": "92c04b8422c111d"
  },
  {
   "cell_type": "code",
   "execution_count": 2,
   "outputs": [],
   "source": [
    "student_names = ['Вася', 'Оля', 'Петя', 'Даша', 'Катя']\n",
    "age_list = [23, 21, 26, 19, 30]\n",
    "score_list = [4, 5, 3.5, 4.5, 5]"
   ],
   "metadata": {
    "collapsed": false,
    "ExecuteTime": {
     "end_time": "2024-10-10T15:00:18.801682700Z",
     "start_time": "2024-10-10T15:00:18.793474900Z"
    }
   },
   "id": "a734e2d84680040c"
  },
  {
   "cell_type": "code",
   "execution_count": 3,
   "outputs": [
    {
     "data": {
      "text/plain": "Вася    23\nОля     21\nПетя    26\nДаша    19\nКатя    30\nName: Возраст, dtype: int64"
     },
     "execution_count": 3,
     "metadata": {},
     "output_type": "execute_result"
    }
   ],
   "source": [
    "age = pd.Series(age_list, index=student_names, name='Возраст')\n",
    "score = pd.Series(score_list, index=student_names, name='Оценка по тесту')\n",
    "age"
   ],
   "metadata": {
    "collapsed": false,
    "ExecuteTime": {
     "end_time": "2024-10-10T15:00:18.835048400Z",
     "start_time": "2024-10-10T15:00:18.807288700Z"
    }
   },
   "id": "ff9efc735777bacd"
  },
  {
   "cell_type": "markdown",
   "source": [
    "## Создание DataFrame"
   ],
   "metadata": {
    "collapsed": false
   },
   "id": "5f8f0d9a510d55c3"
  },
  {
   "cell_type": "code",
   "execution_count": 4,
   "outputs": [
    {
     "data": {
      "text/plain": "      Возраст  Оценка по тесту\nВася       23              4.0\nОля        21              5.0\nПетя       26              3.5\nДаша       19              4.5\nКатя       30              5.0",
      "text/html": "<div>\n<style scoped>\n    .dataframe tbody tr th:only-of-type {\n        vertical-align: middle;\n    }\n\n    .dataframe tbody tr th {\n        vertical-align: top;\n    }\n\n    .dataframe thead th {\n        text-align: right;\n    }\n</style>\n<table border=\"1\" class=\"dataframe\">\n  <thead>\n    <tr style=\"text-align: right;\">\n      <th></th>\n      <th>Возраст</th>\n      <th>Оценка по тесту</th>\n    </tr>\n  </thead>\n  <tbody>\n    <tr>\n      <th>Вася</th>\n      <td>23</td>\n      <td>4.0</td>\n    </tr>\n    <tr>\n      <th>Оля</th>\n      <td>21</td>\n      <td>5.0</td>\n    </tr>\n    <tr>\n      <th>Петя</th>\n      <td>26</td>\n      <td>3.5</td>\n    </tr>\n    <tr>\n      <th>Даша</th>\n      <td>19</td>\n      <td>4.5</td>\n    </tr>\n    <tr>\n      <th>Катя</th>\n      <td>30</td>\n      <td>5.0</td>\n    </tr>\n  </tbody>\n</table>\n</div>"
     },
     "execution_count": 4,
     "metadata": {},
     "output_type": "execute_result"
    }
   ],
   "source": [
    "students = age.to_frame()\n",
    "students['Оценка по тесту'] = score\n",
    "students"
   ],
   "metadata": {
    "collapsed": false,
    "ExecuteTime": {
     "end_time": "2024-10-10T15:00:18.852973100Z",
     "start_time": "2024-10-10T15:00:18.823484200Z"
    }
   },
   "id": "4d666c30c43d9360"
  },
  {
   "cell_type": "markdown",
   "source": [
    "## Чтение данных из CSV файла"
   ],
   "metadata": {
    "collapsed": false
   },
   "id": "b84a22d6edfd027b"
  },
  {
   "cell_type": "code",
   "execution_count": 5,
   "outputs": [
    {
     "data": {
      "text/plain": "                                                 name  subscribers_mln  \\\n0                                            T-Series              171   \n1                                           PewDiePie              109   \n2                          Cocomelon - Nursery Rhymes              104   \n3                                           SET India               94   \n4                                     Kids Diana Show               73   \n5                                                 WWE               72   \n6                                     5-Minute Crafts               70   \n7                                         Like Nastya               68   \n8                                   Zee Music Company               67   \n9                                     Canal KondZilla               63   \n10                                    Vlad and Nikita               61   \n11                                      Justin Bieber               60   \n12                                          Blackpink               57   \n13                                             Zee TV               55   \n14                                       Dude Perfect               54   \n15                                            MrBeast               52   \n16                                         Marshmello               51   \n17                                     Big Hit Labels               50   \n18                                         Movieclips               48   \n19                                Goldmines Telefilms               47   \n20                               Shemaroo Filmi Gaane               47   \n21                                         Ed Sheeran               46   \n22                                      Ariana Grande               46   \n23                                        EminemMusic               46   \n24              ChuChu TV Nursery Rhymes & Kids Songs               44   \n25                                             SAB TV               44   \n26                                            Aaj Tak               44   \n27                                          BangtanTV               44   \n28                                            Badabun               43   \n29                    Pinkfong! Kids' Stories & Songs               43   \n30                                        JuegaGerman               42   \n31                                     HolaSoyGerman.               42   \n32                                   whinderssonnunes               41   \n33                                   Sony Music India               41   \n34                                        Felipe Neto               41   \n35                                         Wave Music               41   \n36                                       Taylor Swift               41   \n37                                         Fernanfloo               40   \n38                                  El Reino Infantil               39   \n39                                         Katy Perry               39   \n40                                        elrubiusOMG               39   \n41                                        Você Sabia?               39   \n42  LooLoo Kids - Nursery Rhymes and Children's Songs               38   \n43                                        Bright Side               38   \n44                                        Alan Walker               38   \n45                                      Billie Eilish               37   \n46                                       TheEllenShow               37   \n47                              T-Series Bhakti Sagar               36   \n48                                      Tips Official               36   \n49                                                YRF               36   \n\n      language       category  in_russian  like_to_view_ratio  \n0        Hindi          Music       False            0.430178  \n1      English  Entertainment       False            0.444065  \n2      English      Education       False            0.573531  \n3        Hindi  Entertainment       False            0.426803  \n4      English  Entertainment       False            0.410649  \n5      English         Sports       False            0.464831  \n6      English         How-to       False            0.718436  \n7      Russian  Entertainment        True            0.523387  \n8        Hindi          Music       False            0.412821  \n9   Portuguese          Music       False            0.498615  \n10     English  Entertainment       False            0.647971  \n11     English          Music       False            0.477053  \n12      Korean          Music       False            0.432179  \n13       Hindi  Entertainment       False            0.395288  \n14     English         Sports       False            0.480551  \n15     English  Entertainment       False            0.412684  \n16     English          Music       False            0.479265  \n17      Korean          Music       False            0.531189  \n18     English           Film       False            0.384794  \n19       Hindi           Film       False            0.413093  \n20       Hindi          Music       False            0.387176  \n21     English          Music       False            0.461837  \n22     English          Music       False            0.708712  \n23     English          Music       False            0.497420  \n24     English      Education       False            0.557902  \n25       Hindi  Entertainment       False            0.530589  \n26       Hindi           News       False            0.390951  \n27      Korean          Music       False            0.556121  \n28     Spanish  Entertainment       False            0.458410  \n29     English      Education       False            0.513633  \n30     Spanish  Entertainment       False            0.416839  \n31     Spanish  Entertainment       False            0.491003  \n32  Portuguese  Entertainment       False            0.690834  \n33       Hindi          Music       False            0.441345  \n34  Portuguese  Entertainment       False            0.394600  \n35    Bhojpuri          Music       False            0.500729  \n36     English          Music       False            0.558237  \n37     Spanish          Games       False            0.473506  \n38     Spanish          Music       False            0.624262  \n39     English  Entertainment       False            0.485305  \n40     Spanish          Games       False            0.658884  \n41  Portuguese  Entertainment       False            0.449336  \n42     English          Music       False            0.634510  \n43     English  Entertainment       False            0.340324  \n44     English          Music       False            0.374893  \n45     English          Music       False            0.488964  \n46     English  Entertainment       False            0.545737  \n47       Hindi          Music       False            0.445143  \n48       Hindi          Music       False            0.462328  \n49       Hindi          Music       False            0.439387  ",
      "text/html": "<div>\n<style scoped>\n    .dataframe tbody tr th:only-of-type {\n        vertical-align: middle;\n    }\n\n    .dataframe tbody tr th {\n        vertical-align: top;\n    }\n\n    .dataframe thead th {\n        text-align: right;\n    }\n</style>\n<table border=\"1\" class=\"dataframe\">\n  <thead>\n    <tr style=\"text-align: right;\">\n      <th></th>\n      <th>name</th>\n      <th>subscribers_mln</th>\n      <th>language</th>\n      <th>category</th>\n      <th>in_russian</th>\n      <th>like_to_view_ratio</th>\n    </tr>\n  </thead>\n  <tbody>\n    <tr>\n      <th>0</th>\n      <td>T-Series</td>\n      <td>171</td>\n      <td>Hindi</td>\n      <td>Music</td>\n      <td>False</td>\n      <td>0.430178</td>\n    </tr>\n    <tr>\n      <th>1</th>\n      <td>PewDiePie</td>\n      <td>109</td>\n      <td>English</td>\n      <td>Entertainment</td>\n      <td>False</td>\n      <td>0.444065</td>\n    </tr>\n    <tr>\n      <th>2</th>\n      <td>Cocomelon - Nursery Rhymes</td>\n      <td>104</td>\n      <td>English</td>\n      <td>Education</td>\n      <td>False</td>\n      <td>0.573531</td>\n    </tr>\n    <tr>\n      <th>3</th>\n      <td>SET India</td>\n      <td>94</td>\n      <td>Hindi</td>\n      <td>Entertainment</td>\n      <td>False</td>\n      <td>0.426803</td>\n    </tr>\n    <tr>\n      <th>4</th>\n      <td>Kids Diana Show</td>\n      <td>73</td>\n      <td>English</td>\n      <td>Entertainment</td>\n      <td>False</td>\n      <td>0.410649</td>\n    </tr>\n    <tr>\n      <th>5</th>\n      <td>WWE</td>\n      <td>72</td>\n      <td>English</td>\n      <td>Sports</td>\n      <td>False</td>\n      <td>0.464831</td>\n    </tr>\n    <tr>\n      <th>6</th>\n      <td>5-Minute Crafts</td>\n      <td>70</td>\n      <td>English</td>\n      <td>How-to</td>\n      <td>False</td>\n      <td>0.718436</td>\n    </tr>\n    <tr>\n      <th>7</th>\n      <td>Like Nastya</td>\n      <td>68</td>\n      <td>Russian</td>\n      <td>Entertainment</td>\n      <td>True</td>\n      <td>0.523387</td>\n    </tr>\n    <tr>\n      <th>8</th>\n      <td>Zee Music Company</td>\n      <td>67</td>\n      <td>Hindi</td>\n      <td>Music</td>\n      <td>False</td>\n      <td>0.412821</td>\n    </tr>\n    <tr>\n      <th>9</th>\n      <td>Canal KondZilla</td>\n      <td>63</td>\n      <td>Portuguese</td>\n      <td>Music</td>\n      <td>False</td>\n      <td>0.498615</td>\n    </tr>\n    <tr>\n      <th>10</th>\n      <td>Vlad and Nikita</td>\n      <td>61</td>\n      <td>English</td>\n      <td>Entertainment</td>\n      <td>False</td>\n      <td>0.647971</td>\n    </tr>\n    <tr>\n      <th>11</th>\n      <td>Justin Bieber</td>\n      <td>60</td>\n      <td>English</td>\n      <td>Music</td>\n      <td>False</td>\n      <td>0.477053</td>\n    </tr>\n    <tr>\n      <th>12</th>\n      <td>Blackpink</td>\n      <td>57</td>\n      <td>Korean</td>\n      <td>Music</td>\n      <td>False</td>\n      <td>0.432179</td>\n    </tr>\n    <tr>\n      <th>13</th>\n      <td>Zee TV</td>\n      <td>55</td>\n      <td>Hindi</td>\n      <td>Entertainment</td>\n      <td>False</td>\n      <td>0.395288</td>\n    </tr>\n    <tr>\n      <th>14</th>\n      <td>Dude Perfect</td>\n      <td>54</td>\n      <td>English</td>\n      <td>Sports</td>\n      <td>False</td>\n      <td>0.480551</td>\n    </tr>\n    <tr>\n      <th>15</th>\n      <td>MrBeast</td>\n      <td>52</td>\n      <td>English</td>\n      <td>Entertainment</td>\n      <td>False</td>\n      <td>0.412684</td>\n    </tr>\n    <tr>\n      <th>16</th>\n      <td>Marshmello</td>\n      <td>51</td>\n      <td>English</td>\n      <td>Music</td>\n      <td>False</td>\n      <td>0.479265</td>\n    </tr>\n    <tr>\n      <th>17</th>\n      <td>Big Hit Labels</td>\n      <td>50</td>\n      <td>Korean</td>\n      <td>Music</td>\n      <td>False</td>\n      <td>0.531189</td>\n    </tr>\n    <tr>\n      <th>18</th>\n      <td>Movieclips</td>\n      <td>48</td>\n      <td>English</td>\n      <td>Film</td>\n      <td>False</td>\n      <td>0.384794</td>\n    </tr>\n    <tr>\n      <th>19</th>\n      <td>Goldmines Telefilms</td>\n      <td>47</td>\n      <td>Hindi</td>\n      <td>Film</td>\n      <td>False</td>\n      <td>0.413093</td>\n    </tr>\n    <tr>\n      <th>20</th>\n      <td>Shemaroo Filmi Gaane</td>\n      <td>47</td>\n      <td>Hindi</td>\n      <td>Music</td>\n      <td>False</td>\n      <td>0.387176</td>\n    </tr>\n    <tr>\n      <th>21</th>\n      <td>Ed Sheeran</td>\n      <td>46</td>\n      <td>English</td>\n      <td>Music</td>\n      <td>False</td>\n      <td>0.461837</td>\n    </tr>\n    <tr>\n      <th>22</th>\n      <td>Ariana Grande</td>\n      <td>46</td>\n      <td>English</td>\n      <td>Music</td>\n      <td>False</td>\n      <td>0.708712</td>\n    </tr>\n    <tr>\n      <th>23</th>\n      <td>EminemMusic</td>\n      <td>46</td>\n      <td>English</td>\n      <td>Music</td>\n      <td>False</td>\n      <td>0.497420</td>\n    </tr>\n    <tr>\n      <th>24</th>\n      <td>ChuChu TV Nursery Rhymes &amp; Kids Songs</td>\n      <td>44</td>\n      <td>English</td>\n      <td>Education</td>\n      <td>False</td>\n      <td>0.557902</td>\n    </tr>\n    <tr>\n      <th>25</th>\n      <td>SAB TV</td>\n      <td>44</td>\n      <td>Hindi</td>\n      <td>Entertainment</td>\n      <td>False</td>\n      <td>0.530589</td>\n    </tr>\n    <tr>\n      <th>26</th>\n      <td>Aaj Tak</td>\n      <td>44</td>\n      <td>Hindi</td>\n      <td>News</td>\n      <td>False</td>\n      <td>0.390951</td>\n    </tr>\n    <tr>\n      <th>27</th>\n      <td>BangtanTV</td>\n      <td>44</td>\n      <td>Korean</td>\n      <td>Music</td>\n      <td>False</td>\n      <td>0.556121</td>\n    </tr>\n    <tr>\n      <th>28</th>\n      <td>Badabun</td>\n      <td>43</td>\n      <td>Spanish</td>\n      <td>Entertainment</td>\n      <td>False</td>\n      <td>0.458410</td>\n    </tr>\n    <tr>\n      <th>29</th>\n      <td>Pinkfong! Kids' Stories &amp; Songs</td>\n      <td>43</td>\n      <td>English</td>\n      <td>Education</td>\n      <td>False</td>\n      <td>0.513633</td>\n    </tr>\n    <tr>\n      <th>30</th>\n      <td>JuegaGerman</td>\n      <td>42</td>\n      <td>Spanish</td>\n      <td>Entertainment</td>\n      <td>False</td>\n      <td>0.416839</td>\n    </tr>\n    <tr>\n      <th>31</th>\n      <td>HolaSoyGerman.</td>\n      <td>42</td>\n      <td>Spanish</td>\n      <td>Entertainment</td>\n      <td>False</td>\n      <td>0.491003</td>\n    </tr>\n    <tr>\n      <th>32</th>\n      <td>whinderssonnunes</td>\n      <td>41</td>\n      <td>Portuguese</td>\n      <td>Entertainment</td>\n      <td>False</td>\n      <td>0.690834</td>\n    </tr>\n    <tr>\n      <th>33</th>\n      <td>Sony Music India</td>\n      <td>41</td>\n      <td>Hindi</td>\n      <td>Music</td>\n      <td>False</td>\n      <td>0.441345</td>\n    </tr>\n    <tr>\n      <th>34</th>\n      <td>Felipe Neto</td>\n      <td>41</td>\n      <td>Portuguese</td>\n      <td>Entertainment</td>\n      <td>False</td>\n      <td>0.394600</td>\n    </tr>\n    <tr>\n      <th>35</th>\n      <td>Wave Music</td>\n      <td>41</td>\n      <td>Bhojpuri</td>\n      <td>Music</td>\n      <td>False</td>\n      <td>0.500729</td>\n    </tr>\n    <tr>\n      <th>36</th>\n      <td>Taylor Swift</td>\n      <td>41</td>\n      <td>English</td>\n      <td>Music</td>\n      <td>False</td>\n      <td>0.558237</td>\n    </tr>\n    <tr>\n      <th>37</th>\n      <td>Fernanfloo</td>\n      <td>40</td>\n      <td>Spanish</td>\n      <td>Games</td>\n      <td>False</td>\n      <td>0.473506</td>\n    </tr>\n    <tr>\n      <th>38</th>\n      <td>El Reino Infantil</td>\n      <td>39</td>\n      <td>Spanish</td>\n      <td>Music</td>\n      <td>False</td>\n      <td>0.624262</td>\n    </tr>\n    <tr>\n      <th>39</th>\n      <td>Katy Perry</td>\n      <td>39</td>\n      <td>English</td>\n      <td>Entertainment</td>\n      <td>False</td>\n      <td>0.485305</td>\n    </tr>\n    <tr>\n      <th>40</th>\n      <td>elrubiusOMG</td>\n      <td>39</td>\n      <td>Spanish</td>\n      <td>Games</td>\n      <td>False</td>\n      <td>0.658884</td>\n    </tr>\n    <tr>\n      <th>41</th>\n      <td>Você Sabia?</td>\n      <td>39</td>\n      <td>Portuguese</td>\n      <td>Entertainment</td>\n      <td>False</td>\n      <td>0.449336</td>\n    </tr>\n    <tr>\n      <th>42</th>\n      <td>LooLoo Kids - Nursery Rhymes and Children's Songs</td>\n      <td>38</td>\n      <td>English</td>\n      <td>Music</td>\n      <td>False</td>\n      <td>0.634510</td>\n    </tr>\n    <tr>\n      <th>43</th>\n      <td>Bright Side</td>\n      <td>38</td>\n      <td>English</td>\n      <td>Entertainment</td>\n      <td>False</td>\n      <td>0.340324</td>\n    </tr>\n    <tr>\n      <th>44</th>\n      <td>Alan Walker</td>\n      <td>38</td>\n      <td>English</td>\n      <td>Music</td>\n      <td>False</td>\n      <td>0.374893</td>\n    </tr>\n    <tr>\n      <th>45</th>\n      <td>Billie Eilish</td>\n      <td>37</td>\n      <td>English</td>\n      <td>Music</td>\n      <td>False</td>\n      <td>0.488964</td>\n    </tr>\n    <tr>\n      <th>46</th>\n      <td>TheEllenShow</td>\n      <td>37</td>\n      <td>English</td>\n      <td>Entertainment</td>\n      <td>False</td>\n      <td>0.545737</td>\n    </tr>\n    <tr>\n      <th>47</th>\n      <td>T-Series Bhakti Sagar</td>\n      <td>36</td>\n      <td>Hindi</td>\n      <td>Music</td>\n      <td>False</td>\n      <td>0.445143</td>\n    </tr>\n    <tr>\n      <th>48</th>\n      <td>Tips Official</td>\n      <td>36</td>\n      <td>Hindi</td>\n      <td>Music</td>\n      <td>False</td>\n      <td>0.462328</td>\n    </tr>\n    <tr>\n      <th>49</th>\n      <td>YRF</td>\n      <td>36</td>\n      <td>Hindi</td>\n      <td>Music</td>\n      <td>False</td>\n      <td>0.439387</td>\n    </tr>\n  </tbody>\n</table>\n</div>"
     },
     "execution_count": 5,
     "metadata": {},
     "output_type": "execute_result"
    }
   ],
   "source": [
    "youtube_channels = pd.read_excel('lesson02_wiki_top_youtube_channels.xlsx', sheet_name='data')\n",
    "youtube_channels"
   ],
   "metadata": {
    "collapsed": false,
    "ExecuteTime": {
     "end_time": "2024-10-10T15:00:19.599242700Z",
     "start_time": "2024-10-10T15:00:18.847313200Z"
    }
   },
   "id": "33a97d0e4d68d359"
  },
  {
   "cell_type": "markdown",
   "source": [
    "# Исследование данных"
   ],
   "metadata": {
    "collapsed": false
   },
   "id": "1ff2943dd1c18b20"
  },
  {
   "cell_type": "code",
   "execution_count": 6,
   "outputs": [
    {
     "name": "stdout",
     "output_type": "stream",
     "text": [
      "<class 'pandas.core.frame.DataFrame'>\n",
      "RangeIndex: 50 entries, 0 to 49\n",
      "Data columns (total 6 columns):\n",
      " #   Column              Non-Null Count  Dtype  \n",
      "---  ------              --------------  -----  \n",
      " 0   name                50 non-null     object \n",
      " 1   subscribers_mln     50 non-null     int64  \n",
      " 2   language            50 non-null     object \n",
      " 3   category            50 non-null     object \n",
      " 4   in_russian          50 non-null     bool   \n",
      " 5   like_to_view_ratio  50 non-null     float64\n",
      "dtypes: bool(1), float64(1), int64(1), object(3)\n",
      "memory usage: 2.1+ KB\n"
     ]
    }
   ],
   "source": [
    "youtube_channels.info()"
   ],
   "metadata": {
    "collapsed": false,
    "ExecuteTime": {
     "end_time": "2024-10-10T15:00:19.599749600Z",
     "start_time": "2024-10-10T15:00:19.580692600Z"
    }
   },
   "id": "21a15f9257513541"
  },
  {
   "cell_type": "code",
   "execution_count": 7,
   "outputs": [
    {
     "data": {
      "text/plain": "0     171\n1     109\n2     104\n3      94\n4      73\n5      72\n6      70\n7      68\n8      67\n9      63\n10     61\n11     60\n12     57\n13     55\n14     54\n15     52\n16     51\n17     50\n18     48\n19     47\n20     47\n21     46\n22     46\n23     46\n24     44\n25     44\n26     44\n27     44\n28     43\n29     43\n30     42\n31     42\n32     41\n33     41\n34     41\n35     41\n36     41\n37     40\n38     39\n39     39\n40     39\n41     39\n42     38\n43     38\n44     38\n45     37\n46     37\n47     36\n48     36\n49     36\nName: subscribers_mln, dtype: int64"
     },
     "execution_count": 7,
     "metadata": {},
     "output_type": "execute_result"
    }
   ],
   "source": [
    "youtube_channels['subscribers_mln'] # youtube_channels.subscribers_mln"
   ],
   "metadata": {
    "collapsed": false,
    "ExecuteTime": {
     "end_time": "2024-10-10T15:00:19.599749600Z",
     "start_time": "2024-10-10T15:00:19.587325800Z"
    }
   },
   "id": "5ceb42c9af1a23ac"
  },
  {
   "cell_type": "code",
   "execution_count": 8,
   "outputs": [
    {
     "data": {
      "text/plain": "171"
     },
     "execution_count": 8,
     "metadata": {},
     "output_type": "execute_result"
    }
   ],
   "source": [
    "youtube_channels['subscribers_mln'][0]"
   ],
   "metadata": {
    "collapsed": false,
    "ExecuteTime": {
     "end_time": "2024-10-10T15:00:19.623309300Z",
     "start_time": "2024-10-10T15:00:19.597527900Z"
    }
   },
   "id": "547aad95705788b3"
  },
  {
   "cell_type": "code",
   "execution_count": 9,
   "outputs": [
    {
     "data": {
      "text/plain": "0     171\n1     109\n2     104\n3      94\n4      73\n5      72\n6      70\n7      68\n8      67\n9      63\n10     61\n11     60\n12     57\n13     55\n14     54\n15     52\n16     51\n17     50\n18     48\n19     47\n20     47\n21     46\n22     46\n23     46\n24     44\n25     44\n26     44\n27     44\n28     43\n29     43\n30     42\n31     42\n32     41\n33     41\n34     41\n35     41\n36     41\n37     40\n38     39\n39     39\n40     39\n41     39\n42     38\n43     38\n44     38\n45     37\n46     37\n47     36\n48     36\n49     36\nName: subscribers_mln, dtype: int64"
     },
     "execution_count": 9,
     "metadata": {},
     "output_type": "execute_result"
    }
   ],
   "source": [
    "youtube_channels.subscribers_mln"
   ],
   "metadata": {
    "collapsed": false,
    "ExecuteTime": {
     "end_time": "2024-10-10T15:00:19.626338Z",
     "start_time": "2024-10-10T15:00:19.604422600Z"
    }
   },
   "id": "c1d266536cd62f65"
  },
  {
   "cell_type": "code",
   "execution_count": 10,
   "outputs": [
    {
     "data": {
      "text/plain": "Index(['name', 'subscribers_mln', 'language', 'category', 'in_russian',\n       'like_to_view_ratio'],\n      dtype='object')"
     },
     "execution_count": 10,
     "metadata": {},
     "output_type": "execute_result"
    }
   ],
   "source": [
    "youtube_channels.columns"
   ],
   "metadata": {
    "collapsed": false,
    "ExecuteTime": {
     "end_time": "2024-10-10T15:00:19.626338Z",
     "start_time": "2024-10-10T15:00:19.611901600Z"
    }
   },
   "id": "138ea416a59a11ba"
  },
  {
   "cell_type": "code",
   "execution_count": 11,
   "outputs": [
    {
     "data": {
      "text/plain": "RangeIndex(start=0, stop=50, step=1)"
     },
     "execution_count": 11,
     "metadata": {},
     "output_type": "execute_result"
    }
   ],
   "source": [
    "youtube_channels.index"
   ],
   "metadata": {
    "collapsed": false,
    "ExecuteTime": {
     "end_time": "2024-10-10T15:00:19.774717900Z",
     "start_time": "2024-10-10T15:00:19.618803400Z"
    }
   },
   "id": "be23a91269a4b3ca"
  },
  {
   "cell_type": "markdown",
   "source": [
    "## Категориальные переменные"
   ],
   "metadata": {
    "collapsed": false
   },
   "id": "2eb9ae3146dff75d"
  },
  {
   "cell_type": "code",
   "execution_count": 12,
   "outputs": [
    {
     "data": {
      "text/plain": "category\nMusic            22\nEntertainment    17\nEducation         3\nSports            2\nFilm              2\nGames             2\nHow-to            1\nNews              1\nName: count, dtype: int64"
     },
     "execution_count": 12,
     "metadata": {},
     "output_type": "execute_result"
    }
   ],
   "source": [
    "youtube_channels['category'].value_counts()"
   ],
   "metadata": {
    "collapsed": false,
    "ExecuteTime": {
     "end_time": "2024-10-10T15:00:19.852002400Z",
     "start_time": "2024-10-10T15:00:19.631889100Z"
    }
   },
   "id": "70c6929395761b3d"
  },
  {
   "cell_type": "code",
   "execution_count": 13,
   "outputs": [
    {
     "data": {
      "text/plain": "count     50.000000\nmean      53.080000\nstd       23.818052\nmin       36.000000\n25%       40.250000\n50%       44.000000\n75%       56.500000\nmax      171.000000\nName: subscribers_mln, dtype: float64"
     },
     "execution_count": 13,
     "metadata": {},
     "output_type": "execute_result"
    }
   ],
   "source": [
    "youtube_channels['subscribers_mln'].describe()"
   ],
   "metadata": {
    "collapsed": false,
    "ExecuteTime": {
     "end_time": "2024-10-10T15:00:19.861218500Z",
     "start_time": "2024-10-10T15:00:19.641503Z"
    }
   },
   "id": "f466c83792968fb6"
  },
  {
   "cell_type": "markdown",
   "source": [
    "## Минимальное и максимальное значение подписчиков"
   ],
   "metadata": {
    "collapsed": false
   },
   "id": "e87f0ec0e36f9a86"
  },
  {
   "cell_type": "code",
   "execution_count": 14,
   "outputs": [
    {
     "data": {
      "text/plain": "(36, 171)"
     },
     "execution_count": 14,
     "metadata": {},
     "output_type": "execute_result"
    }
   ],
   "source": [
    "youtube_channels['subscribers_mln'].min(), youtube_channels['subscribers_mln'].max()"
   ],
   "metadata": {
    "collapsed": false,
    "ExecuteTime": {
     "end_time": "2024-10-10T15:00:19.862228300Z",
     "start_time": "2024-10-10T15:00:19.658129500Z"
    }
   },
   "id": "23214ffc5ad9c95e"
  },
  {
   "cell_type": "markdown",
   "source": [
    "## Взятие по маске"
   ],
   "metadata": {
    "collapsed": false
   },
   "id": "c82e6893c2e424c"
  },
  {
   "cell_type": "code",
   "execution_count": 15,
   "outputs": [
    {
     "data": {
      "text/plain": "0      True\n1      True\n2      True\n3      True\n4      True\n5      True\n6      True\n7      True\n8      True\n9      True\n10     True\n11     True\n12     True\n13     True\n14     True\n15     True\n16     True\n17    False\n18    False\n19    False\n20    False\n21    False\n22    False\n23    False\n24    False\n25    False\n26    False\n27    False\n28    False\n29    False\n30    False\n31    False\n32    False\n33    False\n34    False\n35    False\n36    False\n37    False\n38    False\n39    False\n40    False\n41    False\n42    False\n43    False\n44    False\n45    False\n46    False\n47    False\n48    False\n49    False\nName: subscribers_mln, dtype: bool"
     },
     "execution_count": 15,
     "metadata": {},
     "output_type": "execute_result"
    }
   ],
   "source": [
    "# Создание маски\n",
    "youtube_channels['subscribers_mln'] > 50"
   ],
   "metadata": {
    "collapsed": false,
    "ExecuteTime": {
     "end_time": "2024-10-10T15:00:19.863227700Z",
     "start_time": "2024-10-10T15:00:19.666116300Z"
    }
   },
   "id": "2f10f435e59858da"
  },
  {
   "cell_type": "code",
   "execution_count": 16,
   "outputs": [
    {
     "data": {
      "text/plain": "                          name  subscribers_mln    language       category  \\\n0                     T-Series              171       Hindi          Music   \n1                    PewDiePie              109     English  Entertainment   \n2   Cocomelon - Nursery Rhymes              104     English      Education   \n3                    SET India               94       Hindi  Entertainment   \n4              Kids Diana Show               73     English  Entertainment   \n5                          WWE               72     English         Sports   \n6              5-Minute Crafts               70     English         How-to   \n7                  Like Nastya               68     Russian  Entertainment   \n8            Zee Music Company               67       Hindi          Music   \n9              Canal KondZilla               63  Portuguese          Music   \n10             Vlad and Nikita               61     English  Entertainment   \n11               Justin Bieber               60     English          Music   \n12                   Blackpink               57      Korean          Music   \n13                      Zee TV               55       Hindi  Entertainment   \n14                Dude Perfect               54     English         Sports   \n15                     MrBeast               52     English  Entertainment   \n16                  Marshmello               51     English          Music   \n\n    in_russian  like_to_view_ratio  \n0        False            0.430178  \n1        False            0.444065  \n2        False            0.573531  \n3        False            0.426803  \n4        False            0.410649  \n5        False            0.464831  \n6        False            0.718436  \n7         True            0.523387  \n8        False            0.412821  \n9        False            0.498615  \n10       False            0.647971  \n11       False            0.477053  \n12       False            0.432179  \n13       False            0.395288  \n14       False            0.480551  \n15       False            0.412684  \n16       False            0.479265  ",
      "text/html": "<div>\n<style scoped>\n    .dataframe tbody tr th:only-of-type {\n        vertical-align: middle;\n    }\n\n    .dataframe tbody tr th {\n        vertical-align: top;\n    }\n\n    .dataframe thead th {\n        text-align: right;\n    }\n</style>\n<table border=\"1\" class=\"dataframe\">\n  <thead>\n    <tr style=\"text-align: right;\">\n      <th></th>\n      <th>name</th>\n      <th>subscribers_mln</th>\n      <th>language</th>\n      <th>category</th>\n      <th>in_russian</th>\n      <th>like_to_view_ratio</th>\n    </tr>\n  </thead>\n  <tbody>\n    <tr>\n      <th>0</th>\n      <td>T-Series</td>\n      <td>171</td>\n      <td>Hindi</td>\n      <td>Music</td>\n      <td>False</td>\n      <td>0.430178</td>\n    </tr>\n    <tr>\n      <th>1</th>\n      <td>PewDiePie</td>\n      <td>109</td>\n      <td>English</td>\n      <td>Entertainment</td>\n      <td>False</td>\n      <td>0.444065</td>\n    </tr>\n    <tr>\n      <th>2</th>\n      <td>Cocomelon - Nursery Rhymes</td>\n      <td>104</td>\n      <td>English</td>\n      <td>Education</td>\n      <td>False</td>\n      <td>0.573531</td>\n    </tr>\n    <tr>\n      <th>3</th>\n      <td>SET India</td>\n      <td>94</td>\n      <td>Hindi</td>\n      <td>Entertainment</td>\n      <td>False</td>\n      <td>0.426803</td>\n    </tr>\n    <tr>\n      <th>4</th>\n      <td>Kids Diana Show</td>\n      <td>73</td>\n      <td>English</td>\n      <td>Entertainment</td>\n      <td>False</td>\n      <td>0.410649</td>\n    </tr>\n    <tr>\n      <th>5</th>\n      <td>WWE</td>\n      <td>72</td>\n      <td>English</td>\n      <td>Sports</td>\n      <td>False</td>\n      <td>0.464831</td>\n    </tr>\n    <tr>\n      <th>6</th>\n      <td>5-Minute Crafts</td>\n      <td>70</td>\n      <td>English</td>\n      <td>How-to</td>\n      <td>False</td>\n      <td>0.718436</td>\n    </tr>\n    <tr>\n      <th>7</th>\n      <td>Like Nastya</td>\n      <td>68</td>\n      <td>Russian</td>\n      <td>Entertainment</td>\n      <td>True</td>\n      <td>0.523387</td>\n    </tr>\n    <tr>\n      <th>8</th>\n      <td>Zee Music Company</td>\n      <td>67</td>\n      <td>Hindi</td>\n      <td>Music</td>\n      <td>False</td>\n      <td>0.412821</td>\n    </tr>\n    <tr>\n      <th>9</th>\n      <td>Canal KondZilla</td>\n      <td>63</td>\n      <td>Portuguese</td>\n      <td>Music</td>\n      <td>False</td>\n      <td>0.498615</td>\n    </tr>\n    <tr>\n      <th>10</th>\n      <td>Vlad and Nikita</td>\n      <td>61</td>\n      <td>English</td>\n      <td>Entertainment</td>\n      <td>False</td>\n      <td>0.647971</td>\n    </tr>\n    <tr>\n      <th>11</th>\n      <td>Justin Bieber</td>\n      <td>60</td>\n      <td>English</td>\n      <td>Music</td>\n      <td>False</td>\n      <td>0.477053</td>\n    </tr>\n    <tr>\n      <th>12</th>\n      <td>Blackpink</td>\n      <td>57</td>\n      <td>Korean</td>\n      <td>Music</td>\n      <td>False</td>\n      <td>0.432179</td>\n    </tr>\n    <tr>\n      <th>13</th>\n      <td>Zee TV</td>\n      <td>55</td>\n      <td>Hindi</td>\n      <td>Entertainment</td>\n      <td>False</td>\n      <td>0.395288</td>\n    </tr>\n    <tr>\n      <th>14</th>\n      <td>Dude Perfect</td>\n      <td>54</td>\n      <td>English</td>\n      <td>Sports</td>\n      <td>False</td>\n      <td>0.480551</td>\n    </tr>\n    <tr>\n      <th>15</th>\n      <td>MrBeast</td>\n      <td>52</td>\n      <td>English</td>\n      <td>Entertainment</td>\n      <td>False</td>\n      <td>0.412684</td>\n    </tr>\n    <tr>\n      <th>16</th>\n      <td>Marshmello</td>\n      <td>51</td>\n      <td>English</td>\n      <td>Music</td>\n      <td>False</td>\n      <td>0.479265</td>\n    </tr>\n  </tbody>\n</table>\n</div>"
     },
     "execution_count": 16,
     "metadata": {},
     "output_type": "execute_result"
    }
   ],
   "source": [
    "# Взятие по маске\n",
    "youtube_channels[youtube_channels['subscribers_mln'] > 50]"
   ],
   "metadata": {
    "collapsed": false,
    "ExecuteTime": {
     "end_time": "2024-10-10T15:00:19.863227700Z",
     "start_time": "2024-10-10T15:00:19.684561300Z"
    }
   },
   "id": "ebc5714f892bebbc"
  },
  {
   "cell_type": "code",
   "execution_count": 17,
   "outputs": [
    {
     "data": {
      "text/plain": "                                                 name  subscribers_mln  \\\n17                                     Big Hit Labels               50   \n18                                         Movieclips               48   \n19                                Goldmines Telefilms               47   \n20                               Shemaroo Filmi Gaane               47   \n21                                         Ed Sheeran               46   \n22                                      Ariana Grande               46   \n23                                        EminemMusic               46   \n24              ChuChu TV Nursery Rhymes & Kids Songs               44   \n25                                             SAB TV               44   \n26                                            Aaj Tak               44   \n27                                          BangtanTV               44   \n28                                            Badabun               43   \n29                    Pinkfong! Kids' Stories & Songs               43   \n30                                        JuegaGerman               42   \n31                                     HolaSoyGerman.               42   \n32                                   whinderssonnunes               41   \n33                                   Sony Music India               41   \n34                                        Felipe Neto               41   \n35                                         Wave Music               41   \n36                                       Taylor Swift               41   \n37                                         Fernanfloo               40   \n38                                  El Reino Infantil               39   \n39                                         Katy Perry               39   \n40                                        elrubiusOMG               39   \n41                                        Você Sabia?               39   \n42  LooLoo Kids - Nursery Rhymes and Children's Songs               38   \n43                                        Bright Side               38   \n44                                        Alan Walker               38   \n45                                      Billie Eilish               37   \n46                                       TheEllenShow               37   \n47                              T-Series Bhakti Sagar               36   \n48                                      Tips Official               36   \n49                                                YRF               36   \n\n      language       category  in_russian  like_to_view_ratio  \n17      Korean          Music       False            0.531189  \n18     English           Film       False            0.384794  \n19       Hindi           Film       False            0.413093  \n20       Hindi          Music       False            0.387176  \n21     English          Music       False            0.461837  \n22     English          Music       False            0.708712  \n23     English          Music       False            0.497420  \n24     English      Education       False            0.557902  \n25       Hindi  Entertainment       False            0.530589  \n26       Hindi           News       False            0.390951  \n27      Korean          Music       False            0.556121  \n28     Spanish  Entertainment       False            0.458410  \n29     English      Education       False            0.513633  \n30     Spanish  Entertainment       False            0.416839  \n31     Spanish  Entertainment       False            0.491003  \n32  Portuguese  Entertainment       False            0.690834  \n33       Hindi          Music       False            0.441345  \n34  Portuguese  Entertainment       False            0.394600  \n35    Bhojpuri          Music       False            0.500729  \n36     English          Music       False            0.558237  \n37     Spanish          Games       False            0.473506  \n38     Spanish          Music       False            0.624262  \n39     English  Entertainment       False            0.485305  \n40     Spanish          Games       False            0.658884  \n41  Portuguese  Entertainment       False            0.449336  \n42     English          Music       False            0.634510  \n43     English  Entertainment       False            0.340324  \n44     English          Music       False            0.374893  \n45     English          Music       False            0.488964  \n46     English  Entertainment       False            0.545737  \n47       Hindi          Music       False            0.445143  \n48       Hindi          Music       False            0.462328  \n49       Hindi          Music       False            0.439387  ",
      "text/html": "<div>\n<style scoped>\n    .dataframe tbody tr th:only-of-type {\n        vertical-align: middle;\n    }\n\n    .dataframe tbody tr th {\n        vertical-align: top;\n    }\n\n    .dataframe thead th {\n        text-align: right;\n    }\n</style>\n<table border=\"1\" class=\"dataframe\">\n  <thead>\n    <tr style=\"text-align: right;\">\n      <th></th>\n      <th>name</th>\n      <th>subscribers_mln</th>\n      <th>language</th>\n      <th>category</th>\n      <th>in_russian</th>\n      <th>like_to_view_ratio</th>\n    </tr>\n  </thead>\n  <tbody>\n    <tr>\n      <th>17</th>\n      <td>Big Hit Labels</td>\n      <td>50</td>\n      <td>Korean</td>\n      <td>Music</td>\n      <td>False</td>\n      <td>0.531189</td>\n    </tr>\n    <tr>\n      <th>18</th>\n      <td>Movieclips</td>\n      <td>48</td>\n      <td>English</td>\n      <td>Film</td>\n      <td>False</td>\n      <td>0.384794</td>\n    </tr>\n    <tr>\n      <th>19</th>\n      <td>Goldmines Telefilms</td>\n      <td>47</td>\n      <td>Hindi</td>\n      <td>Film</td>\n      <td>False</td>\n      <td>0.413093</td>\n    </tr>\n    <tr>\n      <th>20</th>\n      <td>Shemaroo Filmi Gaane</td>\n      <td>47</td>\n      <td>Hindi</td>\n      <td>Music</td>\n      <td>False</td>\n      <td>0.387176</td>\n    </tr>\n    <tr>\n      <th>21</th>\n      <td>Ed Sheeran</td>\n      <td>46</td>\n      <td>English</td>\n      <td>Music</td>\n      <td>False</td>\n      <td>0.461837</td>\n    </tr>\n    <tr>\n      <th>22</th>\n      <td>Ariana Grande</td>\n      <td>46</td>\n      <td>English</td>\n      <td>Music</td>\n      <td>False</td>\n      <td>0.708712</td>\n    </tr>\n    <tr>\n      <th>23</th>\n      <td>EminemMusic</td>\n      <td>46</td>\n      <td>English</td>\n      <td>Music</td>\n      <td>False</td>\n      <td>0.497420</td>\n    </tr>\n    <tr>\n      <th>24</th>\n      <td>ChuChu TV Nursery Rhymes &amp; Kids Songs</td>\n      <td>44</td>\n      <td>English</td>\n      <td>Education</td>\n      <td>False</td>\n      <td>0.557902</td>\n    </tr>\n    <tr>\n      <th>25</th>\n      <td>SAB TV</td>\n      <td>44</td>\n      <td>Hindi</td>\n      <td>Entertainment</td>\n      <td>False</td>\n      <td>0.530589</td>\n    </tr>\n    <tr>\n      <th>26</th>\n      <td>Aaj Tak</td>\n      <td>44</td>\n      <td>Hindi</td>\n      <td>News</td>\n      <td>False</td>\n      <td>0.390951</td>\n    </tr>\n    <tr>\n      <th>27</th>\n      <td>BangtanTV</td>\n      <td>44</td>\n      <td>Korean</td>\n      <td>Music</td>\n      <td>False</td>\n      <td>0.556121</td>\n    </tr>\n    <tr>\n      <th>28</th>\n      <td>Badabun</td>\n      <td>43</td>\n      <td>Spanish</td>\n      <td>Entertainment</td>\n      <td>False</td>\n      <td>0.458410</td>\n    </tr>\n    <tr>\n      <th>29</th>\n      <td>Pinkfong! Kids' Stories &amp; Songs</td>\n      <td>43</td>\n      <td>English</td>\n      <td>Education</td>\n      <td>False</td>\n      <td>0.513633</td>\n    </tr>\n    <tr>\n      <th>30</th>\n      <td>JuegaGerman</td>\n      <td>42</td>\n      <td>Spanish</td>\n      <td>Entertainment</td>\n      <td>False</td>\n      <td>0.416839</td>\n    </tr>\n    <tr>\n      <th>31</th>\n      <td>HolaSoyGerman.</td>\n      <td>42</td>\n      <td>Spanish</td>\n      <td>Entertainment</td>\n      <td>False</td>\n      <td>0.491003</td>\n    </tr>\n    <tr>\n      <th>32</th>\n      <td>whinderssonnunes</td>\n      <td>41</td>\n      <td>Portuguese</td>\n      <td>Entertainment</td>\n      <td>False</td>\n      <td>0.690834</td>\n    </tr>\n    <tr>\n      <th>33</th>\n      <td>Sony Music India</td>\n      <td>41</td>\n      <td>Hindi</td>\n      <td>Music</td>\n      <td>False</td>\n      <td>0.441345</td>\n    </tr>\n    <tr>\n      <th>34</th>\n      <td>Felipe Neto</td>\n      <td>41</td>\n      <td>Portuguese</td>\n      <td>Entertainment</td>\n      <td>False</td>\n      <td>0.394600</td>\n    </tr>\n    <tr>\n      <th>35</th>\n      <td>Wave Music</td>\n      <td>41</td>\n      <td>Bhojpuri</td>\n      <td>Music</td>\n      <td>False</td>\n      <td>0.500729</td>\n    </tr>\n    <tr>\n      <th>36</th>\n      <td>Taylor Swift</td>\n      <td>41</td>\n      <td>English</td>\n      <td>Music</td>\n      <td>False</td>\n      <td>0.558237</td>\n    </tr>\n    <tr>\n      <th>37</th>\n      <td>Fernanfloo</td>\n      <td>40</td>\n      <td>Spanish</td>\n      <td>Games</td>\n      <td>False</td>\n      <td>0.473506</td>\n    </tr>\n    <tr>\n      <th>38</th>\n      <td>El Reino Infantil</td>\n      <td>39</td>\n      <td>Spanish</td>\n      <td>Music</td>\n      <td>False</td>\n      <td>0.624262</td>\n    </tr>\n    <tr>\n      <th>39</th>\n      <td>Katy Perry</td>\n      <td>39</td>\n      <td>English</td>\n      <td>Entertainment</td>\n      <td>False</td>\n      <td>0.485305</td>\n    </tr>\n    <tr>\n      <th>40</th>\n      <td>elrubiusOMG</td>\n      <td>39</td>\n      <td>Spanish</td>\n      <td>Games</td>\n      <td>False</td>\n      <td>0.658884</td>\n    </tr>\n    <tr>\n      <th>41</th>\n      <td>Você Sabia?</td>\n      <td>39</td>\n      <td>Portuguese</td>\n      <td>Entertainment</td>\n      <td>False</td>\n      <td>0.449336</td>\n    </tr>\n    <tr>\n      <th>42</th>\n      <td>LooLoo Kids - Nursery Rhymes and Children's Songs</td>\n      <td>38</td>\n      <td>English</td>\n      <td>Music</td>\n      <td>False</td>\n      <td>0.634510</td>\n    </tr>\n    <tr>\n      <th>43</th>\n      <td>Bright Side</td>\n      <td>38</td>\n      <td>English</td>\n      <td>Entertainment</td>\n      <td>False</td>\n      <td>0.340324</td>\n    </tr>\n    <tr>\n      <th>44</th>\n      <td>Alan Walker</td>\n      <td>38</td>\n      <td>English</td>\n      <td>Music</td>\n      <td>False</td>\n      <td>0.374893</td>\n    </tr>\n    <tr>\n      <th>45</th>\n      <td>Billie Eilish</td>\n      <td>37</td>\n      <td>English</td>\n      <td>Music</td>\n      <td>False</td>\n      <td>0.488964</td>\n    </tr>\n    <tr>\n      <th>46</th>\n      <td>TheEllenShow</td>\n      <td>37</td>\n      <td>English</td>\n      <td>Entertainment</td>\n      <td>False</td>\n      <td>0.545737</td>\n    </tr>\n    <tr>\n      <th>47</th>\n      <td>T-Series Bhakti Sagar</td>\n      <td>36</td>\n      <td>Hindi</td>\n      <td>Music</td>\n      <td>False</td>\n      <td>0.445143</td>\n    </tr>\n    <tr>\n      <th>48</th>\n      <td>Tips Official</td>\n      <td>36</td>\n      <td>Hindi</td>\n      <td>Music</td>\n      <td>False</td>\n      <td>0.462328</td>\n    </tr>\n    <tr>\n      <th>49</th>\n      <td>YRF</td>\n      <td>36</td>\n      <td>Hindi</td>\n      <td>Music</td>\n      <td>False</td>\n      <td>0.439387</td>\n    </tr>\n  </tbody>\n</table>\n</div>"
     },
     "execution_count": 17,
     "metadata": {},
     "output_type": "execute_result"
    }
   ],
   "source": [
    "# Взятие по обратной маске\n",
    "youtube_channels[~(youtube_channels['subscribers_mln'] > 50)]"
   ],
   "metadata": {
    "collapsed": false,
    "ExecuteTime": {
     "end_time": "2024-10-10T15:00:19.865228900Z",
     "start_time": "2024-10-10T15:00:19.697105100Z"
    }
   },
   "id": "f668d11139758a00"
  },
  {
   "cell_type": "markdown",
   "source": [
    "## Работа c loc"
   ],
   "metadata": {
    "collapsed": false
   },
   "id": "df0cf28744bc019"
  },
  {
   "cell_type": "code",
   "execution_count": 18,
   "outputs": [
    {
     "data": {
      "text/plain": "name                      PewDiePie\nsubscribers_mln                 109\nlanguage                    English\ncategory              Entertainment\nin_russian                    False\nlike_to_view_ratio         0.444065\nName: 1, dtype: object"
     },
     "execution_count": 18,
     "metadata": {},
     "output_type": "execute_result"
    }
   ],
   "source": [
    "# Доступ к строке по индексу\n",
    "youtube_channels.loc[1]"
   ],
   "metadata": {
    "collapsed": false,
    "ExecuteTime": {
     "end_time": "2024-10-10T15:00:19.892120100Z",
     "start_time": "2024-10-10T15:00:19.714940900Z"
    }
   },
   "id": "76f4f8839607ce85"
  },
  {
   "cell_type": "code",
   "execution_count": 19,
   "outputs": [
    {
     "data": {
      "text/plain": "'T-Series'"
     },
     "execution_count": 19,
     "metadata": {},
     "output_type": "execute_result"
    }
   ],
   "source": [
    "# Доступ к определенной ячейке по метке строки и имени столбца\n",
    "youtube_channels.loc[0, 'name']"
   ],
   "metadata": {
    "collapsed": false,
    "ExecuteTime": {
     "end_time": "2024-10-10T15:00:19.892120100Z",
     "start_time": "2024-10-10T15:00:19.726586600Z"
    }
   },
   "id": "25cf910ddd00bf1a"
  },
  {
   "cell_type": "code",
   "execution_count": 20,
   "outputs": [
    {
     "data": {
      "text/plain": "                         name  subscribers_mln language       category  \\\n0                    T-Series              171    Hindi          Music   \n1                   PewDiePie              109  English  Entertainment   \n2  Cocomelon - Nursery Rhymes              104  English      Education   \n\n   in_russian  like_to_view_ratio  \n0       False            0.430178  \n1       False            0.444065  \n2       False            0.573531  ",
      "text/html": "<div>\n<style scoped>\n    .dataframe tbody tr th:only-of-type {\n        vertical-align: middle;\n    }\n\n    .dataframe tbody tr th {\n        vertical-align: top;\n    }\n\n    .dataframe thead th {\n        text-align: right;\n    }\n</style>\n<table border=\"1\" class=\"dataframe\">\n  <thead>\n    <tr style=\"text-align: right;\">\n      <th></th>\n      <th>name</th>\n      <th>subscribers_mln</th>\n      <th>language</th>\n      <th>category</th>\n      <th>in_russian</th>\n      <th>like_to_view_ratio</th>\n    </tr>\n  </thead>\n  <tbody>\n    <tr>\n      <th>0</th>\n      <td>T-Series</td>\n      <td>171</td>\n      <td>Hindi</td>\n      <td>Music</td>\n      <td>False</td>\n      <td>0.430178</td>\n    </tr>\n    <tr>\n      <th>1</th>\n      <td>PewDiePie</td>\n      <td>109</td>\n      <td>English</td>\n      <td>Entertainment</td>\n      <td>False</td>\n      <td>0.444065</td>\n    </tr>\n    <tr>\n      <th>2</th>\n      <td>Cocomelon - Nursery Rhymes</td>\n      <td>104</td>\n      <td>English</td>\n      <td>Education</td>\n      <td>False</td>\n      <td>0.573531</td>\n    </tr>\n  </tbody>\n</table>\n</div>"
     },
     "execution_count": 20,
     "metadata": {},
     "output_type": "execute_result"
    }
   ],
   "source": [
    "# Фильтрация строк с использованием условия\n",
    "youtube_channels.loc[youtube_channels['subscribers_mln'] > 100]"
   ],
   "metadata": {
    "collapsed": false,
    "ExecuteTime": {
     "end_time": "2024-10-10T15:00:19.895929Z",
     "start_time": "2024-10-10T15:00:19.735588800Z"
    }
   },
   "id": "18dc6485d6275c8c"
  },
  {
   "cell_type": "code",
   "execution_count": 21,
   "outputs": [
    {
     "data": {
      "text/plain": "                                                 name    language  \\\n0                                            T-Series       Hindi   \n1                                           PewDiePie     English   \n2                          Cocomelon - Nursery Rhymes     English   \n3                                           SET India       Hindi   \n4                                     Kids Diana Show     English   \n5                                                 WWE     English   \n6                                     5-Minute Crafts     English   \n7                                         Like Nastya     Russian   \n8                                   Zee Music Company       Hindi   \n9                                     Canal KondZilla  Portuguese   \n10                                    Vlad and Nikita     English   \n11                                      Justin Bieber     English   \n12                                          Blackpink      Korean   \n13                                             Zee TV       Hindi   \n14                                       Dude Perfect     English   \n15                                            MrBeast     English   \n16                                         Marshmello     English   \n17                                     Big Hit Labels      Korean   \n18                                         Movieclips     English   \n19                                Goldmines Telefilms       Hindi   \n20                               Shemaroo Filmi Gaane       Hindi   \n21                                         Ed Sheeran     English   \n22                                      Ariana Grande     English   \n23                                        EminemMusic     English   \n24              ChuChu TV Nursery Rhymes & Kids Songs     English   \n25                                             SAB TV       Hindi   \n26                                            Aaj Tak       Hindi   \n27                                          BangtanTV      Korean   \n28                                            Badabun     Spanish   \n29                    Pinkfong! Kids' Stories & Songs     English   \n30                                        JuegaGerman     Spanish   \n31                                     HolaSoyGerman.     Spanish   \n32                                   whinderssonnunes  Portuguese   \n33                                   Sony Music India       Hindi   \n34                                        Felipe Neto  Portuguese   \n35                                         Wave Music    Bhojpuri   \n36                                       Taylor Swift     English   \n37                                         Fernanfloo     Spanish   \n38                                  El Reino Infantil     Spanish   \n39                                         Katy Perry     English   \n40                                        elrubiusOMG     Spanish   \n41                                        Você Sabia?  Portuguese   \n42  LooLoo Kids - Nursery Rhymes and Children's Songs     English   \n43                                        Bright Side     English   \n44                                        Alan Walker     English   \n45                                      Billie Eilish     English   \n46                                       TheEllenShow     English   \n47                              T-Series Bhakti Sagar       Hindi   \n48                                      Tips Official       Hindi   \n49                                                YRF       Hindi   \n\n         category  \n0           Music  \n1   Entertainment  \n2       Education  \n3   Entertainment  \n4   Entertainment  \n5          Sports  \n6          How-to  \n7   Entertainment  \n8           Music  \n9           Music  \n10  Entertainment  \n11          Music  \n12          Music  \n13  Entertainment  \n14         Sports  \n15  Entertainment  \n16          Music  \n17          Music  \n18           Film  \n19           Film  \n20          Music  \n21          Music  \n22          Music  \n23          Music  \n24      Education  \n25  Entertainment  \n26           News  \n27          Music  \n28  Entertainment  \n29      Education  \n30  Entertainment  \n31  Entertainment  \n32  Entertainment  \n33          Music  \n34  Entertainment  \n35          Music  \n36          Music  \n37          Games  \n38          Music  \n39  Entertainment  \n40          Games  \n41  Entertainment  \n42          Music  \n43  Entertainment  \n44          Music  \n45          Music  \n46  Entertainment  \n47          Music  \n48          Music  \n49          Music  ",
      "text/html": "<div>\n<style scoped>\n    .dataframe tbody tr th:only-of-type {\n        vertical-align: middle;\n    }\n\n    .dataframe tbody tr th {\n        vertical-align: top;\n    }\n\n    .dataframe thead th {\n        text-align: right;\n    }\n</style>\n<table border=\"1\" class=\"dataframe\">\n  <thead>\n    <tr style=\"text-align: right;\">\n      <th></th>\n      <th>name</th>\n      <th>language</th>\n      <th>category</th>\n    </tr>\n  </thead>\n  <tbody>\n    <tr>\n      <th>0</th>\n      <td>T-Series</td>\n      <td>Hindi</td>\n      <td>Music</td>\n    </tr>\n    <tr>\n      <th>1</th>\n      <td>PewDiePie</td>\n      <td>English</td>\n      <td>Entertainment</td>\n    </tr>\n    <tr>\n      <th>2</th>\n      <td>Cocomelon - Nursery Rhymes</td>\n      <td>English</td>\n      <td>Education</td>\n    </tr>\n    <tr>\n      <th>3</th>\n      <td>SET India</td>\n      <td>Hindi</td>\n      <td>Entertainment</td>\n    </tr>\n    <tr>\n      <th>4</th>\n      <td>Kids Diana Show</td>\n      <td>English</td>\n      <td>Entertainment</td>\n    </tr>\n    <tr>\n      <th>5</th>\n      <td>WWE</td>\n      <td>English</td>\n      <td>Sports</td>\n    </tr>\n    <tr>\n      <th>6</th>\n      <td>5-Minute Crafts</td>\n      <td>English</td>\n      <td>How-to</td>\n    </tr>\n    <tr>\n      <th>7</th>\n      <td>Like Nastya</td>\n      <td>Russian</td>\n      <td>Entertainment</td>\n    </tr>\n    <tr>\n      <th>8</th>\n      <td>Zee Music Company</td>\n      <td>Hindi</td>\n      <td>Music</td>\n    </tr>\n    <tr>\n      <th>9</th>\n      <td>Canal KondZilla</td>\n      <td>Portuguese</td>\n      <td>Music</td>\n    </tr>\n    <tr>\n      <th>10</th>\n      <td>Vlad and Nikita</td>\n      <td>English</td>\n      <td>Entertainment</td>\n    </tr>\n    <tr>\n      <th>11</th>\n      <td>Justin Bieber</td>\n      <td>English</td>\n      <td>Music</td>\n    </tr>\n    <tr>\n      <th>12</th>\n      <td>Blackpink</td>\n      <td>Korean</td>\n      <td>Music</td>\n    </tr>\n    <tr>\n      <th>13</th>\n      <td>Zee TV</td>\n      <td>Hindi</td>\n      <td>Entertainment</td>\n    </tr>\n    <tr>\n      <th>14</th>\n      <td>Dude Perfect</td>\n      <td>English</td>\n      <td>Sports</td>\n    </tr>\n    <tr>\n      <th>15</th>\n      <td>MrBeast</td>\n      <td>English</td>\n      <td>Entertainment</td>\n    </tr>\n    <tr>\n      <th>16</th>\n      <td>Marshmello</td>\n      <td>English</td>\n      <td>Music</td>\n    </tr>\n    <tr>\n      <th>17</th>\n      <td>Big Hit Labels</td>\n      <td>Korean</td>\n      <td>Music</td>\n    </tr>\n    <tr>\n      <th>18</th>\n      <td>Movieclips</td>\n      <td>English</td>\n      <td>Film</td>\n    </tr>\n    <tr>\n      <th>19</th>\n      <td>Goldmines Telefilms</td>\n      <td>Hindi</td>\n      <td>Film</td>\n    </tr>\n    <tr>\n      <th>20</th>\n      <td>Shemaroo Filmi Gaane</td>\n      <td>Hindi</td>\n      <td>Music</td>\n    </tr>\n    <tr>\n      <th>21</th>\n      <td>Ed Sheeran</td>\n      <td>English</td>\n      <td>Music</td>\n    </tr>\n    <tr>\n      <th>22</th>\n      <td>Ariana Grande</td>\n      <td>English</td>\n      <td>Music</td>\n    </tr>\n    <tr>\n      <th>23</th>\n      <td>EminemMusic</td>\n      <td>English</td>\n      <td>Music</td>\n    </tr>\n    <tr>\n      <th>24</th>\n      <td>ChuChu TV Nursery Rhymes &amp; Kids Songs</td>\n      <td>English</td>\n      <td>Education</td>\n    </tr>\n    <tr>\n      <th>25</th>\n      <td>SAB TV</td>\n      <td>Hindi</td>\n      <td>Entertainment</td>\n    </tr>\n    <tr>\n      <th>26</th>\n      <td>Aaj Tak</td>\n      <td>Hindi</td>\n      <td>News</td>\n    </tr>\n    <tr>\n      <th>27</th>\n      <td>BangtanTV</td>\n      <td>Korean</td>\n      <td>Music</td>\n    </tr>\n    <tr>\n      <th>28</th>\n      <td>Badabun</td>\n      <td>Spanish</td>\n      <td>Entertainment</td>\n    </tr>\n    <tr>\n      <th>29</th>\n      <td>Pinkfong! Kids' Stories &amp; Songs</td>\n      <td>English</td>\n      <td>Education</td>\n    </tr>\n    <tr>\n      <th>30</th>\n      <td>JuegaGerman</td>\n      <td>Spanish</td>\n      <td>Entertainment</td>\n    </tr>\n    <tr>\n      <th>31</th>\n      <td>HolaSoyGerman.</td>\n      <td>Spanish</td>\n      <td>Entertainment</td>\n    </tr>\n    <tr>\n      <th>32</th>\n      <td>whinderssonnunes</td>\n      <td>Portuguese</td>\n      <td>Entertainment</td>\n    </tr>\n    <tr>\n      <th>33</th>\n      <td>Sony Music India</td>\n      <td>Hindi</td>\n      <td>Music</td>\n    </tr>\n    <tr>\n      <th>34</th>\n      <td>Felipe Neto</td>\n      <td>Portuguese</td>\n      <td>Entertainment</td>\n    </tr>\n    <tr>\n      <th>35</th>\n      <td>Wave Music</td>\n      <td>Bhojpuri</td>\n      <td>Music</td>\n    </tr>\n    <tr>\n      <th>36</th>\n      <td>Taylor Swift</td>\n      <td>English</td>\n      <td>Music</td>\n    </tr>\n    <tr>\n      <th>37</th>\n      <td>Fernanfloo</td>\n      <td>Spanish</td>\n      <td>Games</td>\n    </tr>\n    <tr>\n      <th>38</th>\n      <td>El Reino Infantil</td>\n      <td>Spanish</td>\n      <td>Music</td>\n    </tr>\n    <tr>\n      <th>39</th>\n      <td>Katy Perry</td>\n      <td>English</td>\n      <td>Entertainment</td>\n    </tr>\n    <tr>\n      <th>40</th>\n      <td>elrubiusOMG</td>\n      <td>Spanish</td>\n      <td>Games</td>\n    </tr>\n    <tr>\n      <th>41</th>\n      <td>Você Sabia?</td>\n      <td>Portuguese</td>\n      <td>Entertainment</td>\n    </tr>\n    <tr>\n      <th>42</th>\n      <td>LooLoo Kids - Nursery Rhymes and Children's Songs</td>\n      <td>English</td>\n      <td>Music</td>\n    </tr>\n    <tr>\n      <th>43</th>\n      <td>Bright Side</td>\n      <td>English</td>\n      <td>Entertainment</td>\n    </tr>\n    <tr>\n      <th>44</th>\n      <td>Alan Walker</td>\n      <td>English</td>\n      <td>Music</td>\n    </tr>\n    <tr>\n      <th>45</th>\n      <td>Billie Eilish</td>\n      <td>English</td>\n      <td>Music</td>\n    </tr>\n    <tr>\n      <th>46</th>\n      <td>TheEllenShow</td>\n      <td>English</td>\n      <td>Entertainment</td>\n    </tr>\n    <tr>\n      <th>47</th>\n      <td>T-Series Bhakti Sagar</td>\n      <td>Hindi</td>\n      <td>Music</td>\n    </tr>\n    <tr>\n      <th>48</th>\n      <td>Tips Official</td>\n      <td>Hindi</td>\n      <td>Music</td>\n    </tr>\n    <tr>\n      <th>49</th>\n      <td>YRF</td>\n      <td>Hindi</td>\n      <td>Music</td>\n    </tr>\n  </tbody>\n</table>\n</div>"
     },
     "execution_count": 21,
     "metadata": {},
     "output_type": "execute_result"
    }
   ],
   "source": [
    "# Выбор нескольких столбцов для всех строк\n",
    "youtube_channels.loc[:, ['name', 'language', 'category']]"
   ],
   "metadata": {
    "collapsed": false,
    "ExecuteTime": {
     "end_time": "2024-10-10T15:00:19.911914800Z",
     "start_time": "2024-10-10T15:00:19.751845100Z"
    }
   },
   "id": "ff3850d315bf972e"
  },
  {
   "cell_type": "code",
   "execution_count": 22,
   "outputs": [
    {
     "data": {
      "text/plain": "                         name  subscribers_mln\n0                    T-Series              171\n1                   PewDiePie              109\n2  Cocomelon - Nursery Rhymes              104",
      "text/html": "<div>\n<style scoped>\n    .dataframe tbody tr th:only-of-type {\n        vertical-align: middle;\n    }\n\n    .dataframe tbody tr th {\n        vertical-align: top;\n    }\n\n    .dataframe thead th {\n        text-align: right;\n    }\n</style>\n<table border=\"1\" class=\"dataframe\">\n  <thead>\n    <tr style=\"text-align: right;\">\n      <th></th>\n      <th>name</th>\n      <th>subscribers_mln</th>\n    </tr>\n  </thead>\n  <tbody>\n    <tr>\n      <th>0</th>\n      <td>T-Series</td>\n      <td>171</td>\n    </tr>\n    <tr>\n      <th>1</th>\n      <td>PewDiePie</td>\n      <td>109</td>\n    </tr>\n    <tr>\n      <th>2</th>\n      <td>Cocomelon - Nursery Rhymes</td>\n      <td>104</td>\n    </tr>\n  </tbody>\n</table>\n</div>"
     },
     "execution_count": 22,
     "metadata": {},
     "output_type": "execute_result"
    }
   ],
   "source": [
    "# Выбор нескольких столбцов по условию\n",
    "youtube_channels.loc[youtube_channels['subscribers_mln'] > 100, ['name', 'subscribers_mln']]"
   ],
   "metadata": {
    "collapsed": false,
    "ExecuteTime": {
     "end_time": "2024-10-10T15:00:20.088352600Z",
     "start_time": "2024-10-10T15:00:19.779502700Z"
    }
   },
   "id": "cfbd52897e49fa6a"
  },
  {
   "cell_type": "markdown",
   "source": [
    "## Работа с iloc"
   ],
   "metadata": {
    "collapsed": false
   },
   "id": "171b31059f8f637c"
  },
  {
   "cell_type": "code",
   "execution_count": 23,
   "outputs": [
    {
     "data": {
      "text/plain": "name                  Cocomelon - Nursery Rhymes\nsubscribers_mln                              104\nlanguage                                 English\ncategory                               Education\nin_russian                                 False\nlike_to_view_ratio                      0.573531\nName: 2, dtype: object"
     },
     "execution_count": 23,
     "metadata": {},
     "output_type": "execute_result"
    }
   ],
   "source": [
    "# Доступ к строке по индексу\n",
    "youtube_channels.iloc[2]"
   ],
   "metadata": {
    "collapsed": false,
    "ExecuteTime": {
     "end_time": "2024-10-10T15:00:20.088352600Z",
     "start_time": "2024-10-10T15:00:19.788462200Z"
    }
   },
   "id": "3e11ca0ec5c1302e"
  },
  {
   "cell_type": "code",
   "execution_count": 24,
   "outputs": [
    {
     "data": {
      "text/plain": "'English'"
     },
     "execution_count": 24,
     "metadata": {},
     "output_type": "execute_result"
    }
   ],
   "source": [
    "# Доступ к определенной ячейке по индексу строки и столбца\n",
    "youtube_channels.iloc[1, 2]"
   ],
   "metadata": {
    "collapsed": false,
    "ExecuteTime": {
     "end_time": "2024-10-10T15:00:20.089355400Z",
     "start_time": "2024-10-10T15:00:19.799057800Z"
    }
   },
   "id": "d66cfe5720a0aa67"
  },
  {
   "cell_type": "code",
   "execution_count": 25,
   "outputs": [
    {
     "data": {
      "text/plain": "   subscribers_mln language\n0              171    Hindi\n1              109  English",
      "text/html": "<div>\n<style scoped>\n    .dataframe tbody tr th:only-of-type {\n        vertical-align: middle;\n    }\n\n    .dataframe tbody tr th {\n        vertical-align: top;\n    }\n\n    .dataframe thead th {\n        text-align: right;\n    }\n</style>\n<table border=\"1\" class=\"dataframe\">\n  <thead>\n    <tr style=\"text-align: right;\">\n      <th></th>\n      <th>subscribers_mln</th>\n      <th>language</th>\n    </tr>\n  </thead>\n  <tbody>\n    <tr>\n      <th>0</th>\n      <td>171</td>\n      <td>Hindi</td>\n    </tr>\n    <tr>\n      <th>1</th>\n      <td>109</td>\n      <td>English</td>\n    </tr>\n  </tbody>\n</table>\n</div>"
     },
     "execution_count": 25,
     "metadata": {},
     "output_type": "execute_result"
    }
   ],
   "source": [
    "# Доступ к диапазону строк и столбцов\n",
    "youtube_channels.iloc[0:2, 1:3]"
   ],
   "metadata": {
    "collapsed": false,
    "ExecuteTime": {
     "end_time": "2024-10-10T15:00:20.091319200Z",
     "start_time": "2024-10-10T15:00:19.808482100Z"
    }
   },
   "id": "7b622ea0e1e26955"
  },
  {
   "cell_type": "markdown",
   "source": [
    "## Остальные полезные функции"
   ],
   "metadata": {
    "collapsed": false
   },
   "id": "1def44fa8ef5345c"
  },
  {
   "cell_type": "code",
   "execution_count": 26,
   "outputs": [
    {
     "data": {
      "text/plain": "'English'"
     },
     "execution_count": 26,
     "metadata": {},
     "output_type": "execute_result"
    }
   ],
   "source": [
    "# Доступ к значению на позиции (1, 2)\n",
    "youtube_channels.iat[1, 2]"
   ],
   "metadata": {
    "collapsed": false,
    "ExecuteTime": {
     "end_time": "2024-10-10T15:00:20.132851400Z",
     "start_time": "2024-10-10T15:00:19.822817600Z"
    }
   },
   "id": "e755317481adeca0"
  },
  {
   "cell_type": "code",
   "execution_count": 27,
   "outputs": [
    {
     "data": {
      "text/plain": "'T-Series'"
     },
     "execution_count": 27,
     "metadata": {},
     "output_type": "execute_result"
    }
   ],
   "source": [
    "# Доступ к значению в строке с индексом 0 и столбце 'Name'\n",
    "youtube_channels.at[0, 'name']"
   ],
   "metadata": {
    "collapsed": false,
    "ExecuteTime": {
     "end_time": "2024-10-10T15:00:20.133854400Z",
     "start_time": "2024-10-10T15:00:19.831030900Z"
    }
   },
   "id": "631bdc856d41d1a"
  },
  {
   "cell_type": "code",
   "execution_count": 28,
   "outputs": [
    {
     "data": {
      "text/plain": "True"
     },
     "execution_count": 28,
     "metadata": {},
     "output_type": "execute_result"
    }
   ],
   "source": [
    "# Проверка, есть ли хотя бы одно значение True в столбце 'Verified'\n",
    "youtube_channels['in_russian'].any()"
   ],
   "metadata": {
    "collapsed": false,
    "ExecuteTime": {
     "end_time": "2024-10-10T15:00:20.144428500Z",
     "start_time": "2024-10-10T15:00:19.842578200Z"
    }
   },
   "id": "c41e69c5da6cf658"
  },
  {
   "cell_type": "code",
   "execution_count": 29,
   "outputs": [
    {
     "data": {
      "text/plain": "False"
     },
     "execution_count": 29,
     "metadata": {},
     "output_type": "execute_result"
    }
   ],
   "source": [
    "# Проверка, все ли значения в столбце 'Subscribers' больше 100\n",
    "(youtube_channels['subscribers_mln'] > 100).all()"
   ],
   "metadata": {
    "collapsed": false,
    "ExecuteTime": {
     "end_time": "2024-10-10T15:00:20.146447400Z",
     "start_time": "2024-10-10T15:00:19.848988900Z"
    }
   },
   "id": "6bfd182557a2d45a"
  },
  {
   "cell_type": "code",
   "execution_count": 30,
   "outputs": [
    {
     "data": {
      "text/plain": "                                                 name  subscribers_mln  \\\n0                                            T-Series              171   \n1                                           PewDiePie              109   \n2                          Cocomelon - Nursery Rhymes              104   \n3                                           SET India               94   \n4                                     Kids Diana Show               73   \n5                                                 WWE               72   \n6                                     5-Minute Crafts               70   \n8                                   Zee Music Company               67   \n10                                    Vlad and Nikita               61   \n11                                      Justin Bieber               60   \n13                                             Zee TV               55   \n14                                       Dude Perfect               54   \n15                                            MrBeast               52   \n16                                         Marshmello               51   \n18                                         Movieclips               48   \n19                                Goldmines Telefilms               47   \n20                               Shemaroo Filmi Gaane               47   \n21                                         Ed Sheeran               46   \n22                                      Ariana Grande               46   \n23                                        EminemMusic               46   \n24              ChuChu TV Nursery Rhymes & Kids Songs               44   \n25                                             SAB TV               44   \n26                                            Aaj Tak               44   \n29                    Pinkfong! Kids' Stories & Songs               43   \n33                                   Sony Music India               41   \n36                                       Taylor Swift               41   \n39                                         Katy Perry               39   \n42  LooLoo Kids - Nursery Rhymes and Children's Songs               38   \n43                                        Bright Side               38   \n44                                        Alan Walker               38   \n45                                      Billie Eilish               37   \n46                                       TheEllenShow               37   \n47                              T-Series Bhakti Sagar               36   \n48                                      Tips Official               36   \n49                                                YRF               36   \n\n   language       category  in_russian  like_to_view_ratio  \n0     Hindi          Music       False            0.430178  \n1   English  Entertainment       False            0.444065  \n2   English      Education       False            0.573531  \n3     Hindi  Entertainment       False            0.426803  \n4   English  Entertainment       False            0.410649  \n5   English         Sports       False            0.464831  \n6   English         How-to       False            0.718436  \n8     Hindi          Music       False            0.412821  \n10  English  Entertainment       False            0.647971  \n11  English          Music       False            0.477053  \n13    Hindi  Entertainment       False            0.395288  \n14  English         Sports       False            0.480551  \n15  English  Entertainment       False            0.412684  \n16  English          Music       False            0.479265  \n18  English           Film       False            0.384794  \n19    Hindi           Film       False            0.413093  \n20    Hindi          Music       False            0.387176  \n21  English          Music       False            0.461837  \n22  English          Music       False            0.708712  \n23  English          Music       False            0.497420  \n24  English      Education       False            0.557902  \n25    Hindi  Entertainment       False            0.530589  \n26    Hindi           News       False            0.390951  \n29  English      Education       False            0.513633  \n33    Hindi          Music       False            0.441345  \n36  English          Music       False            0.558237  \n39  English  Entertainment       False            0.485305  \n42  English          Music       False            0.634510  \n43  English  Entertainment       False            0.340324  \n44  English          Music       False            0.374893  \n45  English          Music       False            0.488964  \n46  English  Entertainment       False            0.545737  \n47    Hindi          Music       False            0.445143  \n48    Hindi          Music       False            0.462328  \n49    Hindi          Music       False            0.439387  ",
      "text/html": "<div>\n<style scoped>\n    .dataframe tbody tr th:only-of-type {\n        vertical-align: middle;\n    }\n\n    .dataframe tbody tr th {\n        vertical-align: top;\n    }\n\n    .dataframe thead th {\n        text-align: right;\n    }\n</style>\n<table border=\"1\" class=\"dataframe\">\n  <thead>\n    <tr style=\"text-align: right;\">\n      <th></th>\n      <th>name</th>\n      <th>subscribers_mln</th>\n      <th>language</th>\n      <th>category</th>\n      <th>in_russian</th>\n      <th>like_to_view_ratio</th>\n    </tr>\n  </thead>\n  <tbody>\n    <tr>\n      <th>0</th>\n      <td>T-Series</td>\n      <td>171</td>\n      <td>Hindi</td>\n      <td>Music</td>\n      <td>False</td>\n      <td>0.430178</td>\n    </tr>\n    <tr>\n      <th>1</th>\n      <td>PewDiePie</td>\n      <td>109</td>\n      <td>English</td>\n      <td>Entertainment</td>\n      <td>False</td>\n      <td>0.444065</td>\n    </tr>\n    <tr>\n      <th>2</th>\n      <td>Cocomelon - Nursery Rhymes</td>\n      <td>104</td>\n      <td>English</td>\n      <td>Education</td>\n      <td>False</td>\n      <td>0.573531</td>\n    </tr>\n    <tr>\n      <th>3</th>\n      <td>SET India</td>\n      <td>94</td>\n      <td>Hindi</td>\n      <td>Entertainment</td>\n      <td>False</td>\n      <td>0.426803</td>\n    </tr>\n    <tr>\n      <th>4</th>\n      <td>Kids Diana Show</td>\n      <td>73</td>\n      <td>English</td>\n      <td>Entertainment</td>\n      <td>False</td>\n      <td>0.410649</td>\n    </tr>\n    <tr>\n      <th>5</th>\n      <td>WWE</td>\n      <td>72</td>\n      <td>English</td>\n      <td>Sports</td>\n      <td>False</td>\n      <td>0.464831</td>\n    </tr>\n    <tr>\n      <th>6</th>\n      <td>5-Minute Crafts</td>\n      <td>70</td>\n      <td>English</td>\n      <td>How-to</td>\n      <td>False</td>\n      <td>0.718436</td>\n    </tr>\n    <tr>\n      <th>8</th>\n      <td>Zee Music Company</td>\n      <td>67</td>\n      <td>Hindi</td>\n      <td>Music</td>\n      <td>False</td>\n      <td>0.412821</td>\n    </tr>\n    <tr>\n      <th>10</th>\n      <td>Vlad and Nikita</td>\n      <td>61</td>\n      <td>English</td>\n      <td>Entertainment</td>\n      <td>False</td>\n      <td>0.647971</td>\n    </tr>\n    <tr>\n      <th>11</th>\n      <td>Justin Bieber</td>\n      <td>60</td>\n      <td>English</td>\n      <td>Music</td>\n      <td>False</td>\n      <td>0.477053</td>\n    </tr>\n    <tr>\n      <th>13</th>\n      <td>Zee TV</td>\n      <td>55</td>\n      <td>Hindi</td>\n      <td>Entertainment</td>\n      <td>False</td>\n      <td>0.395288</td>\n    </tr>\n    <tr>\n      <th>14</th>\n      <td>Dude Perfect</td>\n      <td>54</td>\n      <td>English</td>\n      <td>Sports</td>\n      <td>False</td>\n      <td>0.480551</td>\n    </tr>\n    <tr>\n      <th>15</th>\n      <td>MrBeast</td>\n      <td>52</td>\n      <td>English</td>\n      <td>Entertainment</td>\n      <td>False</td>\n      <td>0.412684</td>\n    </tr>\n    <tr>\n      <th>16</th>\n      <td>Marshmello</td>\n      <td>51</td>\n      <td>English</td>\n      <td>Music</td>\n      <td>False</td>\n      <td>0.479265</td>\n    </tr>\n    <tr>\n      <th>18</th>\n      <td>Movieclips</td>\n      <td>48</td>\n      <td>English</td>\n      <td>Film</td>\n      <td>False</td>\n      <td>0.384794</td>\n    </tr>\n    <tr>\n      <th>19</th>\n      <td>Goldmines Telefilms</td>\n      <td>47</td>\n      <td>Hindi</td>\n      <td>Film</td>\n      <td>False</td>\n      <td>0.413093</td>\n    </tr>\n    <tr>\n      <th>20</th>\n      <td>Shemaroo Filmi Gaane</td>\n      <td>47</td>\n      <td>Hindi</td>\n      <td>Music</td>\n      <td>False</td>\n      <td>0.387176</td>\n    </tr>\n    <tr>\n      <th>21</th>\n      <td>Ed Sheeran</td>\n      <td>46</td>\n      <td>English</td>\n      <td>Music</td>\n      <td>False</td>\n      <td>0.461837</td>\n    </tr>\n    <tr>\n      <th>22</th>\n      <td>Ariana Grande</td>\n      <td>46</td>\n      <td>English</td>\n      <td>Music</td>\n      <td>False</td>\n      <td>0.708712</td>\n    </tr>\n    <tr>\n      <th>23</th>\n      <td>EminemMusic</td>\n      <td>46</td>\n      <td>English</td>\n      <td>Music</td>\n      <td>False</td>\n      <td>0.497420</td>\n    </tr>\n    <tr>\n      <th>24</th>\n      <td>ChuChu TV Nursery Rhymes &amp; Kids Songs</td>\n      <td>44</td>\n      <td>English</td>\n      <td>Education</td>\n      <td>False</td>\n      <td>0.557902</td>\n    </tr>\n    <tr>\n      <th>25</th>\n      <td>SAB TV</td>\n      <td>44</td>\n      <td>Hindi</td>\n      <td>Entertainment</td>\n      <td>False</td>\n      <td>0.530589</td>\n    </tr>\n    <tr>\n      <th>26</th>\n      <td>Aaj Tak</td>\n      <td>44</td>\n      <td>Hindi</td>\n      <td>News</td>\n      <td>False</td>\n      <td>0.390951</td>\n    </tr>\n    <tr>\n      <th>29</th>\n      <td>Pinkfong! Kids' Stories &amp; Songs</td>\n      <td>43</td>\n      <td>English</td>\n      <td>Education</td>\n      <td>False</td>\n      <td>0.513633</td>\n    </tr>\n    <tr>\n      <th>33</th>\n      <td>Sony Music India</td>\n      <td>41</td>\n      <td>Hindi</td>\n      <td>Music</td>\n      <td>False</td>\n      <td>0.441345</td>\n    </tr>\n    <tr>\n      <th>36</th>\n      <td>Taylor Swift</td>\n      <td>41</td>\n      <td>English</td>\n      <td>Music</td>\n      <td>False</td>\n      <td>0.558237</td>\n    </tr>\n    <tr>\n      <th>39</th>\n      <td>Katy Perry</td>\n      <td>39</td>\n      <td>English</td>\n      <td>Entertainment</td>\n      <td>False</td>\n      <td>0.485305</td>\n    </tr>\n    <tr>\n      <th>42</th>\n      <td>LooLoo Kids - Nursery Rhymes and Children's Songs</td>\n      <td>38</td>\n      <td>English</td>\n      <td>Music</td>\n      <td>False</td>\n      <td>0.634510</td>\n    </tr>\n    <tr>\n      <th>43</th>\n      <td>Bright Side</td>\n      <td>38</td>\n      <td>English</td>\n      <td>Entertainment</td>\n      <td>False</td>\n      <td>0.340324</td>\n    </tr>\n    <tr>\n      <th>44</th>\n      <td>Alan Walker</td>\n      <td>38</td>\n      <td>English</td>\n      <td>Music</td>\n      <td>False</td>\n      <td>0.374893</td>\n    </tr>\n    <tr>\n      <th>45</th>\n      <td>Billie Eilish</td>\n      <td>37</td>\n      <td>English</td>\n      <td>Music</td>\n      <td>False</td>\n      <td>0.488964</td>\n    </tr>\n    <tr>\n      <th>46</th>\n      <td>TheEllenShow</td>\n      <td>37</td>\n      <td>English</td>\n      <td>Entertainment</td>\n      <td>False</td>\n      <td>0.545737</td>\n    </tr>\n    <tr>\n      <th>47</th>\n      <td>T-Series Bhakti Sagar</td>\n      <td>36</td>\n      <td>Hindi</td>\n      <td>Music</td>\n      <td>False</td>\n      <td>0.445143</td>\n    </tr>\n    <tr>\n      <th>48</th>\n      <td>Tips Official</td>\n      <td>36</td>\n      <td>Hindi</td>\n      <td>Music</td>\n      <td>False</td>\n      <td>0.462328</td>\n    </tr>\n    <tr>\n      <th>49</th>\n      <td>YRF</td>\n      <td>36</td>\n      <td>Hindi</td>\n      <td>Music</td>\n      <td>False</td>\n      <td>0.439387</td>\n    </tr>\n  </tbody>\n</table>\n</div>"
     },
     "execution_count": 30,
     "metadata": {},
     "output_type": "execute_result"
    }
   ],
   "source": [
    "# Фильтрация строк, где язык либо English, либо Hindi\n",
    "youtube_channels[youtube_channels['language'].isin(['English', 'Hindi'])]"
   ],
   "metadata": {
    "collapsed": false,
    "ExecuteTime": {
     "end_time": "2024-10-10T15:00:20.214774900Z",
     "start_time": "2024-10-10T15:00:19.857701900Z"
    }
   },
   "id": "e0e95e87c44b0ffb"
  },
  {
   "cell_type": "code",
   "execution_count": 31,
   "outputs": [
    {
     "data": {
      "text/plain": "                name  subscribers_mln    language       category  in_russian  \\\n6    5-Minute Crafts               70     English         How-to       False   \n22     Ariana Grande               46     English          Music       False   \n32  whinderssonnunes               41  Portuguese  Entertainment       False   \n\n    like_to_view_ratio  \n6             0.718436  \n22            0.708712  \n32            0.690834  ",
      "text/html": "<div>\n<style scoped>\n    .dataframe tbody tr th:only-of-type {\n        vertical-align: middle;\n    }\n\n    .dataframe tbody tr th {\n        vertical-align: top;\n    }\n\n    .dataframe thead th {\n        text-align: right;\n    }\n</style>\n<table border=\"1\" class=\"dataframe\">\n  <thead>\n    <tr style=\"text-align: right;\">\n      <th></th>\n      <th>name</th>\n      <th>subscribers_mln</th>\n      <th>language</th>\n      <th>category</th>\n      <th>in_russian</th>\n      <th>like_to_view_ratio</th>\n    </tr>\n  </thead>\n  <tbody>\n    <tr>\n      <th>6</th>\n      <td>5-Minute Crafts</td>\n      <td>70</td>\n      <td>English</td>\n      <td>How-to</td>\n      <td>False</td>\n      <td>0.718436</td>\n    </tr>\n    <tr>\n      <th>22</th>\n      <td>Ariana Grande</td>\n      <td>46</td>\n      <td>English</td>\n      <td>Music</td>\n      <td>False</td>\n      <td>0.708712</td>\n    </tr>\n    <tr>\n      <th>32</th>\n      <td>whinderssonnunes</td>\n      <td>41</td>\n      <td>Portuguese</td>\n      <td>Entertainment</td>\n      <td>False</td>\n      <td>0.690834</td>\n    </tr>\n  </tbody>\n</table>\n</div>"
     },
     "execution_count": 31,
     "metadata": {},
     "output_type": "execute_result"
    }
   ],
   "source": [
    "youtube_channels.query('like_to_view_ratio > 0.6764563')"
   ],
   "metadata": {
    "collapsed": false,
    "ExecuteTime": {
     "end_time": "2024-10-10T15:00:20.215789800Z",
     "start_time": "2024-10-10T15:00:19.877536100Z"
    }
   },
   "id": "9ec107ebeb2501dc"
  },
  {
   "cell_type": "markdown",
   "source": [
    "# Работа с графиками"
   ],
   "metadata": {
    "collapsed": false
   },
   "id": "f479ec86a9e85535"
  },
  {
   "cell_type": "markdown",
   "source": [
    "## Гистограммы распределений"
   ],
   "metadata": {
    "collapsed": false
   },
   "id": "c89bddca5ef96017"
  },
  {
   "cell_type": "code",
   "execution_count": 44,
   "outputs": [
    {
     "data": {
      "text/plain": "<Figure size 640x480 with 1 Axes>",
      "image/png": "[encoded data removed]"
     },
     "metadata": {},
     "output_type": "display_data"
    }
   ],
   "source": [
    "plt.hist(youtube_channels['subscribers_mln'], bins=10)\n",
    "plt.xlabel('Количество подписчиков, млн')\n",
    "plt.ylabel('Частота появления')\n",
    "plt.title('Распределение количества подписчиков youtube-каналов')\n",
    "plt.grid(False)\n",
    "plt.savefig('pict')\n",
    "plt.show()"
   ],
   "metadata": {
    "collapsed": false,
    "ExecuteTime": {
     "end_time": "2024-10-10T15:00:38.070533600Z",
     "start_time": "2024-10-10T15:00:37.786242300Z"
    }
   },
   "id": "c26b05e00ce2c11a"
  },
  {
   "cell_type": "code",
   "execution_count": 33,
   "outputs": [
    {
     "data": {
      "text/plain": "<Figure size 640x480 with 1 Axes>",
      "image/png": "[encoded data removed]"
     },
     "metadata": {},
     "output_type": "display_data"
    }
   ],
   "source": [
    "youtube_channels['subscribers_mln'].hist(bins=100)\n",
    "plt.xlabel('Количество подписчиков, млн')\n",
    "plt.ylabel('Частота появления')\n",
    "plt.title('Распределение количества подписчиков youtube-каналов')\n",
    "plt.grid(True)\n",
    "plt.show()"
   ],
   "metadata": {
    "collapsed": false,
    "ExecuteTime": {
     "end_time": "2024-10-10T15:00:21.044180500Z",
     "start_time": "2024-10-10T15:00:20.309641500Z"
    }
   },
   "id": "b935c94692d02a7c"
  },
  {
   "cell_type": "code",
   "execution_count": 34,
   "outputs": [
    {
     "data": {
      "text/plain": "<Figure size 640x480 with 1 Axes>",
      "image/png": "[encoded data removed]"
     },
     "metadata": {},
     "output_type": "display_data"
    }
   ],
   "source": [
    "youtube_channels['like_to_view_ratio'].hist(bins=10)\n",
    "plt.xlabel('Значение like/view ratio')\n",
    "plt.ylabel('Частота появления')\n",
    "plt.title('Распределение значений like/view ratio')\n",
    "plt.show()"
   ],
   "metadata": {
    "collapsed": false,
    "ExecuteTime": {
     "end_time": "2024-10-10T15:00:21.292564900Z",
     "start_time": "2024-10-10T15:00:20.694836100Z"
    }
   },
   "id": "568f90388ff21d56"
  },
  {
   "cell_type": "markdown",
   "source": [
    "# Среднее арифметическое и стандартное отклонение"
   ],
   "metadata": {
    "collapsed": false
   },
   "id": "8f84d41e0e0283d9"
  },
  {
   "cell_type": "markdown",
   "source": [
    "$\n",
    "\\sigma = \\sqrt{\\frac{1}{N} \\sum_{i=1}^{N} (x_i - \\mu)^2}\n",
    "$\n",
    "\n",
    "Где:\n",
    "- $N$ — количество элементов в генеральной совокупности.\n",
    "- $x_i$ — каждое значение в совокупности.\n",
    "- $\\mu$ — среднее значение генеральной совокупности, вычисляемое как:\n",
    "\n",
    "$\n",
    "\\mu = \\frac{1}{N} \\sum_{i=1}^{N} x_i\n",
    "$"
   ],
   "metadata": {
    "collapsed": false
   },
   "id": "bfbedf177c401a30"
  },
  {
   "cell_type": "code",
   "execution_count": 35,
   "outputs": [
    {
     "data": {
      "text/plain": "(53.08, 23.818051806072113)"
     },
     "execution_count": 35,
     "metadata": {},
     "output_type": "execute_result"
    }
   ],
   "source": [
    "youtube_channels['subscribers_mln'].mean(), youtube_channels['subscribers_mln'].std()"
   ],
   "metadata": {
    "collapsed": false,
    "ExecuteTime": {
     "end_time": "2024-10-10T15:00:21.316615100Z",
     "start_time": "2024-10-10T15:00:20.946104200Z"
    }
   },
   "id": "89e63f7cf426e"
  },
  {
   "cell_type": "markdown",
   "source": [
    "## Медианы и перцентили"
   ],
   "metadata": {
    "collapsed": false
   },
   "id": "9cc33ffeff30a06b"
  },
  {
   "cell_type": "code",
   "execution_count": 36,
   "outputs": [
    {
     "data": {
      "text/plain": "44.0"
     },
     "execution_count": 36,
     "metadata": {},
     "output_type": "execute_result"
    }
   ],
   "source": [
    "youtube_channels['subscribers_mln'].median()"
   ],
   "metadata": {
    "collapsed": false,
    "ExecuteTime": {
     "end_time": "2024-10-10T15:00:21.317615200Z",
     "start_time": "2024-10-10T15:00:20.953148300Z"
    }
   },
   "id": "d2b77311063c399f"
  },
  {
   "cell_type": "code",
   "execution_count": 37,
   "outputs": [
    {
     "data": {
      "text/plain": "0.50     44.00\n0.75     56.50\n0.99    140.62\nName: subscribers_mln, dtype: float64"
     },
     "execution_count": 37,
     "metadata": {},
     "output_type": "execute_result"
    }
   ],
   "source": [
    "youtube_channels['subscribers_mln'].quantile([0.50, 0.75, 0.99])"
   ],
   "metadata": {
    "collapsed": false,
    "ExecuteTime": {
     "end_time": "2024-10-10T15:00:21.319188900Z",
     "start_time": "2024-10-10T15:00:20.962268100Z"
    }
   },
   "id": "a1b2af38e9d4bd14"
  },
  {
   "cell_type": "markdown",
   "source": [
    "## Диаграмма размаха"
   ],
   "metadata": {
    "collapsed": false
   },
   "id": "ef8a6e604d82a373"
  },
  {
   "cell_type": "markdown",
   "source": [
    "Boxplot (ящик с усами) отображает основные характеристики распределения данных:\n",
    "\n",
    "1. **Медиана** ($Q2$) — линия внутри \"ящика\", которая делит данные пополам.\n",
    "2. **Ящик** — область между первым квартилем ($Q1$) и третьим квартилем ($Q3$), представляющая межквартильный размах ($IQR = Q3 - Q1$). Это диапазон, в котором находится центральные 50% данных.\n",
    "3. **\"Усы\"** — линии, которые выходят из ящика и простираются до минимальных и максимальных значений данных, не являющихся выбросами. Их границы определяются как:\n",
    "   - Нижняя граница: $Q1 - 1.5 \\times IQR$\n",
    "   - Верхняя граница: $Q3 + 1.5 \\times IQR$\n",
    "4. **Выбросы** — отдельные точки за пределами \"усов\", которые считаются аномальными значениями. Они отображаются в виде отдельных точек на графике.\n",
    "\n"
   ],
   "metadata": {
    "collapsed": false
   },
   "id": "a2ba890bfed73104"
  },
  {
   "cell_type": "code",
   "execution_count": 38,
   "outputs": [
    {
     "data": {
      "text/plain": "<Figure size 640x480 with 1 Axes>",
      "image/png": "[encoded data removed]"
     },
     "metadata": {},
     "output_type": "display_data"
    }
   ],
   "source": [
    "youtube_channels.boxplot('like_to_view_ratio', vert=False)\n",
    "plt.xlabel('Значение like/view ratio')\n",
    "plt.title('Диаграмма размаха значений like/view ratio')\n",
    "plt.show()"
   ],
   "metadata": {
    "collapsed": false,
    "ExecuteTime": {
     "end_time": "2024-10-10T15:00:21.427271100Z",
     "start_time": "2024-10-10T15:00:20.972031100Z"
    }
   },
   "id": "dae7d7376513b3f6"
  },
  {
   "cell_type": "code",
   "execution_count": 39,
   "outputs": [
    {
     "data": {
      "text/plain": "<Figure size 640x480 with 1 Axes>",
      "image/png": "[encoded data removed]"
     },
     "metadata": {},
     "output_type": "display_data"
    }
   ],
   "source": [
    "import seaborn as sns\n",
    "sns.violinplot(youtube_channels['like_to_view_ratio'], vert=False)\n",
    "plt.xlabel('Значение like/view ratio')\n",
    "plt.show()"
   ],
   "metadata": {
    "collapsed": false,
    "ExecuteTime": {
     "end_time": "2024-10-10T15:00:21.461304900Z",
     "start_time": "2024-10-10T15:00:21.165356300Z"
    }
   },
   "id": "91f755a9deb125f3"
  },
  {
   "cell_type": "code",
   "execution_count": 40,
   "outputs": [
    {
     "data": {
      "text/plain": "                    subscribers_mln  like_to_view_ratio\nsubscribers_mln            1.000000           -0.071073\nlike_to_view_ratio        -0.071073            1.000000",
      "text/html": "<div>\n<style scoped>\n    .dataframe tbody tr th:only-of-type {\n        vertical-align: middle;\n    }\n\n    .dataframe tbody tr th {\n        vertical-align: top;\n    }\n\n    .dataframe thead th {\n        text-align: right;\n    }\n</style>\n<table border=\"1\" class=\"dataframe\">\n  <thead>\n    <tr style=\"text-align: right;\">\n      <th></th>\n      <th>subscribers_mln</th>\n      <th>like_to_view_ratio</th>\n    </tr>\n  </thead>\n  <tbody>\n    <tr>\n      <th>subscribers_mln</th>\n      <td>1.000000</td>\n      <td>-0.071073</td>\n    </tr>\n    <tr>\n      <th>like_to_view_ratio</th>\n      <td>-0.071073</td>\n      <td>1.000000</td>\n    </tr>\n  </tbody>\n</table>\n</div>"
     },
     "execution_count": 40,
     "metadata": {},
     "output_type": "execute_result"
    }
   ],
   "source": [
    "youtube_channels[['subscribers_mln', 'like_to_view_ratio']].corr()"
   ],
   "metadata": {
    "collapsed": false,
    "ExecuteTime": {
     "end_time": "2024-10-10T15:00:21.708606700Z",
     "start_time": "2024-10-10T15:00:21.310587300Z"
    }
   },
   "id": "e644939530505162"
  },
  {
   "cell_type": "code",
   "execution_count": 46,
   "outputs": [
    {
     "data": {
      "text/plain": "<Figure size 640x480 with 2 Axes>",
      "image/png": "[encoded data removed]"
     },
     "metadata": {},
     "output_type": "display_data"
    }
   ],
   "source": [
    "corr_matrix = youtube_channels[['subscribers_mln', 'like_to_view_ratio']].corr()\n",
    "plt.imshow(corr_matrix, cmap='coolwarm', interpolation='none') # 'kaiser'\n",
    "plt.colorbar(label='Коэффициент корреляции')\n",
    "plt.grid(False)\n",
    "plt.xticks(ticks=np.arange(len(corr_matrix.columns)), labels=corr_matrix.columns, rotation=45, ha='right')\n",
    "plt.yticks(ticks=np.arange(len(corr_matrix.columns)), labels=corr_matrix.columns)\n",
    "plt.show()"
   ],
   "metadata": {
    "collapsed": false,
    "ExecuteTime": {
     "end_time": "2024-10-10T15:17:09.745395100Z",
     "start_time": "2024-10-10T15:17:09.565595300Z"
    }
   },
   "id": "2b891cae3526ede"
  },
  {
   "cell_type": "code",
   "execution_count": 42,
   "outputs": [
    {
     "data": {
      "text/plain": "                name  subscribers_mln    language       category  in_russian  \\\n6    5-Minute Crafts               70     English         How-to       False   \n22     Ariana Grande               46     English          Music       False   \n32  whinderssonnunes               41  Portuguese  Entertainment       False   \n\n    like_to_view_ratio  \n6             0.718436  \n22            0.708712  \n32            0.690834  ",
      "text/html": "<div>\n<style scoped>\n    .dataframe tbody tr th:only-of-type {\n        vertical-align: middle;\n    }\n\n    .dataframe tbody tr th {\n        vertical-align: top;\n    }\n\n    .dataframe thead th {\n        text-align: right;\n    }\n</style>\n<table border=\"1\" class=\"dataframe\">\n  <thead>\n    <tr style=\"text-align: right;\">\n      <th></th>\n      <th>name</th>\n      <th>subscribers_mln</th>\n      <th>language</th>\n      <th>category</th>\n      <th>in_russian</th>\n      <th>like_to_view_ratio</th>\n    </tr>\n  </thead>\n  <tbody>\n    <tr>\n      <th>6</th>\n      <td>5-Minute Crafts</td>\n      <td>70</td>\n      <td>English</td>\n      <td>How-to</td>\n      <td>False</td>\n      <td>0.718436</td>\n    </tr>\n    <tr>\n      <th>22</th>\n      <td>Ariana Grande</td>\n      <td>46</td>\n      <td>English</td>\n      <td>Music</td>\n      <td>False</td>\n      <td>0.708712</td>\n    </tr>\n    <tr>\n      <th>32</th>\n      <td>whinderssonnunes</td>\n      <td>41</td>\n      <td>Portuguese</td>\n      <td>Entertainment</td>\n      <td>False</td>\n      <td>0.690834</td>\n    </tr>\n  </tbody>\n</table>\n</div>"
     },
     "execution_count": 42,
     "metadata": {},
     "output_type": "execute_result"
    }
   ],
   "source": [
    "# Сохранение результата в CSV\n",
    "most_trusted = youtube_channels.query('like_to_view_ratio > 0.6764563')\n",
    "most_trusted"
   ],
   "metadata": {
    "collapsed": false,
    "ExecuteTime": {
     "end_time": "2024-10-10T15:00:21.792228200Z",
     "start_time": "2024-10-10T15:00:21.528260700Z"
    }
   },
   "id": "782493d8637ec627"
  },
  {
   "cell_type": "code",
   "execution_count": 43,
   "outputs": [],
   "source": [
    "most_trusted.to_csv('most_trusted.csv', index=False)"
   ],
   "metadata": {
    "collapsed": false,
    "ExecuteTime": {
     "end_time": "2024-10-10T15:00:21.792228200Z",
     "start_time": "2024-10-10T15:00:21.535941500Z"
    }
   },
   "id": "49e85ab1fe06f572"
  },
  {
   "cell_type": "code",
   "execution_count": 43,
   "outputs": [],
   "source": [],
   "metadata": {
    "collapsed": false,
    "ExecuteTime": {
     "end_time": "2024-10-10T15:00:21.793325800Z",
     "start_time": "2024-10-10T15:00:21.550834400Z"
    }
   },
   "id": "847b5fd980fc4c0c"
  }
 ],
 "metadata": {
  "kernelspec": {
   "display_name": "Python 3",
   "language": "python",
   "name": "python3"
  },
  "language_info": {
   "codemirror_mode": {
    "name": "ipython",
    "version": 2
   },
   "file_extension": ".py",
   "mimetype": "text/x-python",
   "name": "python",
   "nbconvert_exporter": "python",
   "pygments_lexer": "ipython2",
   "version": "2.7.6"
  }
 },
 "nbformat": 4,
 "nbformat_minor": 5
}
