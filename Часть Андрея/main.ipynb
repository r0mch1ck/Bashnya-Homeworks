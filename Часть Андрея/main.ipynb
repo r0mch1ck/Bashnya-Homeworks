{
 "cells": [
  {
   "metadata": {},
   "cell_type": "markdown",
   "source": "# Тестовое задание на позицию “Аналитик данных”",
   "id": "46753c2a3417570a"
  },
  {
   "metadata": {},
   "cell_type": "markdown",
   "source": "### Имеется набор данных. Необходимо проанализировать его и представить ответы на вопросы с визуализацией каждого пункта.",
   "id": "8b778ba41b0c39cf"
  },
  {
   "cell_type": "code",
   "id": "initial_id",
   "metadata": {
    "collapsed": true,
    "jupyter": {
     "is_executing": true
    }
   },
   "source": [
    "import numpy as np\n",
    "import pandas as pd\n",
    "import matplotlib.pyplot as plt\n",
    "import seaborn as sns\n",
    "\n",
    "import warnings\n",
    "warnings.filterwarnings('ignore')"
   ],
   "outputs": [],
   "execution_count": null
  },
  {
   "cell_type": "code",
   "source": [
    "df = pd.read_csv(\"train.csv\")\n",
    "df"
   ],
   "metadata": {
    "collapsed": false,
    "ExecuteTime": {
     "end_time": "2024-10-17T12:24:14.806622700Z",
     "start_time": "2024-10-17T11:07:27.423069Z"
    }
   },
   "id": "a4e7c0d9f8691394",
   "outputs": [
    {
     "data": {
      "text/plain": [
       "        ID  Order Date     Class       Region Sub-Category      Sales\n",
       "0      646  30/12/2018  Стандарт         Урал   Appliances  37229.080\n",
       "1      907  30/12/2018  Стандарт  Владивосток    Bookcases  20994.610\n",
       "2      908  30/12/2018  Стандарт  Владивосток       Phones  42133.860\n",
       "3      909  30/12/2018  Стандарт  Владивосток      Binders -29388.000\n",
       "4     1297  30/12/2018  Стандарт   Калиниград      Binders  28781.130\n",
       "...    ...         ...       ...          ...          ...        ...\n",
       "9795  1760  05/01/2015  Стандарт  Владивосток          Art  17278.944\n",
       "9796   740  04/01/2015  Стандарт         Урал       Labels  15246.050\n",
       "9797   741  04/01/2015  Стандарт         Урал      Storage  20415.810\n",
       "9798   742  04/01/2015  Стандарт         Урал      Binders   4559.085\n",
       "9799  7981  03/01/2015  Стандарт         Урал        Paper  11726.470\n",
       "\n",
       "[9800 rows x 6 columns]"
      ],
      "text/html": [
       "<div>\n",
       "<style scoped>\n",
       "    .dataframe tbody tr th:only-of-type {\n",
       "        vertical-align: middle;\n",
       "    }\n",
       "\n",
       "    .dataframe tbody tr th {\n",
       "        vertical-align: top;\n",
       "    }\n",
       "\n",
       "    .dataframe thead th {\n",
       "        text-align: right;\n",
       "    }\n",
       "</style>\n",
       "<table border=\"1\" class=\"dataframe\">\n",
       "  <thead>\n",
       "    <tr style=\"text-align: right;\">\n",
       "      <th></th>\n",
       "      <th>ID</th>\n",
       "      <th>Order Date</th>\n",
       "      <th>Class</th>\n",
       "      <th>Region</th>\n",
       "      <th>Sub-Category</th>\n",
       "      <th>Sales</th>\n",
       "    </tr>\n",
       "  </thead>\n",
       "  <tbody>\n",
       "    <tr>\n",
       "      <th>0</th>\n",
       "      <td>646</td>\n",
       "      <td>30/12/2018</td>\n",
       "      <td>Стандарт</td>\n",
       "      <td>Урал</td>\n",
       "      <td>Appliances</td>\n",
       "      <td>37229.080</td>\n",
       "    </tr>\n",
       "    <tr>\n",
       "      <th>1</th>\n",
       "      <td>907</td>\n",
       "      <td>30/12/2018</td>\n",
       "      <td>Стандарт</td>\n",
       "      <td>Владивосток</td>\n",
       "      <td>Bookcases</td>\n",
       "      <td>20994.610</td>\n",
       "    </tr>\n",
       "    <tr>\n",
       "      <th>2</th>\n",
       "      <td>908</td>\n",
       "      <td>30/12/2018</td>\n",
       "      <td>Стандарт</td>\n",
       "      <td>Владивосток</td>\n",
       "      <td>Phones</td>\n",
       "      <td>42133.860</td>\n",
       "    </tr>\n",
       "    <tr>\n",
       "      <th>3</th>\n",
       "      <td>909</td>\n",
       "      <td>30/12/2018</td>\n",
       "      <td>Стандарт</td>\n",
       "      <td>Владивосток</td>\n",
       "      <td>Binders</td>\n",
       "      <td>-29388.000</td>\n",
       "    </tr>\n",
       "    <tr>\n",
       "      <th>4</th>\n",
       "      <td>1297</td>\n",
       "      <td>30/12/2018</td>\n",
       "      <td>Стандарт</td>\n",
       "      <td>Калиниград</td>\n",
       "      <td>Binders</td>\n",
       "      <td>28781.130</td>\n",
       "    </tr>\n",
       "    <tr>\n",
       "      <th>...</th>\n",
       "      <td>...</td>\n",
       "      <td>...</td>\n",
       "      <td>...</td>\n",
       "      <td>...</td>\n",
       "      <td>...</td>\n",
       "      <td>...</td>\n",
       "    </tr>\n",
       "    <tr>\n",
       "      <th>9795</th>\n",
       "      <td>1760</td>\n",
       "      <td>05/01/2015</td>\n",
       "      <td>Стандарт</td>\n",
       "      <td>Владивосток</td>\n",
       "      <td>Art</td>\n",
       "      <td>17278.944</td>\n",
       "    </tr>\n",
       "    <tr>\n",
       "      <th>9796</th>\n",
       "      <td>740</td>\n",
       "      <td>04/01/2015</td>\n",
       "      <td>Стандарт</td>\n",
       "      <td>Урал</td>\n",
       "      <td>Labels</td>\n",
       "      <td>15246.050</td>\n",
       "    </tr>\n",
       "    <tr>\n",
       "      <th>9797</th>\n",
       "      <td>741</td>\n",
       "      <td>04/01/2015</td>\n",
       "      <td>Стандарт</td>\n",
       "      <td>Урал</td>\n",
       "      <td>Storage</td>\n",
       "      <td>20415.810</td>\n",
       "    </tr>\n",
       "    <tr>\n",
       "      <th>9798</th>\n",
       "      <td>742</td>\n",
       "      <td>04/01/2015</td>\n",
       "      <td>Стандарт</td>\n",
       "      <td>Урал</td>\n",
       "      <td>Binders</td>\n",
       "      <td>4559.085</td>\n",
       "    </tr>\n",
       "    <tr>\n",
       "      <th>9799</th>\n",
       "      <td>7981</td>\n",
       "      <td>03/01/2015</td>\n",
       "      <td>Стандарт</td>\n",
       "      <td>Урал</td>\n",
       "      <td>Paper</td>\n",
       "      <td>11726.470</td>\n",
       "    </tr>\n",
       "  </tbody>\n",
       "</table>\n",
       "<p>9800 rows × 6 columns</p>\n",
       "</div>"
      ]
     },
     "execution_count": 161,
     "metadata": {},
     "output_type": "execute_result"
    }
   ],
   "execution_count": 161
  },
  {
   "cell_type": "markdown",
   "source": "## Задание 1",
   "metadata": {
    "collapsed": false
   },
   "id": "22bdd45065bfc6f5"
  },
  {
   "metadata": {},
   "cell_type": "markdown",
   "source": "###  а) Какие подгруппы товаров наиболее часто покупают за все время продаж (минимум 4 группы)?",
   "id": "88adb1aee10c348e"
  },
  {
   "cell_type": "code",
   "source": [
    "df['Sub-Category'].value_counts().sort_values(ascending=False).head(4)"
   ],
   "metadata": {
    "collapsed": false,
    "ExecuteTime": {
     "end_time": "2024-10-17T12:24:14.809878300Z",
     "start_time": "2024-10-17T11:07:27.467528Z"
    }
   },
   "id": "ea31d3987615b5d8",
   "outputs": [
    {
     "data": {
      "text/plain": [
       "Sub-Category\n",
       "Binders        1492\n",
       "Paper          1338\n",
       "Furnishings     931\n",
       "Phones          876\n",
       "Name: count, dtype: int64"
      ]
     },
     "execution_count": 162,
     "metadata": {},
     "output_type": "execute_result"
    }
   ],
   "execution_count": 162
  },
  {
   "metadata": {},
   "cell_type": "markdown",
   "source": "###  б) Какие подгруппы товаров наиболее часто покупают за последние два года (минимум 4 группы)?",
   "id": "d69f8608c5ee9be"
  },
  {
   "cell_type": "code",
   "source": [
    "df['Order Date'] = pd.to_datetime(df['Order Date'], dayfirst=True)\n",
    "\n",
    "filtered_df_last_2_years = df[df['Order Date'].dt.year.isin([2017, 2018])]\n",
    "\n",
    "filtered_df_last_2_years['Sub-Category'].value_counts().sort_values(ascending=False).head(4)"
   ],
   "metadata": {
    "collapsed": false,
    "ExecuteTime": {
     "end_time": "2024-10-17T12:24:14.809878300Z",
     "start_time": "2024-10-17T11:07:27.518370Z"
    }
   },
   "id": "71cf7bbbe17d528c",
   "outputs": [
    {
     "data": {
      "text/plain": [
       "Sub-Category\n",
       "Binders        900\n",
       "Paper          809\n",
       "Furnishings    557\n",
       "Phones         510\n",
       "Name: count, dtype: int64"
      ]
     },
     "execution_count": 163,
     "metadata": {},
     "output_type": "execute_result"
    }
   ],
   "execution_count": 163
  },
  {
   "metadata": {},
   "cell_type": "markdown",
   "source": "###  в) Какие подгруппы товаров наиболее часто покупают за последний год(минимум 4 группы)?",
   "id": "d4bc89aafd745cc6"
  },
  {
   "cell_type": "code",
   "source": [
    "# Фильтрация строк по годам 2017 и 2018\n",
    "filtered_df_last_year = df[df['Order Date'].dt.year.isin([2018])]\n",
    "\n",
    "# Подсчет частоты встречаемости значений в 'Sub-Category', сортировка по убыванию и выбор первых 4\n",
    "filtered_df_last_year['Sub-Category'].value_counts().sort_values(ascending=False).head(4)"
   ],
   "metadata": {
    "collapsed": false,
    "ExecuteTime": {
     "end_time": "2024-10-17T12:24:14.810877200Z",
     "start_time": "2024-10-17T11:07:27.543455Z"
    }
   },
   "id": "8c3ace6e36ab930b",
   "outputs": [
    {
     "data": {
      "text/plain": [
       "Sub-Category\n",
       "Binders        492\n",
       "Paper          452\n",
       "Furnishings    310\n",
       "Phones         290\n",
       "Name: count, dtype: int64"
      ]
     },
     "execution_count": 164,
     "metadata": {},
     "output_type": "execute_result"
    }
   ],
   "execution_count": 164
  },
  {
   "cell_type": "markdown",
   "source": "## Задание 2",
   "metadata": {
    "collapsed": false
   },
   "id": "1680218186d11b43"
  },
  {
   "metadata": {},
   "cell_type": "markdown",
   "source": [
    " ## Построить boxplot («Ящик с усами») на основе продаж (Sales). Найти мажоритарную черту (т.е. избавиться от аномалий и представить четкую картину распределения величин).\n",
    " Можно использовать правило трех сигм. Однако любые другие решения приветствуются."
   ],
   "id": "f61da5ecb97bd6b2"
  },
  {
   "cell_type": "code",
   "source": [
    "# Преобразование 'Sales' в числовой формат\n",
    "df['Sales'] = df['Sales'].astype(str).str.replace(',', '.').astype(float)\n",
    "df['Sales'] = pd.to_numeric(df['Sales'])\n",
    "df"
   ],
   "metadata": {
    "collapsed": false,
    "ExecuteTime": {
     "end_time": "2024-10-17T12:24:14.836442500Z",
     "start_time": "2024-10-17T11:07:27.572536Z"
    }
   },
   "id": "a92c7016ea602be4",
   "outputs": [
    {
     "data": {
      "text/plain": [
       "        ID Order Date     Class       Region Sub-Category      Sales\n",
       "0      646 2018-12-30  Стандарт         Урал   Appliances  37229.080\n",
       "1      907 2018-12-30  Стандарт  Владивосток    Bookcases  20994.610\n",
       "2      908 2018-12-30  Стандарт  Владивосток       Phones  42133.860\n",
       "3      909 2018-12-30  Стандарт  Владивосток      Binders -29388.000\n",
       "4     1297 2018-12-30  Стандарт   Калиниград      Binders  28781.130\n",
       "...    ...        ...       ...          ...          ...        ...\n",
       "9795  1760 2015-01-05  Стандарт  Владивосток          Art  17278.944\n",
       "9796   740 2015-01-04  Стандарт         Урал       Labels  15246.050\n",
       "9797   741 2015-01-04  Стандарт         Урал      Storage  20415.810\n",
       "9798   742 2015-01-04  Стандарт         Урал      Binders   4559.085\n",
       "9799  7981 2015-01-03  Стандарт         Урал        Paper  11726.470\n",
       "\n",
       "[9800 rows x 6 columns]"
      ],
      "text/html": [
       "<div>\n",
       "<style scoped>\n",
       "    .dataframe tbody tr th:only-of-type {\n",
       "        vertical-align: middle;\n",
       "    }\n",
       "\n",
       "    .dataframe tbody tr th {\n",
       "        vertical-align: top;\n",
       "    }\n",
       "\n",
       "    .dataframe thead th {\n",
       "        text-align: right;\n",
       "    }\n",
       "</style>\n",
       "<table border=\"1\" class=\"dataframe\">\n",
       "  <thead>\n",
       "    <tr style=\"text-align: right;\">\n",
       "      <th></th>\n",
       "      <th>ID</th>\n",
       "      <th>Order Date</th>\n",
       "      <th>Class</th>\n",
       "      <th>Region</th>\n",
       "      <th>Sub-Category</th>\n",
       "      <th>Sales</th>\n",
       "    </tr>\n",
       "  </thead>\n",
       "  <tbody>\n",
       "    <tr>\n",
       "      <th>0</th>\n",
       "      <td>646</td>\n",
       "      <td>2018-12-30</td>\n",
       "      <td>Стандарт</td>\n",
       "      <td>Урал</td>\n",
       "      <td>Appliances</td>\n",
       "      <td>37229.080</td>\n",
       "    </tr>\n",
       "    <tr>\n",
       "      <th>1</th>\n",
       "      <td>907</td>\n",
       "      <td>2018-12-30</td>\n",
       "      <td>Стандарт</td>\n",
       "      <td>Владивосток</td>\n",
       "      <td>Bookcases</td>\n",
       "      <td>20994.610</td>\n",
       "    </tr>\n",
       "    <tr>\n",
       "      <th>2</th>\n",
       "      <td>908</td>\n",
       "      <td>2018-12-30</td>\n",
       "      <td>Стандарт</td>\n",
       "      <td>Владивосток</td>\n",
       "      <td>Phones</td>\n",
       "      <td>42133.860</td>\n",
       "    </tr>\n",
       "    <tr>\n",
       "      <th>3</th>\n",
       "      <td>909</td>\n",
       "      <td>2018-12-30</td>\n",
       "      <td>Стандарт</td>\n",
       "      <td>Владивосток</td>\n",
       "      <td>Binders</td>\n",
       "      <td>-29388.000</td>\n",
       "    </tr>\n",
       "    <tr>\n",
       "      <th>4</th>\n",
       "      <td>1297</td>\n",
       "      <td>2018-12-30</td>\n",
       "      <td>Стандарт</td>\n",
       "      <td>Калиниград</td>\n",
       "      <td>Binders</td>\n",
       "      <td>28781.130</td>\n",
       "    </tr>\n",
       "    <tr>\n",
       "      <th>...</th>\n",
       "      <td>...</td>\n",
       "      <td>...</td>\n",
       "      <td>...</td>\n",
       "      <td>...</td>\n",
       "      <td>...</td>\n",
       "      <td>...</td>\n",
       "    </tr>\n",
       "    <tr>\n",
       "      <th>9795</th>\n",
       "      <td>1760</td>\n",
       "      <td>2015-01-05</td>\n",
       "      <td>Стандарт</td>\n",
       "      <td>Владивосток</td>\n",
       "      <td>Art</td>\n",
       "      <td>17278.944</td>\n",
       "    </tr>\n",
       "    <tr>\n",
       "      <th>9796</th>\n",
       "      <td>740</td>\n",
       "      <td>2015-01-04</td>\n",
       "      <td>Стандарт</td>\n",
       "      <td>Урал</td>\n",
       "      <td>Labels</td>\n",
       "      <td>15246.050</td>\n",
       "    </tr>\n",
       "    <tr>\n",
       "      <th>9797</th>\n",
       "      <td>741</td>\n",
       "      <td>2015-01-04</td>\n",
       "      <td>Стандарт</td>\n",
       "      <td>Урал</td>\n",
       "      <td>Storage</td>\n",
       "      <td>20415.810</td>\n",
       "    </tr>\n",
       "    <tr>\n",
       "      <th>9798</th>\n",
       "      <td>742</td>\n",
       "      <td>2015-01-04</td>\n",
       "      <td>Стандарт</td>\n",
       "      <td>Урал</td>\n",
       "      <td>Binders</td>\n",
       "      <td>4559.085</td>\n",
       "    </tr>\n",
       "    <tr>\n",
       "      <th>9799</th>\n",
       "      <td>7981</td>\n",
       "      <td>2015-01-03</td>\n",
       "      <td>Стандарт</td>\n",
       "      <td>Урал</td>\n",
       "      <td>Paper</td>\n",
       "      <td>11726.470</td>\n",
       "    </tr>\n",
       "  </tbody>\n",
       "</table>\n",
       "<p>9800 rows × 6 columns</p>\n",
       "</div>"
      ]
     },
     "execution_count": 165,
     "metadata": {},
     "output_type": "execute_result"
    }
   ],
   "execution_count": 165
  },
  {
   "cell_type": "code",
   "source": [
    "# Построение boxplot\n",
    "plt.figure(figsize=(10, 3))\n",
    "sns.boxplot(x=df['Sales'])\n",
    "plt.title('Boxplot of Sales')\n",
    "plt.xlabel('Sales')\n",
    "plt.show()"
   ],
   "metadata": {
    "collapsed": false,
    "ExecuteTime": {
     "end_time": "2024-10-17T12:24:14.837774200Z",
     "start_time": "2024-10-17T11:07:27.617473Z"
    }
   },
   "id": "f57458eccf678995",
   "outputs": [
    {
     "data": {
      "text/plain": [
       "<Figure size 1000x300 with 1 Axes>"
      ],
      "image/png": "[encoded data removed]"
     },
     "metadata": {},
     "output_type": "display_data"
    }
   ],
   "execution_count": 166
  },
  {
   "cell_type": "code",
   "source": [
    "# Вычисление статистики\n",
    "mean_sales = df['Sales'].mean()\n",
    "std_sales = df['Sales'].std()\n",
    "\n",
    "# Определение границ для нормального распределения\n",
    "lower_bound = mean_sales - 3 * std_sales\n",
    "upper_bound = mean_sales + 3 * std_sales\n",
    "\n",
    "display(lower_bound.round(), upper_bound.round())\n",
    "display(df['Sales'].max(), df['Sales'].min())\n",
    "\n",
    "# Удаление выбросов\n",
    "df_filtered = df[(df['Sales'] >= lower_bound) & (df['Sales'] <= upper_bound)]"
   ],
   "metadata": {
    "collapsed": false,
    "ExecuteTime": {
     "end_time": "2024-10-17T12:24:14.838823700Z",
     "start_time": "2024-10-17T11:07:27.809980Z"
    }
   },
   "id": "9c23141311a3730b",
   "outputs": [
    {
     "data": {
      "text/plain": [
       "np.float64(-22288.0)"
      ]
     },
     "metadata": {},
     "output_type": "display_data"
    },
    {
     "data": {
      "text/plain": [
       "np.float64(67227.0)"
      ]
     },
     "metadata": {},
     "output_type": "display_data"
    },
    {
     "data": {
      "text/plain": [
       "np.float64(89916.84)"
      ]
     },
     "metadata": {},
     "output_type": "display_data"
    },
    {
     "data": {
      "text/plain": [
       "np.float64(-38855.65)"
      ]
     },
     "metadata": {},
     "output_type": "display_data"
    }
   ],
   "execution_count": 167
  },
  {
   "cell_type": "code",
   "source": [
    "df_filtered"
   ],
   "metadata": {
    "collapsed": false,
    "ExecuteTime": {
     "end_time": "2024-10-17T12:24:14.838823700Z",
     "start_time": "2024-10-17T11:07:27.832100Z"
    }
   },
   "id": "7d602fcb5a1ad088",
   "outputs": [
    {
     "data": {
      "text/plain": [
       "        ID Order Date     Class       Region Sub-Category      Sales\n",
       "0      646 2018-12-30  Стандарт         Урал   Appliances  37229.080\n",
       "1      907 2018-12-30  Стандарт  Владивосток    Bookcases  20994.610\n",
       "2      908 2018-12-30  Стандарт  Владивосток       Phones  42133.860\n",
       "4     1297 2018-12-30  Стандарт   Калиниград      Binders  28781.130\n",
       "5     1298 2018-12-30  Стандарт   Калиниград      Binders   7366.876\n",
       "...    ...        ...       ...          ...          ...        ...\n",
       "9795  1760 2015-01-05  Стандарт  Владивосток          Art  17278.944\n",
       "9796   740 2015-01-04  Стандарт         Урал       Labels  15246.050\n",
       "9797   741 2015-01-04  Стандарт         Урал      Storage  20415.810\n",
       "9798   742 2015-01-04  Стандарт         Урал      Binders   4559.085\n",
       "9799  7981 2015-01-03  Стандарт         Урал        Paper  11726.470\n",
       "\n",
       "[9639 rows x 6 columns]"
      ],
      "text/html": [
       "<div>\n",
       "<style scoped>\n",
       "    .dataframe tbody tr th:only-of-type {\n",
       "        vertical-align: middle;\n",
       "    }\n",
       "\n",
       "    .dataframe tbody tr th {\n",
       "        vertical-align: top;\n",
       "    }\n",
       "\n",
       "    .dataframe thead th {\n",
       "        text-align: right;\n",
       "    }\n",
       "</style>\n",
       "<table border=\"1\" class=\"dataframe\">\n",
       "  <thead>\n",
       "    <tr style=\"text-align: right;\">\n",
       "      <th></th>\n",
       "      <th>ID</th>\n",
       "      <th>Order Date</th>\n",
       "      <th>Class</th>\n",
       "      <th>Region</th>\n",
       "      <th>Sub-Category</th>\n",
       "      <th>Sales</th>\n",
       "    </tr>\n",
       "  </thead>\n",
       "  <tbody>\n",
       "    <tr>\n",
       "      <th>0</th>\n",
       "      <td>646</td>\n",
       "      <td>2018-12-30</td>\n",
       "      <td>Стандарт</td>\n",
       "      <td>Урал</td>\n",
       "      <td>Appliances</td>\n",
       "      <td>37229.080</td>\n",
       "    </tr>\n",
       "    <tr>\n",
       "      <th>1</th>\n",
       "      <td>907</td>\n",
       "      <td>2018-12-30</td>\n",
       "      <td>Стандарт</td>\n",
       "      <td>Владивосток</td>\n",
       "      <td>Bookcases</td>\n",
       "      <td>20994.610</td>\n",
       "    </tr>\n",
       "    <tr>\n",
       "      <th>2</th>\n",
       "      <td>908</td>\n",
       "      <td>2018-12-30</td>\n",
       "      <td>Стандарт</td>\n",
       "      <td>Владивосток</td>\n",
       "      <td>Phones</td>\n",
       "      <td>42133.860</td>\n",
       "    </tr>\n",
       "    <tr>\n",
       "      <th>4</th>\n",
       "      <td>1297</td>\n",
       "      <td>2018-12-30</td>\n",
       "      <td>Стандарт</td>\n",
       "      <td>Калиниград</td>\n",
       "      <td>Binders</td>\n",
       "      <td>28781.130</td>\n",
       "    </tr>\n",
       "    <tr>\n",
       "      <th>5</th>\n",
       "      <td>1298</td>\n",
       "      <td>2018-12-30</td>\n",
       "      <td>Стандарт</td>\n",
       "      <td>Калиниград</td>\n",
       "      <td>Binders</td>\n",
       "      <td>7366.876</td>\n",
       "    </tr>\n",
       "    <tr>\n",
       "      <th>...</th>\n",
       "      <td>...</td>\n",
       "      <td>...</td>\n",
       "      <td>...</td>\n",
       "      <td>...</td>\n",
       "      <td>...</td>\n",
       "      <td>...</td>\n",
       "    </tr>\n",
       "    <tr>\n",
       "      <th>9795</th>\n",
       "      <td>1760</td>\n",
       "      <td>2015-01-05</td>\n",
       "      <td>Стандарт</td>\n",
       "      <td>Владивосток</td>\n",
       "      <td>Art</td>\n",
       "      <td>17278.944</td>\n",
       "    </tr>\n",
       "    <tr>\n",
       "      <th>9796</th>\n",
       "      <td>740</td>\n",
       "      <td>2015-01-04</td>\n",
       "      <td>Стандарт</td>\n",
       "      <td>Урал</td>\n",
       "      <td>Labels</td>\n",
       "      <td>15246.050</td>\n",
       "    </tr>\n",
       "    <tr>\n",
       "      <th>9797</th>\n",
       "      <td>741</td>\n",
       "      <td>2015-01-04</td>\n",
       "      <td>Стандарт</td>\n",
       "      <td>Урал</td>\n",
       "      <td>Storage</td>\n",
       "      <td>20415.810</td>\n",
       "    </tr>\n",
       "    <tr>\n",
       "      <th>9798</th>\n",
       "      <td>742</td>\n",
       "      <td>2015-01-04</td>\n",
       "      <td>Стандарт</td>\n",
       "      <td>Урал</td>\n",
       "      <td>Binders</td>\n",
       "      <td>4559.085</td>\n",
       "    </tr>\n",
       "    <tr>\n",
       "      <th>9799</th>\n",
       "      <td>7981</td>\n",
       "      <td>2015-01-03</td>\n",
       "      <td>Стандарт</td>\n",
       "      <td>Урал</td>\n",
       "      <td>Paper</td>\n",
       "      <td>11726.470</td>\n",
       "    </tr>\n",
       "  </tbody>\n",
       "</table>\n",
       "<p>9639 rows × 6 columns</p>\n",
       "</div>"
      ]
     },
     "execution_count": 168,
     "metadata": {},
     "output_type": "execute_result"
    }
   ],
   "execution_count": 168
  },
  {
   "cell_type": "code",
   "source": [
    "# Построение boxplot после удаления выбросов\n",
    "plt.figure(figsize=(10, 6))\n",
    "\n",
    "plt.subplot(2,1,1)\n",
    "sns.boxplot(x=df['Sales'])\n",
    "plt.title('Boxplot of Sales(Before Removing Outliers)')\n",
    "plt.xlabel('Sales')\n",
    "\n",
    "plt.subplot(2,1,2)\n",
    "sns.boxplot(x=df_filtered['Sales'])\n",
    "plt.title('Boxplot of Sales (After Removing Outliers)')\n",
    "plt.xlabel('Sales')\n",
    "plt.tight_layout()"
   ],
   "metadata": {
    "collapsed": false,
    "ExecuteTime": {
     "end_time": "2024-10-17T12:24:14.840822300Z",
     "start_time": "2024-10-17T11:07:27.868917Z"
    }
   },
   "id": "3c97d36b545383c2",
   "outputs": [
    {
     "data": {
      "text/plain": [
       "<Figure size 1000x600 with 2 Axes>"
      ],
      "image/png": "[encoded data removed]"
     },
     "metadata": {},
     "output_type": "display_data"
    }
   ],
   "execution_count": 169
  },
  {
   "cell_type": "markdown",
   "source": "## Задание 3",
   "metadata": {
    "collapsed": false
   },
   "id": "730b82d43b824968"
  },
  {
   "metadata": {},
   "cell_type": "markdown",
   "source": [
    "## Для этого задания необходимо разбить все покупки на n-нное количество групп “Sale_group” (Допустим маленькие продажи, средние и высокие) на основе Sales\n",
    "Сгруппировать данные на основе региона и группы продаж (Region, Sale_group). Определить основные тенденции и паттерны. Выделить наиболее «прибыльную» группу.\n"
   ],
   "id": "4cd0a7fdf2117588"
  },
  {
   "cell_type": "code",
   "source": [
    "bins = np.linspace(df_filtered['Sales'].min(), df_filtered['Sales'].max(), 4)\n",
    "labels = ['Low', 'Medium', 'High']\n",
    "df_filtered['Sale_group'] = pd.cut(df_filtered['Sales'], bins=bins, labels=labels)"
   ],
   "metadata": {
    "collapsed": false,
    "ExecuteTime": {
     "end_time": "2024-10-17T12:24:14.841819100Z",
     "start_time": "2024-10-17T11:07:28.253066Z"
    }
   },
   "id": "4f6f3d308be5f5dd",
   "outputs": [],
   "execution_count": 170
  },
  {
   "cell_type": "code",
   "source": [
    "grouped_df = df_filtered.groupby(['Region', 'Sale_group'])['Sales'].sum().reset_index()\n",
    "grouped_df"
   ],
   "metadata": {
    "collapsed": false,
    "ExecuteTime": {
     "end_time": "2024-10-17T12:24:14.844383500Z",
     "start_time": "2024-10-17T11:07:28.260431Z"
    }
   },
   "id": "612768d6bbce15af",
   "outputs": [
    {
     "data": {
      "text/plain": [
       "         Region Sale_group         Sales\n",
       "0   Владивосток        Low  1.548351e+06\n",
       "1   Владивосток     Medium  4.111423e+07\n",
       "2   Владивосток       High  1.982233e+07\n",
       "3    Калиниград        Low  1.562108e+06\n",
       "4    Калиниград     Medium  4.731381e+07\n",
       "5    Калиниград       High  2.090657e+07\n",
       "6        Москва        Low  8.765556e+05\n",
       "7        Москва     Medium  2.362419e+07\n",
       "8        Москва       High  1.143538e+07\n",
       "9          Урал        Low  1.252957e+06\n",
       "10         Урал     Medium  3.413199e+07\n",
       "11         Урал       High  1.515116e+07"
      ],
      "text/html": [
       "<div>\n",
       "<style scoped>\n",
       "    .dataframe tbody tr th:only-of-type {\n",
       "        vertical-align: middle;\n",
       "    }\n",
       "\n",
       "    .dataframe tbody tr th {\n",
       "        vertical-align: top;\n",
       "    }\n",
       "\n",
       "    .dataframe thead th {\n",
       "        text-align: right;\n",
       "    }\n",
       "</style>\n",
       "<table border=\"1\" class=\"dataframe\">\n",
       "  <thead>\n",
       "    <tr style=\"text-align: right;\">\n",
       "      <th></th>\n",
       "      <th>Region</th>\n",
       "      <th>Sale_group</th>\n",
       "      <th>Sales</th>\n",
       "    </tr>\n",
       "  </thead>\n",
       "  <tbody>\n",
       "    <tr>\n",
       "      <th>0</th>\n",
       "      <td>Владивосток</td>\n",
       "      <td>Low</td>\n",
       "      <td>1.548351e+06</td>\n",
       "    </tr>\n",
       "    <tr>\n",
       "      <th>1</th>\n",
       "      <td>Владивосток</td>\n",
       "      <td>Medium</td>\n",
       "      <td>4.111423e+07</td>\n",
       "    </tr>\n",
       "    <tr>\n",
       "      <th>2</th>\n",
       "      <td>Владивосток</td>\n",
       "      <td>High</td>\n",
       "      <td>1.982233e+07</td>\n",
       "    </tr>\n",
       "    <tr>\n",
       "      <th>3</th>\n",
       "      <td>Калиниград</td>\n",
       "      <td>Low</td>\n",
       "      <td>1.562108e+06</td>\n",
       "    </tr>\n",
       "    <tr>\n",
       "      <th>4</th>\n",
       "      <td>Калиниград</td>\n",
       "      <td>Medium</td>\n",
       "      <td>4.731381e+07</td>\n",
       "    </tr>\n",
       "    <tr>\n",
       "      <th>5</th>\n",
       "      <td>Калиниград</td>\n",
       "      <td>High</td>\n",
       "      <td>2.090657e+07</td>\n",
       "    </tr>\n",
       "    <tr>\n",
       "      <th>6</th>\n",
       "      <td>Москва</td>\n",
       "      <td>Low</td>\n",
       "      <td>8.765556e+05</td>\n",
       "    </tr>\n",
       "    <tr>\n",
       "      <th>7</th>\n",
       "      <td>Москва</td>\n",
       "      <td>Medium</td>\n",
       "      <td>2.362419e+07</td>\n",
       "    </tr>\n",
       "    <tr>\n",
       "      <th>8</th>\n",
       "      <td>Москва</td>\n",
       "      <td>High</td>\n",
       "      <td>1.143538e+07</td>\n",
       "    </tr>\n",
       "    <tr>\n",
       "      <th>9</th>\n",
       "      <td>Урал</td>\n",
       "      <td>Low</td>\n",
       "      <td>1.252957e+06</td>\n",
       "    </tr>\n",
       "    <tr>\n",
       "      <th>10</th>\n",
       "      <td>Урал</td>\n",
       "      <td>Medium</td>\n",
       "      <td>3.413199e+07</td>\n",
       "    </tr>\n",
       "    <tr>\n",
       "      <th>11</th>\n",
       "      <td>Урал</td>\n",
       "      <td>High</td>\n",
       "      <td>1.515116e+07</td>\n",
       "    </tr>\n",
       "  </tbody>\n",
       "</table>\n",
       "</div>"
      ]
     },
     "execution_count": 171,
     "metadata": {},
     "output_type": "execute_result"
    }
   ],
   "execution_count": 171
  },
  {
   "cell_type": "code",
   "source": [
    "plt.figure(figsize=(12, 6))\n",
    "sns.barplot(x='Region', y='Sales', hue='Sale_group', data=grouped_df)\n",
    "plt.title('Sales by Region and Sale Group')\n",
    "plt.xlabel('Region')\n",
    "plt.ylabel('Total Sales')\n",
    "plt.legend(title='Sale Group')\n",
    "plt.xticks(rotation=45) \n",
    "plt.tight_layout() \n",
    "plt.show()"
   ],
   "metadata": {
    "collapsed": false,
    "ExecuteTime": {
     "end_time": "2024-10-17T12:24:14.846348900Z",
     "start_time": "2024-10-17T11:07:28.281542Z"
    }
   },
   "id": "9ac36a97e02ee80b",
   "outputs": [
    {
     "data": {
      "text/plain": [
       "<Figure size 1200x600 with 1 Axes>"
      ],
      "image/png": "[encoded data removed]"
     },
     "metadata": {},
     "output_type": "display_data"
    }
   ],
   "execution_count": 172
  },
  {
   "cell_type": "code",
   "source": [
    "total_sales_by_group = grouped_df.groupby('Sale_group')['Sales'].sum()\n",
    "most_profitable_group = total_sales_by_group.idxmax()\n",
    "most_profitable_group"
   ],
   "metadata": {
    "collapsed": false,
    "ExecuteTime": {
     "end_time": "2024-10-17T12:24:14.847348400Z",
     "start_time": "2024-10-17T11:07:28.535214Z"
    }
   },
   "id": "c43c4f0ecc0a3b2d",
   "outputs": [
    {
     "data": {
      "text/plain": [
       "'Medium'"
      ]
     },
     "execution_count": 173,
     "metadata": {},
     "output_type": "execute_result"
    }
   ],
   "execution_count": 173
  },
  {
   "cell_type": "code",
   "source": [
    "most_profitable = grouped_df[grouped_df['Sale_group'] == most_profitable_group]\n",
    "most_profitable"
   ],
   "metadata": {
    "collapsed": false,
    "ExecuteTime": {
     "end_time": "2024-10-17T12:24:14.847348400Z",
     "start_time": "2024-10-17T11:07:28.544204Z"
    }
   },
   "id": "3990617df1f44aef",
   "outputs": [
    {
     "data": {
      "text/plain": [
       "         Region Sale_group         Sales\n",
       "1   Владивосток     Medium  4.111423e+07\n",
       "4    Калиниград     Medium  4.731381e+07\n",
       "7        Москва     Medium  2.362419e+07\n",
       "10         Урал     Medium  3.413199e+07"
      ],
      "text/html": [
       "<div>\n",
       "<style scoped>\n",
       "    .dataframe tbody tr th:only-of-type {\n",
       "        vertical-align: middle;\n",
       "    }\n",
       "\n",
       "    .dataframe tbody tr th {\n",
       "        vertical-align: top;\n",
       "    }\n",
       "\n",
       "    .dataframe thead th {\n",
       "        text-align: right;\n",
       "    }\n",
       "</style>\n",
       "<table border=\"1\" class=\"dataframe\">\n",
       "  <thead>\n",
       "    <tr style=\"text-align: right;\">\n",
       "      <th></th>\n",
       "      <th>Region</th>\n",
       "      <th>Sale_group</th>\n",
       "      <th>Sales</th>\n",
       "    </tr>\n",
       "  </thead>\n",
       "  <tbody>\n",
       "    <tr>\n",
       "      <th>1</th>\n",
       "      <td>Владивосток</td>\n",
       "      <td>Medium</td>\n",
       "      <td>4.111423e+07</td>\n",
       "    </tr>\n",
       "    <tr>\n",
       "      <th>4</th>\n",
       "      <td>Калиниград</td>\n",
       "      <td>Medium</td>\n",
       "      <td>4.731381e+07</td>\n",
       "    </tr>\n",
       "    <tr>\n",
       "      <th>7</th>\n",
       "      <td>Москва</td>\n",
       "      <td>Medium</td>\n",
       "      <td>2.362419e+07</td>\n",
       "    </tr>\n",
       "    <tr>\n",
       "      <th>10</th>\n",
       "      <td>Урал</td>\n",
       "      <td>Medium</td>\n",
       "      <td>3.413199e+07</td>\n",
       "    </tr>\n",
       "  </tbody>\n",
       "</table>\n",
       "</div>"
      ]
     },
     "execution_count": 174,
     "metadata": {},
     "output_type": "execute_result"
    }
   ],
   "execution_count": 174
  }
 ],
 "metadata": {
  "kernelspec": {
   "display_name": "Python 3",
   "language": "python",
   "name": "python3"
  },
  "language_info": {
   "codemirror_mode": {
    "name": "ipython",
    "version": 2
   },
   "file_extension": ".py",
   "mimetype": "text/x-python",
   "name": "python",
   "nbconvert_exporter": "python",
   "pygments_lexer": "ipython2",
   "version": "2.7.6"
  }
 },
 "nbformat": 4,
 "nbformat_minor": 5
}
